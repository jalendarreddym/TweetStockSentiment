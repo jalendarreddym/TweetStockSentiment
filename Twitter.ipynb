{
 "cells": [
  {
   "cell_type": "markdown",
   "metadata": {},
   "source": [
    "# Analyzing Stock Market Sentiment Through Twitter Data"
   ]
  },
  {
   "cell_type": "markdown",
   "metadata": {},
   "source": [
    "# Jalendar Reddy Maligireddy"
   ]
  },
  {
   "cell_type": "markdown",
   "metadata": {},
   "source": [
    "# Importing Required packages"
   ]
  },
  {
   "cell_type": "code",
   "execution_count": 1,
   "metadata": {
    "id": "NJKVNJzfpVTV"
   },
   "outputs": [],
   "source": [
    "import tweepy\n",
    "import re\n",
    "import nltk\n",
    "from nltk.sentiment import SentimentIntensityAnalyzer\n",
    "from nltk.stem import WordNetLemmatizer\n",
    "from nltk.corpus import stopwords\n",
    "from nltk.tokenize import word_tokenize\n",
    "from sklearn.feature_extraction.text import TfidfVectorizer\n",
    "from sklearn.pipeline import make_pipeline\n",
    "from sklearn.naive_bayes import MultinomialNB\n",
    "from sklearn.model_selection import train_test_split\n",
    "from sklearn.metrics import classification_report\n",
    "\n",
    "import pandas as pd\n",
    "import numpy as np\n",
    "import matplotlib.pyplot as plt\n",
    "import seaborn as sns\n",
    "from sklearn.metrics import confusion_matrix\n",
    "\n",
    "from sklearn.metrics import accuracy_score, f1_score, recall_score, precision_score\n",
    "\n"
   ]
  },
  {
   "cell_type": "markdown",
   "metadata": {},
   "source": [
    "# API credentials"
   ]
  },
  {
   "cell_type": "code",
   "execution_count": 2,
   "metadata": {
    "id": "rPt5iyUdpgQc"
   },
   "outputs": [],
   "source": [
    "\n",
    "# Your API credentials\n",
    "consumer_key= 'Your_key'\n",
    "consumer_secret= 'Your_key'\n",
    "access_token= 'Your_key'\n",
    "access_token_secret= 'Your_key'\n"
   ]
  },
  {
   "cell_type": "code",
   "execution_count": 3,
   "metadata": {
    "id": "3dh4trdFs4sM"
   },
   "outputs": [],
   "source": [
    "\n",
    "# Authenticate API\n",
    "auth = tweepy.OAuthHandler(consumer_key, consumer_secret)\n",
    "auth.set_access_token(access_token, access_token_secret)\n",
    "api = tweepy.API(auth, wait_on_rate_limit=True)\n"
   ]
  },
  {
   "cell_type": "markdown",
   "metadata": {},
   "source": [
    "authenticates the user's access to Twitter's API using their consumer key, consumer secret, access token, and access token secret. Once authenticated, it initializes a Tweepy API object with the authentication credentials, allowing the user to make authorized requests to the Twitter API. The wait_on_rate_limit parameter specifies whether or not the API should automatically wait for rate limits to expire before making further requests, which helps to avoid being rate limited by the Twitter API."
   ]
  },
  {
   "cell_type": "code",
   "execution_count": 4,
   "metadata": {
    "id": "pRmZtY17tjpa"
   },
   "outputs": [
    {
     "name": "stderr",
     "output_type": "stream",
     "text": [
      "Rate limit reached. Sleeping for: 212\n"
     ]
    }
   ],
   "source": [
    "\n",
    "# Collect tweets\n",
    "keywords = ['yahoofinance and tesla', 'tesla', 'TSLA']\n",
    "limit = 1000\n",
    "\n",
    "tweets_text = []\n",
    "\n",
    "for keyword in keywords:\n",
    "    tweets = tweepy.Cursor(api.search_tweets, q=keyword, tweet_mode='extended').items(limit)\n",
    "    for tweet in tweets:\n",
    "        tweets_text.append(tweet.full_text)\n"
   ]
  },
  {
   "cell_type": "markdown",
   "metadata": {},
   "source": [
    "By using the Tweepy library to authenticate API credentials and collect tweets containing specific keywords. The keywords are 'yahoofinance and tesla', 'tesla', and 'TSLA'. It collects up to 1000 tweets for each keyword, by using the tweepy.Cursor() method to iterate over search results pages returned by the Twitter API. For each tweet found, it extracts the full text of the tweet and appends it to a list called \n",
    "tweets_text."
   ]
  },
  {
   "cell_type": "code",
   "execution_count": 5,
   "metadata": {},
   "outputs": [
    {
     "data": {
      "text/plain": [
       "['RT @ihors3: I enjoyed talking #Tesla on Yahoo Finance this morning with Julie and Brad. $TSLA @S3Partners @elonmusk @YahooFinance  https://…',\n",
       " 'RT @SPGlobalRatings: Discussing Tesla earnings expectations, EVs’ price cuts and their market outlook, Nishit Madlani, Autos Senior Directo…',\n",
       " 'RT @ihors3: I enjoyed talking #Tesla on Yahoo Finance this morning with Julie and Brad. $TSLA @S3Partners @elonmusk @YahooFinance  https://…',\n",
       " 'I enjoyed talking #Tesla on Yahoo Finance this morning with Julie and Brad. $TSLA @S3Partners @elonmusk @YahooFinance  https://t.co/jSbis1AWvX',\n",
       " \"@YahooFinance @business Maybe prices are dropping because people cancelled their Tesla purchase because they don't want to drive around wearing a MAGA hat and Trump 2024 bumper stickers.\\n\\n@elonmusk chose his buyers by going there. FACT.\",\n",
       " \"RT @YahooFinance: Tesla stock sinks as Wall Street searches for 'gross margin' floor https://t.co/bl6G6c9TeV by @_JoshSchafer and @Pras_S $…\",\n",
       " 'RT @SPGlobalRatings: Discussing Tesla earnings expectations, EVs’ price cuts and their market outlook, Nishit Madlani, Autos Senior Directo…',\n",
       " \"RT @YahooFinance: What @BrianSozzi and @thebradsmith are looking for in $TSLA's earnings: \\n🗣️ Will Elon Musk speak? And if he does how much…\",\n",
       " \"RT @YahooFinance: What @BrianSozzi and @thebradsmith are looking for in $TSLA's earnings: \\n🗣️ Will Elon Musk speak? And if he does how much…\",\n",
       " 'And the biggest rocket explosion... There are days like this &gt; Stocks sink, Tesla plummets 9%: Stock market news today https://t.co/XymQ9etKUO via @YahooFinance',\n",
       " \"Who respects Musk's failures now? Today his rocket exploded ('But we got sooo much data!') and Tesla is down 8% after lousy results. And today at Twitter:  'Microsoft Removes Twitter From Ad Program; Musk Threatens Suit' https://t.co/GqlX8ez28P via @YahooFinance\",\n",
       " 'https://t.co/L8Uq86KdZ2 -   #Tesla #YouTube #yahoofinance  ROTH Capital Partners Senior Research Analyst Craig Irwin and RBC Capital Markets Analyst Tom Narayan join Yahoo Finance Live to discuss Tesla earnings, the EV maker’s sixth round of price cuts, the demand for EVs, and...',\n",
       " \"RT @YahooFinance: Tesla stock sinks as Wall Street searches for 'gross margin' floor https://t.co/bl6G6c9TeV by @_JoshSchafer and @Pras_S $…\",\n",
       " \"RT @YahooFinance: Tesla stock sinks as Wall Street searches for 'gross margin' floor https://t.co/bl6G6c9TeV by @_JoshSchafer and @Pras_S $…\",\n",
       " \"https://t.co/IEpU3uHWkJ -   #Tesla #IBM #youtube #yahoofinance  Yahoo Finance Live’s Brad Smith summarizes three key topics to watch for this morning including Tesla earnings, debt ceiling debate intensifying on Capitol Hill, and IBM's strong first quarter. Subscribe to Yahoo ...\",\n",
       " \"RT @YahooFinance: Tesla stock sinks as Wall Street searches for 'gross margin' floor https://t.co/bl6G6c9TeV by @_JoshSchafer and @Pras_S $…\",\n",
       " \"RT @YahooFinance: Tesla stock sinks as Wall Street searches for 'gross margin' floor https://t.co/bl6G6c9TeV by @_JoshSchafer and @Pras_S $…\",\n",
       " \"RT @YahooFinance: Tesla stock sinks as Wall Street searches for 'gross margin' floor https://t.co/bl6G6c9TeV by @_JoshSchafer and @Pras_S $…\",\n",
       " \"Tesla stock sinks as Wall Street searches for 'gross margin' floor https://t.co/bl6G6c9TeV by @_JoshSchafer and @Pras_S $TSLA https://t.co/Aq5nKooi4M\",\n",
       " 'テスラ株が先物で急落しています😯\\n決算発表の利益減が効いていますね。\\n\\n金融崩壊に比べれば誤差範囲のかすり傷でしょう😑\\n\\nTesla stock falls after Q1 revenue and profit miss estimates while gross margin dips to 19.3% on price cuts https://t.co/U80De2dnHx @YahooFinanceより',\n",
       " \"RT @YahooFinance: What @BrianSozzi and @thebradsmith are looking for in $TSLA's earnings: \\n🗣️ Will Elon Musk speak? And if he does how much…\",\n",
       " 'Oh No!\\n\\nTesla stock falls after Q1 revenue and profit miss estimates while gross margin dips to 19.3% on price cuts https://t.co/mRZ5VOAiCx via @YahooFinance',\n",
       " 'Discussing Tesla earnings expectations, EVs’ price cuts and their market outlook, Nishit Madlani, Autos Senior Director, @SPGlobalRatings joined @YahooFinance  to discuss with @thebradsmith and @juleshyman \\nWatch here: https://t.co/WYX8cc0hkw\\nLearn more: https://t.co/1ELEnRyOo0 https://t.co/5x6XmMxSSr',\n",
       " 'RT @ChaseSawman: @YahooFinance @GerberKawasaki Appreciate your thoughts on this. But I disagree that competition is close. Tesla moves 80%…',\n",
       " '@MarioAdabachy @NWMike @YahooFinance @GerberKawasaki He speaks for me, and obviously everyone else buying Tesla',\n",
       " '@NWMike @Douglasddecker @YahooFinance @GerberKawasaki 20% was a Tesla prediction, not just Wallstreet, and Tesla blew it. This is a negative and there is no other way to see it...',\n",
       " '@MarioAdabachy @Douglasddecker @YahooFinance @GerberKawasaki Off of what? Wall Street predictions? They still don’t know how to value Tesla. They look at what legacy auto does and says “Well Tesla is much smaller but they are a car company so they will do X.” Tesla does it their way and makes a killing.',\n",
       " 'RT @BrianSozzi: Live in seconds on @YahooFinance with some 🔥 post @Tesla earnings call analysis https://t.co/OTIS4EEQVg\\n\\n@thebradsmith and…',\n",
       " '@MarioAdabachy @Douglasddecker @YahooFinance @GerberKawasaki I never heard Tesla say that it’s not normal. They don’t operate like legacy auto. They operate lean and make changes on the fly. They want to bring sustainable vehicles to the masses while making a profit. They are doing that.',\n",
       " '@YahooFinance @GerberKawasaki As I buyer I have an incentive to put off buying a car if I think the prices will likely drop further.  I will also look at competitive offerings, and hold off on buying ANY competitive car that is not compelling at CURRENT prices, until I can no longer hold. @Tesla @elonmusk',\n",
       " 'Earnings call over and now lets go to @YahooFinance for the \"After the call\".\\nhttps://t.co/GKL9qZ5bRN',\n",
       " \"https://t.co/oEBejQPh82 -   #Tesla #elonmusk #youtube #yahoofinance  Ronald Jewsikow, Guggenheim Securities Vice President – Automotive Equity Research, discusses Tesla's Q1 earnings report and details the potential ramifications of the companies EV price cuts with Yahoo Finan...\",\n",
       " 'Live in seconds on @YahooFinance with some 🔥 post @Tesla earnings call analysis https://t.co/OTIS4EEQVg\\n\\n@thebradsmith and I on the point. https://t.co/ITepA3TmZ0',\n",
       " '@YahooFinance @GerberKawasaki Appreciate your thoughts on this. But I disagree that competition is close. Tesla moves 80% of the electric vehicle market. 20Bonhand They are also the only cash positive company and they’re sole focus is electric innovation. Second is Elon’s part time is much closer to full time',\n",
       " '@YahooFinance @GerberKawasaki If you want a Tesla or anything for that matter you will only wait so long before you commit. Eventually you buy and feel good about it and accept that it could go down. It’s the same way with electronics eventually you hit your buy point.  Worst case it delays a purchase.',\n",
       " \"https://t.co/yhM49cDCjx -   #Tesla #youtube #yahoofinance  Yahoo Finance's Brad Smith joins the Live show to discuss Tesla's falling stock followings its first-quarter earnings report, while also commenting on the relationship between EV price reductions and consumer trends. S...\",\n",
       " \"https://t.co/NQ5ea5djAR -   #Tesla #youtube #elonmusk #yahoofinance  Gerber Kawasaki Wealth &amp; Investment Management CEO Ross Gerber joins Yahoo Finance Live anchors Dave Briggs and Seana Smith to preview Tesla's earnings and discuss the outlook for the EV maker. Subscribe to Y...\",\n",
       " '@YahooFinance @GerberKawasaki I don’t agree with this analysis. My assumption is demand is insanely high due to Tesla’s vehicle, battery and solar tiles performance and safety. The reason Tesla volume sales are down is affordability. As soon as a Tesla becomes affordable it will be purchased without delay.',\n",
       " 'RT @MylesUdland: $TSLA: \"Our near-term pricing strategy considers a long-term view on per vehicle profitability given the potential lifetim…',\n",
       " \"RT @YahooFinance: What @BrianSozzi and @thebradsmith are looking for in $TSLA's earnings: \\n🗣️ Will Elon Musk speak? And if he does how much…\",\n",
       " \"RT @YahooFinance: What @BrianSozzi and @thebradsmith are looking for in $TSLA's earnings: \\n🗣️ Will Elon Musk speak? And if he does how much…\",\n",
       " \"RT @YahooFinance: What @BrianSozzi and @thebradsmith are looking for in $TSLA's earnings: \\n🗣️ Will Elon Musk speak? And if he does how much…\",\n",
       " \"RT @YahooFinance: What @BrianSozzi and @thebradsmith are looking for in $TSLA's earnings: \\n🗣️ Will Elon Musk speak? And if he does how much…\",\n",
       " \"What @BrianSozzi and @thebradsmith are looking for in $TSLA's earnings: \\n🗣️ Will Elon Musk speak? And if he does how much will he mention AI?\\n💵 How much money did Tesla make after cutting prices? \\n\\nTune in live to break down all the highlights here: https://t.co/N3BK1nspYF https://t.co/T8ufkx0s0M\",\n",
       " 'https://t.co/B9Azaqe8TG -   #Tesla #youtube #yahoofinance  S&amp;P Global Ratings Senior Director Nishit Madlani joins Yahoo Finance Live anchors Julie Hyman and Brad Smith to discuss the expectations for Tesla earnings, the EV automaker’s recent round of price cuts, and the outlo...',\n",
       " 'Zacks Investment Ideas feature highlights: JPMorgan, Wells Fargo, Citigroup, Netflix and Tesla https://t.co/h6PzXtP4Go via @YahooFinance',\n",
       " 'Big names on the earnings \"clock\" this week: Tesla, AT&amp;T, Goldman Sachs, Netflix, Charles Schwab and more. https://t.co/7PzPCNEOrO @YahooFinance @barronsonline #business #earnings $TSLA $T $GS $NFLX $SCHW https://t.co/QqNaHYJ4ba',\n",
       " '@o1ness_ @YahooFinance @Pras_S Isn’t the tesla a super smart car with advanced sensing capability ? Can’t even detect and warn drive about collision of the door. What a scam 😂',\n",
       " '@Pras_S @YahooFinance And if you were honest with them, you’d start off by telling them the Truth: Tesla is 5 years out in front of everyone else. You would also note Tesla’s Master Plan 3 is the most actionable decarbonization plan on Earth … https://t.co/26w0kwCe86. https://t.co/Hx10vJZKDC',\n",
       " '@YahooFinance @Pras_S Yahoo - Thanks (for supporting Twitter - X)! Typical liber attack on Elon and Tesla but at least you are paying to provide this and most Tesla supporters find it humorous!',\n",
       " '@YahooFinance @Pras_S No thanks. My family has 3 Tesla’s with another on order. Only the best and safest for my family.',\n",
       " '@YahooFinance Tesla isn\\'t \"Ahead of the Competition\", Tesla is Dragging legacy automakers into the future with them. And they\\'re kicking and screaming, all the way from the 19th century, through the 20th, and into the 21st.',\n",
       " '@Pras_S @YahooFinance Pras, I honestly believe you’d get more clicks and views on your stories if you gave Tesla a fair shake. It must be exhausting pedalling the same old tired hit pieces. Deep down you know, no one’s providing more value than Tesla and it’s not even close.',\n",
       " \"@Pras_S @YahooFinance Pras, on a personal level do you journalists believe what you say about Tesla or you're just towing the company line and satisfying your advertisers? I'm curious so I can separate your personal intelligence from the ignorance of the media your represent.\",\n",
       " \"@YahooFinance @Pras_S Why wouldn't you want a Tesla? Saftey, software, battery/charging are the most important things and this is where Tesla excels.\",\n",
       " '@Pras_S @YahooFinance Pras. Is another fake investment advisor from fake  yahoo finance media.   Hey pras how much money is mary barra and ford ceo paying you  and your cronies to tell lies about tesla. Your a joke liar',\n",
       " \"@YahooFinance Tesla isn't looking over their shoulder...they are looking to Mars and beyond. Tesla isn't just a car company!\",\n",
       " \"JUST IN: $TSLA The Tesla Effect Is Real and There's No Denying It https://t.co/4AebESXjlR\\n    \\n #MWN #Stocks @a10thousandth @YahooFinance @Brian_Stoffel_  $UP $TREN $BNKD $BA\",\n",
       " \"Biden’s gift to Elon Musk and Tesla https://t.co/0kYWLrydg1 via @YahooFinance How about 134 million stop using Tweeter and buying Tesla's!\",\n",
       " 'Government-funded @ElonMusk got more government money for SpaceX and Tesla than @NPR gets. https://t.co/shU0YNCQvw via @YahooFinance',\n",
       " 'Biden’s gift to Elon Musk and Tesla https://t.co/dXbT7MjgyJ via @YahooFinance',\n",
       " 'Biden’s gift to Elon Musk and Tesla https://t.co/kFNECzYzUU via @YahooFinance',\n",
       " 'Biden’s gift to Elon Musk and Tesla https://t.co/9NadxQeWRU via @YahooFinance A minute gesture when confronted to the giant gift Elon Musk and his marvellous minds are giving to men kind for centuries and even milleniums to come',\n",
       " \"Ford, General Motors, and Nissan are gunning for Tesla. Here's why Elon Musk should be worried. https://t.co/DsGMh4udLY\",\n",
       " \"@YahooFinance @Wedbush @DivesTech I respectfully disagree with the notion that Giga Shanghai is the heart and lungs of Tesla. One only needs to consider  Giga Texas, Giga Berlin, Lathrop, and the forthcoming facility in Mexico, to reconsider the location of Tesla's heart and lungs\",\n",
       " 'Column | Biden’s gift to Elon Musk &amp; Tesla: new rules for tailpipe emissions would sharply limit the pollution cars are allowed to emit pushing automakers to build far more electric vehicles and far fewer gasoline-powered ones. https://t.co/HS4CZV4Ni0 by @rickjnewman',\n",
       " 'Biden’s gift to Elon Musk and Tesla https://t.co/78Fi3HNXst via @YahooFinance',\n",
       " 'Biden’s gift to Elon Musk and Tesla https://t.co/2tQVt95i8N via @YahooFinance',\n",
       " 'Biden’s gift to Elon Musk and Tesla https://t.co/9NadxQeWRU via @YahooFinance Thanks Rick for the well balanced article on Tesla, undoubtedly the very first from yahoo finance. Keep it up, it is time for honest  journalism, please tell the other young one to conform.',\n",
       " \"@BrianSozzi @YahooFinance @SeanaNSmith Again :\\n\\n1. It's normal. Tesla has been alone for a while with Nissan and GM.\\n2. You're biased. Look a the absolute numbers, not %: the pie gets bigger.\\n3. Tesla is the only big automaker that didn't lose market share in 2022. Did you report that too? Oh, that's what I thought.\",\n",
       " \"@YahooFinance @SeanaNSmith 1. It's normal. It's been alone for a while with Nissan and GM.\\n2. You're biased. Look a the absolute numbers, not %: the pie gets bigger.\\n3. Tesla is the only big automaker that didn't lose market share in 2022. Did you report that too? Oh, that's what I thought.\",\n",
       " 'Why Tesla is losing its dominance in the EV market https://t.co/JmQ9klML6K via @YahooFinance Why is it that Tesla production, sales and profits are going from record to record, while competition are losing market shares and lag far behind in Tech?',\n",
       " '@YahooFinance @SeanaNSmith Not all manufacturers are represented. \\nTesla owns most of the best IP and despite leasing IP to others will hold the high ground for I expect a decade or more..',\n",
       " \"https://t.co/iPqVsF5N1S -   #Tesla #youtube #yahoofinance  Yahoo Finance's Pras Subramanian, Seana Smith, and Dave Briggs  discuss the latest sales numbers for Tesla. Subscribe to Yahoo Finance: https://t.co/hOmMpOLJAx  About Yahoo Finance:  At Yahoo Finance, you get free stoc...\",\n",
       " 'Really @YahooFinance\\nSo who is gaining? You love your FUD articles on #Tesla eh! How does it feel to be \"clickbait\" reporters?\\nhttps://t.co/Lx5LmDSbD3\\n\\nTesla\\'s EV market dominance is slipping as competitors roll out flashy new EV models and take direct aim at Tesla\\'s leadership.',\n",
       " '@YahooFinance Great problems for GM and Ford, while Tesla cannot build enough to satisfy demand.',\n",
       " 'Today’s top headlines: Tesla’s price cuts, Apple’s PC declines https://t.co/xFvHQ9HPtg via @YahooFinance  Your wish will be wrong again. Tesla goes from record Q to record Q. it has been doing it for 7 years with incremental 50% record production and deliveries. No slow demand.',\n",
       " 'RT @caslernoel: Elon Musk is not a genius, he lied about his academic credentials and took credit for other peoples work, most notable at T…',\n",
       " 'RT @AmoneyResists: The guy who set the Guinness world record for most wealth loss by anyone ever in January of this year just lost another…',\n",
       " '今年は育休取れないかもなぁ。\\nまぁ、出産予定日前後は休む予定だけど、、\\nなんとか、中抜けとかで切り抜けるしかないか😇\\n仕事的なと言うより、出費に関しては今の制度が変わらない限りどうにもならない😭',\n",
       " 'RT @caslernoel: Elon Musk is not a genius, he lied about his academic credentials and took credit for other peoples work, most notable at T…',\n",
       " 'RT @PoeticJ59274248: Twitter removes blue check marks…and SpaceX rocket explodes…and Tesla stock sinks. \\n\\nCoincidence or Karma?? https://t.…',\n",
       " 'Today is the day having the blue check mark is similar to buying a new Tesla.  😬',\n",
       " 'RT @samuel_garcias: Hoy conocimos la Gigafactory de Berlín. A un año de haber arrancado, produce 500 mil autos @Tesla y ya emplea a 10 mil…',\n",
       " 'RT @caslernoel: Elon Musk is not a genius, he lied about his academic credentials and took credit for other peoples work, most notable at T…',\n",
       " '@elonmusk Directo al mar 🤣.\\nPor cierto chicos, no crean lo que dice la @NASA, @SpaceX y las barrabasadas de este señor. Cuya verdadera intención de llamar @Tesla a su organización, es olvidar AL MAN GRANDE DE TODOS: @NIKOLATESLA. \\nLa tierra es plana. #flatearth',\n",
       " '@fuckyouiquit Yes, and I hear he plans to label Tesla government funded cars.',\n",
       " 'RT @NEWSMAX: White House claims probe into Hunter Biden has not been hindered by politics  https://t.co/dumK5TXtgm',\n",
       " '“#Musk exemplifies the danger at the intersection of #technology and #ego”\\n#ElonMusk’s Disastrous Week - The Atlantic https://t.co/dKkvzzyFYY',\n",
       " '@EmeJorge87 @carlosl_torres @josepileggi @CSEmelec Tu cerebro es corto. Con esa mentalidad retrograda por ejemplo no podria ser sponsor Formula 1, Texaco, Tesla. Sigue con tus chismes de cocinera que CSE no te necesita',\n",
       " 'RT @caslernoel: Elon Musk is not a genius, he lied about his academic credentials and took credit for other peoples work, most notable at T…',\n",
       " 'RT @caslernoel: Elon Musk is not a genius, he lied about his academic credentials and took credit for other peoples work, most notable at T…',\n",
       " 'RT @caslernoel: Elon Musk is not a genius, he lied about his academic credentials and took credit for other peoples work, most notable at T…',\n",
       " \"@Abrvhm @WholeMarsBlog Tesla is Tesla because of the products and the mission. Not because they don't advertise. This is so stupid.\",\n",
       " '@TESLA_is_TREX @herbertong Thanks!',\n",
       " \"RT @StockMKTNewz: JUST IN:\\n\\nCathie Wood and Ark Invest announced its updated Tesla $TSLA price target  \\n\\nArk's new expected value for Tesla…\",\n",
       " 'RT @skorusARK: Latest Tesla open source model from the team. \\n\\nPer the call last night and from our modeling, Tesla’s growth isn’t constrai…',\n",
       " \"@GerberKawasaki Ross while I agree with you on most things I'm not sure if marketing is the issue. Most people know what a Tesla is pretty well by now. Not quite sure if it'll help a whole lot. There's only so many people who can afford to buy a $50k+ vehicle.\",\n",
       " \"@gabbie_tesla I don’t pay for Twitter Blue,  but I don't block any people \\n🐕🚀🚀🌖 #DoOnlyGoodEveryday is the way\",\n",
       " 'RT @AJEnglish: Tesla’s shares sank nearly 10% on Thursday after Elon Musk signaled the electric vehicle maker will keep cutting prices to d…',\n",
       " 'RT @caslernoel: Elon Musk is not a genius, he lied about his academic credentials and took credit for other peoples work, most notable at T…',\n",
       " 'RT @KriptoEfsanesi: Kardeşim teslamı  teslim eder misiniz çekiliş yapacaz ortada araba yok  \\nLütfen öne alalım teslimat tarihini TESSKUR ed…',\n",
       " 'RT @TashaARK: 1/ Our latest Tesla price target is out! $2,000 per share in 2027. Check it out! https://t.co/ltnXj907JT Similar to last year…',\n",
       " 'RT @wealth: A dramatic 24 hours for Elon Musk has slashed his fortune by almost $13 billion, his biggest wealth wipeout this year https://t…',\n",
       " 'RT @caslernoel: Elon Musk is not a genius, he lied about his academic credentials and took credit for other peoples work, most notable at T…',\n",
       " 'RT @TechInsider: Electric Tesla-rival Polestar revealed a new, $60,000 SUV that has no rear window https://t.co/n6LjEZoU9X',\n",
       " 'RT @caslernoel: Elon Musk is not a genius, he lied about his academic credentials and took credit for other peoples work, most notable at T…',\n",
       " 'RT @Tesla: Minimal maintenance = less $ vs comparable ICE vehicles https://t.co/hAGV3jxABw',\n",
       " 'RT @MuellerSheWrote: I wonder what Elon calls his other failures. Tesla catch on fire? That’s Expeditious Impromptu Ignition. Has your soci…',\n",
       " '@GerberKawasaki Why is Tesla so expensive in Canada!! https://t.co/tBz5wuC1ri',\n",
       " '@freshjiva As a CFA, you should have some professional skepticism on whether Tesla’s cost base…is as they say…and maybe wonder why they’ve spent $17 billion on capex over the last 3 years for only 2 factories. \\nMaybe…just maybe, there is some accounting fuckery capitalizing opex… 😉',\n",
       " 'M. Warsavsky: \"Mi Tesla me dejo tirado. Tuve que ir en Uber a casa. Una actualización de software no solicitada. Dejé el coche en casa de mi amigo. Hay que retirarlo mañana por la mañana. Echando humo\". Es lo que tiene la obsolescencia programada, amigo: https://t.co/Y0OQoM2xeh https://t.co/BCtBE1tNpb',\n",
       " '@WholeMarsBlog It’s going to be tough for someone to shell out $15K for a $42K Tesla. That’s 40% additional cost.',\n",
       " 'RT @mel_thegreat: So, the rocket was just a Tesla in disguise?',\n",
       " 'RT @business: A dramatic 24 hours for Elon Musk has slashed his fortune by almost $13 billion, his biggest wealth wipeout this year https:/…',\n",
       " 'RT @caslernoel: Elon Musk is not a genius, he lied about his academic credentials and took credit for other peoples work, most notable at T…',\n",
       " '💕 https://t.co/vyf5LEHFA3',\n",
       " '@SBetschinger Wenn @elonmusk wirklich mehrfach mit mRNA geimpft ist wie er behauptet, wird ihn leider #plötzlichundunerwartet treffen. Wie eine Rakete die plötzlich explodiert. Wäre schade, aber seine Nachfolge hat er sicher nicht organisiert,  chaotisch wie er wirkt... Deswegen tesla shorten',\n",
       " 'Hey @Tesla could the windshield wiper button on the steering wheel of modern model 3 open up a scroll wheel windshield wiper speed adjust the way the model X and s to do?',\n",
       " \"RT @StockMKTNewz: JUST IN:\\n\\nCathie Wood and Ark Invest announced its updated Tesla $TSLA price target  \\n\\nArk's new expected value for Tesla…\",\n",
       " 'RT @caslernoel: Elon Musk is not a genius, he lied about his academic credentials and took credit for other peoples work, most notable at T…',\n",
       " '@elon can you add government-funded media to @KMBZradio they spew gov. propaganda and continue to talk trash about your character. I used to be a fan of their host but not anymore. I would rather turn the 📻 off and enjoy the Tesla road noise then listen to their bull 💩',\n",
       " 'RT @AmoneyResists: The guy who set the Guinness world record for most wealth loss by anyone ever in January of this year just lost another…',\n",
       " 'RT @cryptosile: Thor is right sometimes, even on $doge 😅🍻 keep fading those boring 1d calls!🥶\\n\\ncould we get another little pump pls @elonmu…',\n",
       " \"RT @Forbes: Tesla Stock Plunges As Analysts Warn Profit Margin 'Pain' Will Linger In Coming Quarters https://t.co/BXZ6bjF452 https://t.co/q…\",\n",
       " \"@BriannaWu @elonmusk @SpaceX Lol said Brianna, on Twitter🤡.  I'm getting on a plane rn, my Tesla's being charged at my destination 🙂.  I'll wait for NL 4.0 tho 😂\",\n",
       " \"RT @KnowledgeArchiv: Nikola Tesla is 16 and he's hanging over the side of a dam, screaming for help.\\n\\nJust before he let's go to fall on th…\",\n",
       " 'RT @Factschaser: Yet another new Tesla owner Musked! Enticed by price cuts, picks up a Model 3 that turns out to be a demo — buyer wasn’t a…',\n",
       " \"RT @StockMKTNewz: JUST IN:\\n\\nCathie Wood and Ark Invest announced its updated Tesla $TSLA price target  \\n\\nArk's new expected value for Tesla…\",\n",
       " 'RT @Tesla: Trip Planner now available in Tesla app https://t.co/k9YyLszAqu',\n",
       " 'RT @AmoneyResists: The guy who set the Guinness world record for most wealth loss by anyone ever in January of this year just lost another…',\n",
       " \"😃I'm better than Tesla 😃 https://t.co/GuP1760N37\",\n",
       " 'RT @dlberes: Honored to have written today’s edition of The Atlantic Daily, about Musk mania https://t.co/EDwLD3RKj2',\n",
       " '@elonmusk is allowing @dogecoin purchases through Tesla big step for @dogecoin',\n",
       " 'RT @caslernoel: Elon Musk is not a genius, he lied about his academic credentials and took credit for other peoples work, most notable at T…',\n",
       " 'RT @AmoneyResists: The guy who set the Guinness world record for most wealth loss by anyone ever in January of this year just lost another…',\n",
       " 'RT @wealth: A dramatic 24 hours for Elon Musk has slashed his fortune by almost $13 billion, his biggest wealth wipeout this year https://t…',\n",
       " '@babypepesol BDLjP3nCiNUuuZzqWewimseW3Yd435kq6NYuHTLhEeGc',\n",
       " 'RT @IBJIYONGI: Apartheid Clyde is gonna be trying to convince us that killing your users is good for business \\n\\nWhich is definitely an inte…',\n",
       " 'RT @GregAbbott_TX: The Tesla Cybertruck.\\n \\nTexas made.\\n\\nComing soon.',\n",
       " 'RT @caslernoel: Elon Musk is not a genius, he lied about his academic credentials and took credit for other peoples work, most notable at T…',\n",
       " 'RT @wealth: A dramatic 24 hours for Elon Musk has slashed his fortune by almost $13 billion, his biggest wealth wipeout this year https://t…',\n",
       " 'RT @wealth: A dramatic 24 hours for Elon Musk has slashed his fortune by almost $13 billion, his biggest wealth wipeout this year https://t…',\n",
       " \"@garyblack00 Not everyone can buy a Tesla. I own a condo, but no where and no way to plug in. I'd love to buy one but the infrastructure isn't here.\",\n",
       " '\"As CEO of SpaceX, Musk splits his attention between this and his duties as CEO of both Tesla and Twitter,\"  @dlberes writes. \"He has secured his spot as one of America’s most transfixing subjects, whose accomplishments are slopped over with failure.\" https://t.co/uRwZW6F7ai',\n",
       " \"😃I'm better than Tesla 😃 https://t.co/3up0glTILT\",\n",
       " \"Cathie Wood &amp; ARK's Expected Value For $TSLA In 2027: $2,000 Per Share @CathieDWood @ARKInvest @tesla\\n\\nWhat do you think?\\n\\nhttps://t.co/ZhUXK84dpm\",\n",
       " '@GerberKawasaki Hey Ross, what’s Tesla’s vision; we does it exist',\n",
       " 'RT @EmilioRose9: Tesla Stock Market crash 💥 💥💥💥 https://t.co/33arCynuCP',\n",
       " 'RT @caslernoel: Elon Musk is not a genius, he lied about his academic credentials and took credit for other peoples work, most notable at T…',\n",
       " 'Derek Grant to Tampa for that huge ass tesla coil #NHLTrade',\n",
       " \"😃I'm better than Tesla 😃 https://t.co/5SWczpHZm7\",\n",
       " '@teslascope @Tesla @Tesla_App_iOS Now they need to make it so so so much easier to locate and navigate to Superchargers. Like if I type in a city where there is a Supercharger, it should come up. And then if I am looking at the deets for a SC, there should be a simple Navigate button. @elonmusk @TeslaCharging',\n",
       " 'RT @golikehellmachi: his cars drive themselves into head-on traffic killing an unspecified (and extremely closely guarded) number of tesla…',\n",
       " 'RT @samuel_garcias: Hoy conocimos la Gigafactory de Berlín. A un año de haber arrancado, produce 500 mil autos @Tesla y ya emplea a 10 mil…',\n",
       " 'RT @wealth: A dramatic 24 hours for Elon Musk has slashed his fortune by almost $13 billion, his biggest wealth wipeout this year https://t…',\n",
       " \"😃I'm better than Tesla 😃 https://t.co/6PawdrFMn9\",\n",
       " '@MatthewDR @Tesla Air thruster for Ludicrious Plus mode 😁',\n",
       " 'RT @business: A dramatic 24 hours for Elon Musk has slashed his fortune by almost $13 billion, his biggest wealth wipeout this year https:/…',\n",
       " 'RT @caslernoel: Elon Musk is not a genius, he lied about his academic credentials and took credit for other peoples work, most notable at T…',\n",
       " \"😃I'm better than Tesla 😃 https://t.co/Ar5FxVCUk2\",\n",
       " 'RT @Factschaser: Hours after $TSLA reported that government subsidies helped it avoid a bigger disaster in Q1 earnings, Elon Musk’s governm…',\n",
       " '@goldengateblond If it’s on fire, it’s a #Tesla https://t.co/ClXJ7ccMrk',\n",
       " 'RT @caslernoel: Elon Musk is not a genius, he lied about his academic credentials and took credit for other peoples work, most notable at T…',\n",
       " \"@SpectralSedai Maybe combined with the, what few Bill he's still on the hook for buying twitter AND the drop in Tesla Stock AND him constantly making a buffoon of himself, it's starting to add up?\",\n",
       " \"@agurevich23 @sspencer_smb @ritholtz @carsandbids Tesla is opening up superchargers. You'd have to have a pretty bad miscalculation with a 500 mile car.\",\n",
       " \"@ElectrekCo Being the Tesla Cybertruck got delayed again to 2024, I'd have to say the Fisker Ocean.\",\n",
       " 'RT @caslernoel: Elon Musk is not a genius, he lied about his academic credentials and took credit for other peoples work, most notable at T…',\n",
       " 'RT @caslernoel: Elon Musk is not a genius, he lied about his academic credentials and took credit for other peoples work, most notable at T…',\n",
       " 'RT @JeanneWhalen: If you want a federal tax credit for your electric vehicle purchase, American brands are the way to go. \\n\\nNew govt list g…',\n",
       " '@warpentity @Factschaser @billpower I am not interested in Tesla. Here he talks about Electric car subsidies. which is different from Contracts',\n",
       " 'RT @StrictlyChristo: Tesla stock is having a rapid unscheduled disassembly today, too. 🚀💥📉 https://t.co/oVvzBPwKHc',\n",
       " '#Mundo || Las acciones de @Tesla cayeron en un 9.5% de su valor en respuesta a la pérdida de un 24% de sus beneficios netos en el primer trimestre del año.  \\n\\n#AgenciaMxNoticias  \\nhttps://t.co/LPYEhqEUz5',\n",
       " '@fromVeganning @tesla_raj @elonmusk @Tesla No shot',\n",
       " 'RT @caslernoel: Elon Musk is not a genius, he lied about his academic credentials and took credit for other peoples work, most notable at T…',\n",
       " 'RT @wealth: A dramatic 24 hours for Elon Musk has slashed his fortune by almost $13 billion, his biggest wealth wipeout this year https://t…',\n",
       " 'RT @GuardianUS: Tesla misses revenue mark as lowered car prices results in few takers https://t.co/09XHxA4xxV',\n",
       " \"RT @teslaownersSV: Tesla BEAT Podcast #4: Earnings, Price Cuts, Cybertruck &amp; Starship launch, it'll be live streamed on Twitter and our YT…\",\n",
       " 'RT @caslernoel: Elon Musk is not a genius, he lied about his academic credentials and took credit for other peoples work, most notable at T…',\n",
       " 'RT @caslernoel: Elon Musk is not a genius, he lied about his academic credentials and took credit for other peoples work, most notable at T…',\n",
       " '今朝の経済ニュース\\n・NY主要3指数は下落。主要企業が決算で減益発表をし、FRBの利上げ継続が米景気を冷やす懸念が重荷に\\n・NY原油、景気懸念が重荷で続落\\n・TESLA株価−11%で時価総額7兆円減\\n\\n#投資初心者 #米国株投資',\n",
       " '“The trend is very clearly towards full self driving, towards full autonomy.”\\n\\n@ElonMusk said @Tesla likely will launch full self-drive technology this year and generate significant profits to offset some of the pressure caused by aggressive price cuts. https://t.co/i2j7N6rcHu',\n",
       " '@Tesla @elonmusk Stop decreasing the value of the car. I want to support Tesla but will keep delaying the vehicle until the price stabilizes.',\n",
       " 'RT @wealth: A dramatic 24 hours for Elon Musk has slashed his fortune by almost $13 billion, his biggest wealth wipeout this year https://t…',\n",
       " 'RT @AmoneyResists: The guy who set the Guinness world record for most wealth loss by anyone ever in January of this year just lost another…',\n",
       " 'RT @AmoneyResists: The guy who set the Guinness world record for most wealth loss by anyone ever in January of this year just lost another…',\n",
       " 'RT @ZMyersOfficial: Me and the band lost our blue checkmarks Today \\n\\nCan’t wait for someone’s aunt to get scammed into sending fake me some…',\n",
       " 'RT @KriptoEfsanesi: 200 BİN TL ÇEKİLİŞİ BAŞLIYOR !! \\nCANLI YAYINDA ÇEKİLİYOR \\nUSDT VE BİTCOİN ANALİZİ 500 BİN TL LİK LONG İŞLEMİDE AÇIK \\nTE…',\n",
       " 'RT @AmoneyResists: The guy who set the Guinness world record for most wealth loss by anyone ever in January of this year just lost another…',\n",
       " '@JarrodWeir4 @Boswell771 @FlukeyLukey888 @BJRW_7 @asxpeasant @Chris79732167 @hypnosurf @SayonaMining @BankofAmerica @Tesla @lake_resources A condition of the NAL sale was a commitment to go downstream within 5 years. And Sayona Quebec and the Canadian govt will milk that patriotic sentiment for 5 years with loads of nationalist sentiment and more pompous verbosity that makes us Australians CRINGE. https://t.co/toN4dfZJwq',\n",
       " \"RT @KnowledgeArchiv: Nikola Tesla is 16 and he's hanging over the side of a dam, screaming for help.\\n\\nJust before he let's go to fall on th…\",\n",
       " 'RT @wealth: A dramatic 24 hours for Elon Musk has slashed his fortune by almost $13 billion, his biggest wealth wipeout this year https://t…',\n",
       " 'RT @zhongwen2005: The scariest thing about #Tesla is that it is still making money even though it has had six major price cuts in a row so…',\n",
       " 'RT @caslernoel: Elon Musk is not a genius, he lied about his academic credentials and took credit for other peoples work, most notable at T…',\n",
       " 'RT @RandyWKirk1: Am I missing something here. Tesla had $.8B hit due to dollar weakness. Add that back in and you have auto margins at 22.4…',\n",
       " \"RT @StockMKTNewz: JUST IN:\\n\\nCathie Wood and Ark Invest announced its updated Tesla $TSLA price target  \\n\\nArk's new expected value for Tesla…\",\n",
       " 'RT @GerberKawasaki: Full day. Took away blue checks, blew up starship and tanked tesla stock. All on 4/20. Drinks are on me today. #TSLA',\n",
       " 'RT @AmoneyResists: The guy who set the Guinness world record for most wealth loss by anyone ever in January of this year just lost another…',\n",
       " 'RT @wealth: A dramatic 24 hours for Elon Musk has slashed his fortune by almost $13 billion, his biggest wealth wipeout this year https://t…',\n",
       " 'RT @caslernoel: Elon Musk is not a genius, he lied about his academic credentials and took credit for other peoples work, most notable at T…',\n",
       " 'RT @Tesla: Trip Planner now available in Tesla app https://t.co/k9YyLszAqu',\n",
       " '@JaneDoesReality @PeterLeRamoneur @Mediavenir @PoliceNationale @Tesla Je comprendrais ton tweet si un flic l’avait poussé dans l’eau, mais là C’est lui qui a fait une connerie et tjrs lui qui prend la décision de fuir. C’est triste pour le garçon mais C’est sa décision',\n",
       " 'RT @GuardianUS: Tesla misses revenue mark as lowered car prices results in few takers https://t.co/Op9WhktPIw',\n",
       " \"RT @BlackKnight10k: It's the wild wild west now. You can impersonate literally anyone on here and there's no immediately recognizable way t…\",\n",
       " 'RT @Factschaser: More Tesla owners Musked! One bought a $TSLA Model X before the massive price cuts, and has had repeated problems that ser…',\n",
       " '@chuqtas @Tesla Hopefully not for too much longer.  Progress is picking up speed !',\n",
       " 'RT @theprincelyx: The reason Korra’s opps seem stronger than Aang’s is that she’s weaker. Aang was doing cross-country tours while defeatin…',\n",
       " 'RT @caslernoel: Elon Musk is not a genius, he lied about his academic credentials and took credit for other peoples work, most notable at T…',\n",
       " 'RT @Factschaser: Hours after $TSLA reported that government subsidies helped it avoid a bigger disaster in Q1 earnings, Elon Musk’s governm…',\n",
       " 'RT @spatch: Every time you block someone a Tesla battery overheats',\n",
       " 'RT @tashwastaken: So my friend bought a Tesla… and I made her watch Georgenotfound stream on it 🥰🤩 @GeorgeNotFound @GeorgeNootFound https:/…',\n",
       " '@sickendun2death @robbowlin86 @tweet4all2c @StephenKing I mean, I get it…you want to suck up to Elon. I’d suggest looking at Tesla’s price over the last day, fanboi, before you offer to suck him off.',\n",
       " 'RT @HighyieldHarry: I hate to say it because ARK is a bunch of goofballs\\n\\nBUT in 2018 ARK said Tesla would hit $4,000/share and it happened…',\n",
       " '@tashwastaken @GeorgeNotFound @GeorgeNootFound literally the only reason why i would buy a tesla',\n",
       " 'RT @TheSGTJoker: I too had a Rapid Unscheduled Disassembly this morning, shortly after breakfast and my second cup of coffee. \\n\\nSpace X is…',\n",
       " \"RT @ronin19217435: 432 is God's frequency\\n\\n 4+3+2 = 9\\n\\n Tesla's 369 is the key to the universe\\n\\n 3+6 = 9\\n\\n 9 is Divine https://t.co/hdb3tVQ…\",\n",
       " 'RT @linkinpark: Tesla CEO @elonmusk shows off his sound system... with \"BURN IT DOWN.\" http://t.co/66j3MpGfW2',\n",
       " 'RT @caslernoel: Elon Musk is not a genius, he lied about his academic credentials and took credit for other peoples work, most notable at T…',\n",
       " '@RasKanji @GerberKawasaki @garyblack00 @elonmusk I do understand what youre saying to a point. But Tesla’s are still the safest cars created, only ones with fsd, the best margins in the ENTIRE auto industry, and def the best EV in the game despite dropping prices. The point I see that youre not getting is the macro situation… https://t.co/wByXx0cRFs',\n",
       " 'RT @aliciaculo: Llega Nicolas Tesla a la mitad de la fiesta o xq putas tanta vara',\n",
       " 'RT @AmoneyResists: The guy who set the Guinness world record for most wealth loss by anyone ever in January of this year just lost another…',\n",
       " 'RT @caslernoel: Elon Musk is not a genius, he lied about his academic credentials and took credit for other peoples work, most notable at T…',\n",
       " '@hwinkler4real I told him not to use the Tesla engine…',\n",
       " 'RT @ronin19217435: Tesla radar SEEING the dead in the cemeteries like people  in a park\\n Fr this is not a trick👀👀 https://t.co/nR3nOtsQ2s',\n",
       " 'RT @Tesla: Trip Planner now available in Tesla app https://t.co/k9YyLszAqu',\n",
       " 'RT @caslernoel: Elon Musk is not a genius, he lied about his academic credentials and took credit for other peoples work, most notable at T…',\n",
       " 'RT @TashaARK: 1/ Our latest Tesla price target is out! $2,000 per share in 2027. Check it out! https://t.co/ltnXj907JT Similar to last year…',\n",
       " '@Tesla @elon Elon, when are you going to add Ukraine 🇺🇦 into Tesla maps? There are thousands Tesla cars in Ukraine but without navigation big display is useless and it’s big disadvantage. Is it a problem for Tesla?',\n",
       " 'RT @caslernoel: Elon Musk is not a genius, he lied about his academic credentials and took credit for other peoples work, most notable at T…',\n",
       " 'RT @caslernoel: Elon Musk is not a genius, he lied about his academic credentials and took credit for other peoples work, most notable at T…',\n",
       " '@garyblack00 But remember when you said “Tesla to 500 within 6 months”',\n",
       " 'RT @IBJIYONGI: Apartheid Clyde is gonna be trying to convince us that killing your users is good for business \\n\\nWhich is definitely an inte…',\n",
       " 'RT @business: A dramatic 24 hours for Elon Musk has slashed his fortune by almost $13 billion, his biggest wealth wipeout this year https:/…',\n",
       " '@TESLA_is_TREX @JohnBWellsCTM @DianaArthur17 Hermano, you are blessed to have left the western insanity of the US and Canada.',\n",
       " 'RT @MarketWatch: U.S. stocks opened lower Thursday after Elon Musk suggested he was prepared to boost Tesla’s market share at the expense o…',\n",
       " 'Tesla stock is a bargain right now folks.  Buy!!',\n",
       " 'RT @wealth: A dramatic 24 hours for Elon Musk has slashed his fortune by almost $13 billion, his biggest wealth wipeout this year https://t…',\n",
       " 'RT @westwing45_: @elonmusk Elon owns Twitter, owns Tesla, owns SpaceX and so much more. This man is a modern day genius.\\n\\nI’m honored to sh…',\n",
       " 'その理由は、価格を下げたにもかかわらず販売不振により在庫が蓄積され、サイバートラックの生産にかかる費用が多くかかり、既存の顧客の保証が予想以上に多かったためです。\\n\\n#Tesla #Cybertruck \\nhttps://t.co/eKyLYROwXj',\n",
       " 'RT @dlberes: Honored to have written today’s edition of The Atlantic Daily, about Musk mania https://t.co/EDwLD3RKj2',\n",
       " '@Scobleizer I have an ‘old’ M1 Max, the Tesla processing, albeit impressive is less than 7x my laptop never mind 150x - thousands x. I have (like many people a gaming PC with more AI compute power than the Tesla. Again not a knock on Tesla, but facts only count when they’re facts.',\n",
       " 'Elon Musk is not a genius, he lied about his academic credentials and took credit for other peoples work, most notable at Tesla &amp; SpaceX. He paid PR firms for the myth that was created around him being a tech savior. He is not, he’s a narcissistic grifter &amp; chaos agent.@elonmusk',\n",
       " \"RT @fuzzlime: my tesla optimus humanoid robot is going to do my taxes tonight &amp; he's coming for your job tomorrow but\\n-----spoiler alert---…\",\n",
       " 'RT @theprincelyx: The reason Korra’s opps seem stronger than Aang’s is that she’s weaker. Aang was doing cross-country tours while defeatin…',\n",
       " '@SawyerMerritt Anyone that believes this shit deserves to lose money. 10M is not happening even by 2030, or ever. Cars are not like phones. And L5 may not be solved in 10 years. Even solved, Tesla may not be the one to solve it.',\n",
       " 'And, market doesn’t like “19%” margin for #Tesla ? What is offered by others? Anything even remotely comparable? \\nUneven Life! https://t.co/xvdccPeMQm',\n",
       " \"RT @BlackKnight10k: It's the wild wild west now. You can impersonate literally anyone on here and there's no immediately recognizable way t…\",\n",
       " 'RT @Investingcom: ⚠️BREAKING:\\n\\nTESLA STOCK TUMBLES ALMOST 10% AS PRICE CUTS HIT QUARTERLY PROFIT MARGINS\\n\\nhttps://t.co/44kGBgpbB8\\n\\n$TSLA ht…',\n",
       " '@cfrazierjr My issue is Bitcoin to 1 million by 2030. If I was on her board, would fire her for being so irresponsible. At least Tesla is a big business.',\n",
       " 'RT @theprincelyx: The reason Korra’s opps seem stronger than Aang’s is that she’s weaker. Aang was doing cross-country tours while defeatin…',\n",
       " \"I just discovered this one out now. That's the KEY for Teleportation as WELL. NIKOLA TESLA YOU FKING MAGICIAN!\",\n",
       " '@DoctorJack16 Pretty much yes I agree Doc Jack😉✅',\n",
       " \"RT @BlackKnight10k: It's the wild wild west now. You can impersonate literally anyone on here and there's no immediately recognizable way t…\",\n",
       " 'RT @business: A dramatic 24 hours for Elon Musk has slashed his fortune by almost $13 billion, his biggest wealth wipeout this year https:/…',\n",
       " '@AmazonDSWorker @MuellerSheWrote They aren’t. Because that makes no sense. The money goes to the purchaser when they do their taxes. And leasees will only get a portion.  Tesla won’t get any.',\n",
       " 'RT @lisa_liberal: Everything Elon touches, turns to dog shit. From twitter, to Tesla and now #SpaceX \\n\\nWomp Womp',\n",
       " \"@strengthPlan It would be even worst if you've also have bought a Tesla last year.\",\n",
       " '@elonmusk Nikola Tesla https://t.co/lVwYfM68wZ',\n",
       " \"RT @Forbes: Tesla stock is down 8% after a disappointing report. Don't catch this falling knife. https://t.co/0TfJlEH6lK\",\n",
       " \"@c4chaos @GerberKawasaki 1/2) $TSLA It's simple. The $25k EV will have an even lower profit margin and #Tesla will become competition for itself in terms of cannibalization.\",\n",
       " \"RT @ronin19217435: 432 is God's frequency\\n\\n 4+3+2 = 9\\n\\n Tesla's 369 is the key to the universe\\n\\n 3+6 = 9\\n\\n 9 is Divine https://t.co/hdb3tVQ…\",\n",
       " \"@SawyerMerritt Wow, that's incredible! It's amazing to see the potential future value of Tesla stock. Even if we take the bear case into consideration, Tesla appears to be an extremely valuable investment. Thanks for sharing this news!\",\n",
       " 'RT @AmoneyResists: The guy who set the Guinness world record for most wealth loss by anyone ever in January of this year just lost another…',\n",
       " 'It was inevitable humanity discover a way to unite energy and information in a form of perfect money, unlike all forms of money before.\\n\\n#Bitcoin\\xa0 is that bit-money &amp; bit-power that engineers predicted like Ford (1921) and Tesla (1900).\\n\\nFuture tech cannot thrive on ancient money https://t.co/82ptCXKTui',\n",
       " \"RT @BlackKnight10k: It's the wild wild west now. You can impersonate literally anyone on here and there's no immediately recognizable way t…\",\n",
       " 'RT @AmoneyResists: The guy who set the Guinness world record for most wealth loss by anyone ever in January of this year just lost another…',\n",
       " \"RT @StockMKTNewz: JUST IN:\\n\\nCathie Wood and Ark Invest announced its updated Tesla $TSLA price target  \\n\\nArk's new expected value for Tesla…\",\n",
       " 'Do I want the Tesla or the Corvette?',\n",
       " '@razorfang @RealDanODowd @Tesla @elonmusk Let us also consider the source.  @Tesla https://t.co/wVPnPGSTDJ',\n",
       " \"RT @unusual_whales: Cathie Wood's $ARKK team released their latest $TSLA, Tesla price target:\\n\\n$2000 per share in 2027\\n$5 trillion valuation\",\n",
       " 'RT @AmoneyResists: The guy who set the Guinness world record for most wealth loss by anyone ever in January of this year just lost another…',\n",
       " 'RT @wealth: A dramatic 24 hours for Elon Musk has slashed his fortune by almost $13 billion, his biggest wealth wipeout this year https://t…',\n",
       " \"RT @BlackKnight10k: It's the wild wild west now. You can impersonate literally anyone on here and there's no immediately recognizable way t…\",\n",
       " 'RT @Tesla: Trip Planner now available in Tesla app https://t.co/k9YyLszAqu',\n",
       " 'RT @theprincelyx: The reason Korra’s opps seem stronger than Aang’s is that she’s weaker. Aang was doing cross-country tours while defeatin…',\n",
       " 'RT @Blue_Bee_pllntr: @wealth @oneunderscore__ Defund Space-X and Tesla.  \\n\\nNo more federal contracts or tax credits for this failure.\\n\\nThe…',\n",
       " 'RT @uzmancoin: Bitcoin yatırımcıları bu hafta Tesla’ya odaklanacak',\n",
       " 'RT @StrictlyChristo: Tesla lost about $60 billion in valuation TODAY! And the rumor is that that rocket blowing up cost Muskrat about anoth…',\n",
       " 'RT @MinimalDuck: I can’t wait to drive/photograph the Cybertruck !!!! ⚡️⚡️⚡️ @Tesla @elonmusk https://t.co/AnReZ3ZE2c',\n",
       " '@TeslaPodcast Terão que ser Muitos Tesla vendidos\\nMuitos lançamentos de satélites \\nPara construção de novas naves de testes \\n😅😅😅',\n",
       " 'RT @wealth: A dramatic 24 hours for Elon Musk has slashed his fortune by almost $13 billion, his biggest wealth wipeout this year https://t…',\n",
       " '@EvasTeslaSPlaid @Tesla @elonmusk Feel the same about my MYP, aspiring to own Plaid one day.  But S/X is too big.  Elon Musk, please make Plaid Model Y. https://t.co/2PIgEwh8r1',\n",
       " 'Elon Musk to get the last laugh as ultra-ambitious Tesla Model Y prediction comes true | Electrek https://t.co/Tf781q9ABY',\n",
       " 'RT @AmoneyResists: The guy who set the Guinness world record for most wealth loss by anyone ever in January of this year just lost another…',\n",
       " 'RT @business: A dramatic 24 hours for Elon Musk has slashed his fortune by almost $13 billion, his biggest wealth wipeout this year https:/…',\n",
       " '8 Coolest Tesla Interior Features You Need To Know About, for full story visit our website #trendlynews #love #instagood https://t.co/O2WfEggElS',\n",
       " 'RT @StrictlyChristo: Tesla stock is having a rapid unscheduled disassembly today, too. 🚀💥📉 https://t.co/oVvzBPwKHc',\n",
       " '@ivanrivasrdz @Tesla Ojalá se les peguen otras cosas de Berlín para que la gente en todo Nuevo León salga beneficiados. Como transporte y educación, pero no, el gobierno mejor paga a Santa Fe klan para tenerlos contentos 🤦🏽\\u200d♂️',\n",
       " '@elonmusk thank you. Looking forward to my first @Tesla https://t.co/o4LuWOFK77',\n",
       " 'RT @AmoneyResists: The guy who set the Guinness world record for most wealth loss by anyone ever in January of this year just lost another…',\n",
       " 'RT @JohnsonThought1: Like father like son, @parismarx? Elon worked with Israelis like Dan Gertler to loot the Democratic Republic of Congo…',\n",
       " 'RT @IBJIYONGI: Apartheid Clyde is gonna be trying to convince us that killing your users is good for business \\n\\nWhich is definitely an inte…',\n",
       " 'RT @AmoneyResists: The guy who set the Guinness world record for most wealth loss by anyone ever in January of this year just lost another…',\n",
       " 'RT @wealth: A dramatic 24 hours for Elon Musk has slashed his fortune by almost $13 billion, his biggest wealth wipeout this year https://t…',\n",
       " 'Tesla in auto pilot mode https://t.co/LgIGlNqOZc',\n",
       " \"RT @StockMKTNewz: JUST IN:\\n\\nCathie Wood and Ark Invest announced its updated Tesla $TSLA price target  \\n\\nArk's new expected value for Tesla…\",\n",
       " 'From StockheadComAu \" Market Highlights: Tesla crashes 10pc, SpaceX rocket explodes, and 5 ASX small caps to watch on Friday \" published 21/4/2023 $EQX $IXC $ACF $TEE $PAA #Crypto #Markets #IronOre \\nhttps://t.co/P1fMYoZXOM',\n",
       " 'RT @dlberes: Honored to have written today’s edition of The Atlantic Daily, about Musk mania https://t.co/EDwLD3RKj2',\n",
       " 'RT @AmoneyResists: The guy who set the Guinness world record for most wealth loss by anyone ever in January of this year just lost another…',\n",
       " 'RT @credittrends: You are seeing why CT Capital Inst Research is the #1 research firm.\\n\\nAny institution that owns auto shares, esp. @tesla,…',\n",
       " '@CarolineHydeTV @technology powerful day in tech #TSMC @Tesla @SpaceX innovation is ‘always on’ https://t.co/upU4QCVibP',\n",
       " 'RT @wealth: A dramatic 24 hours for Elon Musk has slashed his fortune by almost $13 billion, his biggest wealth wipeout this year https://t…',\n",
       " '@ProfDemirtas Tesla Togg un yarı fiyatına olsa bile Togg u Tercih edeceğiz. Kilise ye ayakkabı ile giriliyor içerisinde Org çalınıyor diye bizler camiden abdestten vazgeçmiyoruz Dimi değişik özgür. O Zaman Değer Nedir Yerlilik Millik Nerde Kalır Dimi Bay Foss Prof.',\n",
       " 'When Earl gets 100k followers and pretends to be part of the Tesla cult again @CostcoAvocado @TeslaBoomerMama @jeremyjudkins_ https://t.co/prhSPv9P1L',\n",
       " '@Tesla Nice add',\n",
       " 'Tesla gives Cybertruck update, shares new pictures of production, and more | Electrek https://t.co/zmsykw5tav',\n",
       " 'RT @wealth: A dramatic 24 hours for Elon Musk has slashed his fortune by almost $13 billion, his biggest wealth wipeout this year https://t…',\n",
       " \"RT @poyopoppin: reading that tristamp interview before i go to sleep here's some stuff that caught my attention (mostly about vash and nai'…\",\n",
       " '@ask_aubry Just like Tesla cars and Twitter.  Everything Elon touches explodes.',\n",
       " 'RT @wealth: A dramatic 24 hours for Elon Musk has slashed his fortune by almost $13 billion, his biggest wealth wipeout this year https://t…',\n",
       " '@gmbutts Poor GB the more you whine the more pathetic you look. Tesla and space  x are not media. Your biggest fear just came true, media control is over.',\n",
       " 'Why would you ever bet against America?\\nAll these doomsayers, this is the best damn country on the planet.  \\n\\nall I hear is world is going to end, the dollar is gone, blah, blah, blah, blah.\\n\\nLast 10 years:\\nApple, MSFT, AI, Tesla, new drugs, new vaccines, Biggest MOFO rocket ever',\n",
       " '‘Tesla – O Homem Elétrico’ varia demais entre o regular e o ruim - por @Bruno_Whatever \\n\\nhttps://t.co/RRLWauc1lA\\n\\n#Ultraverso https://t.co/qNPiZdA5pY',\n",
       " '@JCOviedo6 AutoTrader doesn’t sell new Teslas, they are only sold by Tesla!\\nSince Tesla is the largest seller of EVs, their report is meaningless.',\n",
       " 'AI generated images. A blend of Tesla and Lamborghini https://t.co/56kP77IXHM',\n",
       " 'Current #USD #Stocks #Commodities as well as 10 best performing large cap stocks of 2023: \\n\\n1. Coinbase $COIN +82%\\n2. NVIDIA $NVDA 79%\\n3. Facebook $META +77%\\n4. Spotify $SPOT +63%\\n5. Rolls Royce $RYCEF +61%\\n6. Align $ALGN +59%\\n7. Seagen $SGEN +58%\\n8. Tesla $TSLA +55% \\n9.… https://t.co/7YqW6ZdH3G https://t.co/ehtjN6Y3Vq',\n",
       " \"RT @fuzzlime: my tesla optimus humanoid robot is going to do my taxes tonight &amp; he's coming for your job tomorrow but\\n-----spoiler alert---…\",\n",
       " '@duncandelano1 @gane_joshua @The_Mel_Fuller @tactical_viper2 @lavern_spicer @POTUS Oh yeah he worked really hard making Twitter polls, brother elon has no idea what he’s talking about especially with regards to spacex and Tesla.',\n",
       " \"RT @unusual_whales: Cathie Wood's $ARKK team released their latest $TSLA, Tesla price target:\\n\\n$2000 per share in 2027\\n$5 trillion valuation\",\n",
       " '@Yeahisaiditboy Im still shocked that he bought tesla and it wasnt his idea is wilddddd😭 like they paint him to be this never seen before genius when he isnt all that is crazy',\n",
       " 'Like father like son, @parismarx? Elon worked with Israelis like Dan Gertler to loot the Democratic Republic of Congo of the minerals needed for Tesla batteries. https://t.co/wLo08HWLiU https://t.co/xTaDLNcMpu',\n",
       " '@ivanrivasrdz @Tesla En las pendejadas que gastan mi dinero',\n",
       " 'esses nerdolas acham que vao ganhar um tesla babando o elon no twitter https://t.co/MzUImRmCqi',\n",
       " 'RT @AmoneyResists: The guy who set the Guinness world record for most wealth loss by anyone ever in January of this year just lost another…',\n",
       " 'RT @Factschaser: Hours after $TSLA reported that government subsidies helped it avoid a bigger disaster in Q1 earnings, Elon Musk’s governm…',\n",
       " '@samuel_garcias @Tesla Mejor pídales un empleo para que lo disfrute en plenitud. Pero como sugerencia: si gusta seguir ejerciendo como Gobernador,  mejor recorra su estado.',\n",
       " 'RT @wealth: A dramatic 24 hours for Elon Musk has slashed his fortune by almost $13 billion, his biggest wealth wipeout this year https://t…',\n",
       " 'RT @TheFigen_: This dog has his own Tesla! \\n\\nhttps://t.co/wLhkIOImwj',\n",
       " \"With 6 price cuts in 2023, Cathie Wood meant a Tesla vehicle is going to $2,000 in 2027. Not the $TSLA stock.\\n\\nDo the math. She's not incorrect.\",\n",
       " 'RT @Factschaser: Would be so on brand for Musk to trot out more fiction re demand during the Q1 $TSLA earnings call…\\n\\n“Demand exceeds produ…',\n",
       " '@RadioactivMuc @BMauschen Möglich. Auch wenn ich Musk nicht besonders mag freue ich mich über die Fortschritte die er bei Elektroauto und Raumfahrt gemacht hat. Tesla hat gezeigt das Stromer keine abgedreht len Nerdprojekte sind und die NASA weiß nun wie man wiederverwendebare Booster baut.',\n",
       " '@JoshieOn @klwtts @Tesla Agree. Currently trading in my 2016 multi-coat red for a 2023 ultra red - both model S. Very excited.\\nI used to have a red Lexus RX and always thought it was a great color - deep, rich.',\n",
       " \"RT @poyopoppin: reading that tristamp interview before i go to sleep here's some stuff that caught my attention (mostly about vash and nai'…\",\n",
       " 'This is crazy - Tesla Model Y now under $40,000, Model 3 under $37,000 https://t.co/1CsXsZK9k8 via @YouTube',\n",
       " '@NickAdamsinUSA @GrillmeisterJo1 Ask Tesla how their day is going.',\n",
       " 'RT @Factschaser: 🚨 TESLA 1Q GROSS MARGIN 19.3%, EST. 21.2%\\n\\n🚨🚨 TESLA 1Q FREE CASH FLOW $441M, EST. $3.24B\\n\\nWhat the heck happened to their…',\n",
       " 'RT @Factschaser: More Tesla owners Musked! One bought a $TSLA Model X before the massive price cuts, and has had repeated problems that ser…',\n",
       " '@casio_juarez @alexeheath \"...wondering how a person with so little self-awareness is able to breathe\"\\n\\nThere\\'s a long life Tesla Battery up his butt and fully wired?',\n",
       " '@thejefflutz @EmmetPeppers @AlbertBridgeCap @Tesla Elon RUDs! \\nSpaceX’s RUD:\\n“ Rapid Unscheduled Disassembly”\\nSpaceX -&gt; ExplodeX?\\nWhat an explosive performance!\\n&amp; \\nPost earnings call Tesla’s RUD:\\n“Rapid Unscheduled Disappointmnt”\\n TSLA -&gt;  Free-fall (-10%)\\nWhat a ride! \\n\\nMay Mañana bring Elon\\n ‘scheduled success’!\\nFSD by Yr End!',\n",
       " 'NERVIOS EN WALL STREET: AT&amp;T Y TESLA SE DERRUMBARON 10% https://t.co/O4eazsUyeS',\n",
       " '@TESLA_is_TREX @RepNancyMace The Us is way more corrupt than Mexico. Kickbacks and bribes are legalized here. They think people are stupid because most are.',\n",
       " 'RT @RedState: Lawyer for Hunter Biden Whistleblower Gives Major Confirmation About Documental Evidence https://t.co/M78d6CCXvT',\n",
       " 'RT @ElectrekCo: Tesla (TSLA) crashes despite strong earnings; is the credibility going away? https://t.co/StNbKY4xdJ by @fredericlambert',\n",
       " 'RT @Factschaser: Deciphering Musk-speak, my takeaways from $TSLA earnings call:\\n\\n1. Tesla is unable to match VW, GM, BYD, Stellantis in rol…',\n",
       " 'RT @wealth: A dramatic 24 hours for Elon Musk has slashed his fortune by almost $13 billion, his biggest wealth wipeout this year https://t…',\n",
       " 'RT @hourlycatricky: THANK YOU TUITION CENTER\\nTHANK YOU HAESHION\\nTHANK YOU YUEHUAZ TIKTOK\\nTHANK YOU TESLA\\nTHANK YOU YUEHUAZ\\nTHANK YOU KAMDEN…',\n",
       " '@elonmusk My son wants to know if your rocket will be carrying a Tesla Cyber struck to Mars when that happens. “They need something to drive”!!',\n",
       " '@EmmetPeppers @RonMadison11 @Tesla @elonmusk Its better for people to have a cheaper car than be marketed to',\n",
       " '@elonmusk @verified https://t.co/DEk1dcVcKx\\nSure it is, Tesla Boy.',\n",
       " '@ivanrivasrdz @Tesla Los trabajadores de tesla tiene sindicato?',\n",
       " \"RT @BlackKnight10k: It's the wild wild west now. You can impersonate literally anyone on here and there's no immediately recognizable way t…\",\n",
       " 'RT @AmoneyResists: The guy who set the Guinness world record for most wealth loss by anyone ever in January of this year just lost another…',\n",
       " 'RT @wealth: A dramatic 24 hours for Elon Musk has slashed his fortune by almost $13 billion, his biggest wealth wipeout this year https://t…',\n",
       " 'RT @dlberes: Honored to have written today’s edition of The Atlantic Daily, about Musk mania https://t.co/EDwLD3RKj2',\n",
       " 'RT @Factschaser: The most hyped earnings call in history has ended. Musk’s latest mix of delusional fibs may be the last straw for savvy Te…',\n",
       " '@kalmantibs Or fix Tesla a lot more',\n",
       " 'Hoy la acción de #Tesla $TSLA cayó 9,75%, aunque reportó cerca a lo esperado por el mercado, pero hay que tomar en cuenta que la empresa ha bajado dos veces el precio de sus autos en los últimos meses, siendo la más reciente esta semana, antes del reporte\\nhttps://t.co/IVAwKYZnPv https://t.co/IUk0D9CqEi',\n",
       " '@Red_White_Blue5 @KneeKnob @krassenstein Wrong again. Tesla was founded by Martin Eberhard and Marc Tarpenning in 2003, Elon didn’t come around until 2004 when he invested and bought into the company and became chairman.',\n",
       " 'RT @dlberes: Honored to have written today’s edition of The Atlantic Daily, about Musk mania https://t.co/EDwLD3RKj2',\n",
       " \"Tesla's shrinking margins are 'keeping investors up at night.' Here's what 4 analysts had to say about the outlook for EV maker's stock after first-quarter earnings https://t.co/Zjzn7jHJxE\",\n",
       " 'RT @Factschaser: Without sales of government-backed regulatory credits, government-funded automaker Tesla’s Q1 earnings would’ve been even…',\n",
       " '@greggertruck @joerogan @elonmusk @Tesla So that’s what I sound like when someone asks about Cybertruck lol',\n",
       " 'RT @JoKeRToyHunter: Lets see. Twitter is cracking apart, Tesla stocks are down, and his space ship just exploded. You are having a terrible…',\n",
       " 'RT @Blue_Bee_pllntr: @wealth @oneunderscore__ Defund Space-X and Tesla.  \\n\\nNo more federal contracts or tax credits for this failure.\\n\\nThe…',\n",
       " \"@SagaciousNJ @SethAbramson @Erdayastronaut I'm not hero worshipping, I'm just suggesting objectivity. Fact is I've got some serious issues with Musk (all things Twitter, labor issues), but I been paying attention to SpaceX a long time, and I'm here to tell you he's VERY involved in product design, both at SpaceX and Tesla\",\n",
       " '@StockMKTNewz This is a huge jump from where Tesla is now! A $5 Trillion market cap by 2027 is a staggering figure. Impressive to see how Cathie Wood and Ark Invest can easily come up with such predictions. Thanks for sharing!',\n",
       " 'RT @wealth: A dramatic 24 hours for Elon Musk has slashed his fortune by almost $13 billion, his biggest wealth wipeout this year https://t…',\n",
       " 'elon musk sef na pluto boy eh him na tesla kid, pulling up in a tesla toy',\n",
       " 'RT @wealth: A dramatic 24 hours for Elon Musk has slashed his fortune by almost $13 billion, his biggest wealth wipeout this year https://t…',\n",
       " 'RT @AmoneyResists: The guy who set the Guinness world record for most wealth loss by anyone ever in January of this year just lost another…',\n",
       " '@HerrOlsen @Peter_Jelinek Auch Tesla, die ja im Moment in Deutschland die Preistreiber nach unten sind, straft Wissing Lügen.\\n\\n... und es war absehbar.',\n",
       " 'RT @CNN: Tesla has announced US price cuts for the sixth time this year https://t.co/XeOSjW68ky https://t.co/BZKIn7rfux',\n",
       " 'RT @business: A dramatic 24 hours for Elon Musk has slashed his fortune by almost $13 billion, his biggest wealth wipeout this year https:/…',\n",
       " 'RT @Eig_Banphot: Cathie Wood ฟันธง TESLA จะวิ่งไป 2,000 เหรียญแน่ๆ หรือมี upside 12 เท่าตัว ภายในปี 2027 หรืออีก 4 ปีข้างหน้า \\n\\n(ก่อนหน้า…',\n",
       " '@TeslaBoomerPapa Tesla are lucky 🍀! Imagine him on TSLA board! Lousy day trader. 🤮!',\n",
       " 'RT @AmoneyResists: The guy who set the Guinness world record for most wealth loss by anyone ever in January of this year just lost another…',\n",
       " 'RT @AmoneyResists: The guy who set the Guinness world record for most wealth loss by anyone ever in January of this year just lost another…',\n",
       " '@ntimesgurgel Bonito realmente é, gosto bastante da história do tesla, e tem várias coisas bastantes legais. Porém engenharia no Brasil é fazer prova',\n",
       " 'RT @Factschaser: Yet another new Tesla owner Musked! Enticed by price cuts, picks up a Model 3 that turns out to be a demo — buyer wasn’t a…',\n",
       " 'RT @rob11563: @SpaceX \"rapid unscheduled disassembly\" - So, this \\'Starship\\' is basically a flying @Tesla.  #thursdaymorning #thursdayvibes…',\n",
       " 'RT @wealth: A dramatic 24 hours for Elon Musk has slashed his fortune by almost $13 billion, his biggest wealth wipeout this year https://t…',\n",
       " 'RT @dlberes: Honored to have written today’s edition of The Atlantic Daily, about Musk mania https://t.co/EDwLD3RKj2',\n",
       " 'RT @GregAbbott_TX: The Tesla Cybertruck.\\n \\nTexas made.\\n\\nComing soon.',\n",
       " 'Tesla cyber truck. Aka Chicago necessity https://t.co/JC0jJQhtIM',\n",
       " 'Tesla $TSLA to $2000 according to @CathieDWood',\n",
       " 'RT @SethAbramson: FWIW, I want humans to explore space. I profoundly admire SpaceX’s engineers. I don’t celebrate the failure of any attemp…',\n",
       " \"@ItsDeanBlundell lol its so funny aren't you all the same nerds who was applauding and buying his Tesla's and virtue signalling to everyone how GREEN you are? Now Elon bad grrrr.\",\n",
       " 'RT @Tesla: Trip Planner now available in Tesla app https://t.co/k9YyLszAqu',\n",
       " 'RT @Tesla: Tesla Q1 Earnings Call and Q&amp;A → https://t.co/THWUwxgvYT',\n",
       " 'RT @Tesla: Trip Planner now available in Tesla app https://t.co/k9YyLszAqu',\n",
       " '@BetteMidler 1) That \"worm\" read the entire Encyclopedia Britannica at nine years old; taught himself to program in 3 days; sold his first company for $307 million; cofounded PayPal; founded SpaceX; became the CEO of Tesla; created the Musk Foundation; revolutionized the electric car industry',\n",
       " 'RT @ppoppopower: 📮 [메리츠증권 자동차 김준성]\\n\\n안녕하세요 메리츠증권 김준성입니다. Tesla 1Q23 실적 업데이트 드리겠습니다.\\n \\n1. 실적 요약\\n\\n- 연결 매출 $23.3bn, non-GAAP EPS $0.85 기록, 컨센서스…',\n",
       " '@CAxelton @ALilofThisnTha1 @MatthewDR @Tesla It’s possible of course…but I took that screenshot from the cybertruck page on the Tesla website an hour ago.\\n\\nAlso curious about the “under bed” part.\\n\\n@MatthewDR anything to add?',\n",
       " 'RT @wealth: A dramatic 24 hours for Elon Musk has slashed his fortune by almost $13 billion, his biggest wealth wipeout this year https://t…',\n",
       " \"RT @KnowledgeArchiv: Nikola Tesla is 16 and he's hanging over the side of a dam, screaming for help.\\n\\nJust before he let's go to fall on th…\",\n",
       " 'RT @EthanBearman: https://t.co/P0xINocJ1e',\n",
       " 'RT @AmoneyResists: The guy who set the Guinness world record for most wealth loss by anyone ever in January of this year just lost another…',\n",
       " '@JesseKellyDC @MdBreathe @elonmusk Elon Musk is far from perfect (opening a Tesla showroom near the CCP Concentration Camps in Xinjiang &amp; the advocating for the dystopian Neurolink), but by purchasing Twitter and exposing its collusion with the government he has done more to defend free speech than any politician.',\n",
       " 'RT @Factschaser: Yet another Tesla owner Musked. Musk used to respond to owner complaints posted on Twitter. Now he ignores them. If you’ve…',\n",
       " '@HunterNewberry8 @garyblack00 @WholeMarsBlog No. Because their workmate sold them the Tesla with word of mouth and driving them for lunch. \\n\\nAdvertising works best for those who need to lie about their product.',\n",
       " '@GerberKawasaki Tesla has a consistent credible source of advertising, it drives sales &amp; costs nothing ! Following the Doo doo’s, the loosers is honestly the worst decision. Tesla is a compelling vehicle, it sells itself &amp; whilst Tesla’s continues 2 execute Y stuff up the Formula of success ?',\n",
       " 'RT @elonmusk: Tesla opening Megapack factory in Shanghai to supplement output of Megapack factory in California',\n",
       " \"@AndyKHLiu I guess launching it was a massive achievement for these science nerds. But like Tesla's it was built cheaply and started to disintegrate so they had to blow it up.\",\n",
       " '@GerberKawasaki Ross is coming out of his trance, good to see. Still thinks @Tesla will do better than it will though.\\n\\nWhat Ross, @garyblack00 or @CathieDWood dont seem to get is that the car is ugly &amp; old &amp; dated &amp; why would that be appealing? Its fast becoming a Prius',\n",
       " '@DevinCow As if the trip to the grocery was not exciting enough, my tesla experienced a rapid unscheduled raise in temperature https://t.co/jFeoagPXig',\n",
       " 'Poor Elron. His big phallus rocket disassembled unexpectedly, Tesla stock dropped &gt;10% and twitter has reached peak chaos.',\n",
       " 'RT @AmoneyResists: The guy who set the Guinness world record for most wealth loss by anyone ever in January of this year just lost another…',\n",
       " 'RT @Factschaser: More Tesla owners Musked! One bought a $TSLA Model X before the massive price cuts, and has had repeated problems that ser…',\n",
       " \"@gabbie_tesla If someone wants to block me because I like to fix my typos then I'll be glad if they do. That's not the kind of person whose posts will provide any value.\",\n",
       " \"pls dont think too hard on this, its just for editing practice and i didnt even try too hard on lip syncing so yeah sjfbdjn not gonna tag anyone for this one :3\\n\\nalso to clarify this is NOT a ship edit. just wanted to highlight knives's thoughts after seeing tesla\",\n",
       " '@verticalcrypto AI is in my oven, cooking my food ( @June ).\\n\\nIt is in my car driving my car ( @Tesla ) \\n\\nBut I assume you are talking about the new fangled AI that runs ChatGPT. \\n\\nThe promise there?\\n\\nIt will answer every question you ask it.',\n",
       " '@profesorishere Tesla almasada elon kendi şahsi topluyor sen bildiğiden dönme',\n",
       " 'RT @SethAbramson: FWIW, I want humans to explore space. I profoundly admire SpaceX’s engineers. I don’t celebrate the failure of any attemp…',\n",
       " 'Tesla’s coming crash: As 7 analysts lower their price targets, one predicts the stock is heading to $28 https://t.co/vfp74h8fNm',\n",
       " \"Elon Musk lays out a key difference in Tesla's business model that could significantly improve the way the global auto industry works.\\nhttps://t.co/h6R0fyvFM9\",\n",
       " '@LivioFilice @Tesla I put most of my Tesla gains into $EXRO, I believe in the electrification theme more than anything. I can understand why some would worry in the short term about executing on volume vs margins, but is it the wrong move? Time will tell, but it’s the right thing to do period!',\n",
       " 'RT @JonErlichman: Elon explaining Tesla’s pricing strategy in 2008:\\nhttps://t.co/iK1nEjRKbi',\n",
       " \"RT @StockMKTNewz: JUST IN:\\n\\nCathie Wood and Ark Invest announced its updated Tesla $TSLA price target  \\n\\nArk's new expected value for Tesla…\",\n",
       " 'RT @WholeMarsBlog: $40,000 Tesla Model 3 at 19.3% automotive gross margin = $7,720 gross profit \\n\\n$15,000 FSD at 80% gross margin = $12,000…',\n",
       " 'RT @theprincelyx: The reason Korra’s opps seem stronger than Aang’s is that she’s weaker. Aang was doing cross-country tours while defeatin…',\n",
       " 'RT @AmoneyResists: The guy who set the Guinness world record for most wealth loss by anyone ever in January of this year just lost another…',\n",
       " 'RT @AmoneyResists: The guy who set the Guinness world record for most wealth loss by anyone ever in January of this year just lost another…',\n",
       " 'RT @loosenyourhold: Funny when “pay the $8” trends on a day Tesla lost $50 billion in market cap… 🤔',\n",
       " '@elonmusk I’m sure I’ve talked a lot of shit about u in the past so I don’t say this lightly… I hope you strive on, because on those two (spaceX/Tesla) and what ur doing… even your failures are more impressive than our collective previous successes. better luck next time, sir',\n",
       " 'RT @AmoneyResists: The guy who set the Guinness world record for most wealth loss by anyone ever in January of this year just lost another…',\n",
       " '@mannny_fr @GogetaVZ @beraha86 @DailyLoud I got your point. I see it from a diff point of view i.e proper advance research\\nNeed more men like these people to find habitable planets,minerals etc. Even appollo 11 had 14 test flights. supporting tesla(and other orgs)= supporting the great wise minds not just a single person',\n",
       " 'RT @Factschaser: So many softball questions at Tesla earnings calls yesterday…not one “analyst” brought up the spectacular failures of new…',\n",
       " \"RT @rafaelshimunov: At Tesla's Shanghai factory, workers say Elon Musk is conducting collective punishment; cutting performance bonuses thr…\",\n",
       " 'RT @Factschaser: While Musk does not run SpaceX on a day-to-day basis and shows up mostly for photo ops at high profile moments, $TSLA inve…',\n",
       " 'RT @wealth: A dramatic 24 hours for Elon Musk has slashed his fortune by almost $13 billion, his biggest wealth wipeout this year https://t…',\n",
       " \"RT @BlackKnight10k: It's the wild wild west now. You can impersonate literally anyone on here and there's no immediately recognizable way t…\",\n",
       " 'RT @AmoneyResists: The guy who set the Guinness world record for most wealth loss by anyone ever in January of this year just lost another…',\n",
       " 'RT @stats_feed: Trillion-dollar companies:\\n\\n$1 Trillion\\n2007: 🇨🇳 PetroChina\\n2018: 🇺🇸 Apple 🇺🇸 Amazon\\n2019: 🇸🇦 Saudi Aramco 🇺🇸 Microsoft\\n202…',\n",
       " 'RT @Factschaser: Hours after $TSLA reported that government subsidies helped it avoid a bigger disaster in Q1 earnings, Elon Musk’s governm…',\n",
       " 'RT @wealth: A dramatic 24 hours for Elon Musk has slashed his fortune by almost $13 billion, his biggest wealth wipeout this year https://t…',\n",
       " 'RT @GerberKawasaki: Full day. Took away blue checks, blew up starship and tanked tesla stock. All on 4/20. Drinks are on me today. #TSLA',\n",
       " \"RT @BlackKnight10k: It's the wild wild west now. You can impersonate literally anyone on here and there's no immediately recognizable way t…\",\n",
       " 'RT @AmoneyResists: The guy who set the Guinness world record for most wealth loss by anyone ever in January of this year just lost another…',\n",
       " 'RT @AmoneyResists: The guy who set the Guinness world record for most wealth loss by anyone ever in January of this year just lost another…',\n",
       " '@TashaARK Autonomous vehicles will be a commoditized 3rd party adapter that you plug into your car.  Tesla is not even a leader in this field.',\n",
       " '@Bob_0235 @SkyNewsAust $3.2b over 14 years? . Tesla revenue in Q1 2023 alone (3 months) was $23.3 BILLION… do you have a point buried in there somewhere?',\n",
       " 'RT @wealth: A dramatic 24 hours for Elon Musk has slashed his fortune by almost $13 billion, his biggest wealth wipeout this year https://t…',\n",
       " '@ChadCarleton Finally - the perfect occasion to pull out that set of silicon mannequin hands to go full autopilot and get over on the Tesla',\n",
       " 'RT @Tesla: Trip Planner now available in Tesla app https://t.co/k9YyLszAqu',\n",
       " \"Tesla's Cybertruck set for summer delivery event | Digital Trends https://t.co/cikTZCZCJc\",\n",
       " 'RT @MarketWatch: U.S. stocks finished lower on Thursday as Tesla’s earnings report weighed on shares of the electric-vehicle giant. \\n\\nThe D…',\n",
       " 'https://t.co/P0xINocJ1e',\n",
       " 'RT @lisa_liberal: Any day that Elon loses money, or makes an ass of himself. Makes a good day, great. \\n\\nHe’s failing at twitter.\\nHis Tesla’…',\n",
       " 'Was obviously operating in Tesla self-drive mode. #Starship https://t.co/mxWEf5ujtI',\n",
       " 'RT @Reuters: 📺 From @Breakingviews: Tesla’s key margin gauge tumbled as it slashed prices to boost sales. Sagging growth leaves much riding…',\n",
       " \"RT @StockMKTNewz: JUST IN:\\n\\nCathie Wood and Ark Invest announced its updated Tesla $TSLA price target  \\n\\nArk's new expected value for Tesla…\",\n",
       " 'RT @wealth: A dramatic 24 hours for Elon Musk has slashed his fortune by almost $13 billion, his biggest wealth wipeout this year https://t…',\n",
       " 'RT @WholeMarsBlog: Trip planning now available in the Tesla mobile app! https://t.co/wZuLnBpHL3',\n",
       " '@elonmusk Tesla + EV cars = less petroleum dependency.\\n\\n= more fuel available for space travel in the near future, there will never be a solar powered rocket.\\n\\nHence mankind will  have the resources to relocate to Mars #SpaceX #thoughtoftheday #FridayVibes #Musk',\n",
       " 'RT @ChrisZheng001: I just learned that Drew Baglino, Tesla Energy engineering &amp; Powertrain SVP will come to Gigashanghai on 4.25, and I was…',\n",
       " 'Love it! https://t.co/kecVHCnwpQ',\n",
       " '@elonmusk Raffle a Tesla every few weeks',\n",
       " 'RT @AmoneyResists: The guy who set the Guinness world record for most wealth loss by anyone ever in January of this year just lost another…',\n",
       " 'RT @golikehellmachi: his cars drive themselves into head-on traffic killing an unspecified (and extremely closely guarded) number of tesla…',\n",
       " '@fluffyguy @Twitter @JackBox Money much better spent fluffy them will be recalled to much like Tesla  bro just in the privacy of your own bathroom and they taste better',\n",
       " '@RichW8615 @taradublinrocks Tesla owner and Elon’s fan. Of course.',\n",
       " \"RT @ReaActuelle: Strasbourg : Un Antifa tague le capot d'une Tesla sauf qu'il ne savait sûrement pas que ce genre de véhicule était équipé…\",\n",
       " \"@GerberKawasaki We all cherish uniqueness of Tesla, yet you are screaming to everyone that Tesla is different and must act like the rest.....I really don't understand.\",\n",
       " 'RT @JoKeRToyHunter: Lets see. Twitter is cracking apart, Tesla stocks are down, and his space ship just exploded. You are having a terrible…',\n",
       " '@SierraNV1967 @trentkelp @EvasTeslaSPlaid @Tesla @elonmusk You voted to end policeing.... You have blood on your hands',\n",
       " 'RT @teamSimplyCodes: GRASSDOOR \\nWhen: Now - May 31st\\nDeal: Shop with a cart value of over $100 to automatically enter and win a 2023 Tesla…',\n",
       " 'So many people that don’t pay for Twitter Blue have been blocking me today.\\n\\nI find it hilarious because they’re doing me a favour! 🤣🤣',\n",
       " 'RT @TheSGTJoker: I too had a Rapid Unscheduled Disassembly this morning, shortly after breakfast and my second cup of coffee. \\n\\nSpace X is…',\n",
       " 'RT @AmoneyResists: The guy who set the Guinness world record for most wealth loss by anyone ever in January of this year just lost another…',\n",
       " 'RT @AmoneyResists: The guy who set the Guinness world record for most wealth loss by anyone ever in January of this year just lost another…',\n",
       " 'RT @wealth: A dramatic 24 hours for Elon Musk has slashed his fortune by almost $13 billion, his biggest wealth wipeout this year https://t…',\n",
       " 'RT @TashaARK: @tslatalk Automated driver assistance features are already becoming requirements for new vehicles. While regulatory uncertain…',\n",
       " \"RT @JahrJon: @BlackKnight10k Last week there was a Tesla on fire right outside community.  Everyone got out safely.  I don't even want to r…\",\n",
       " \"@teslaownersSV @garyblack00 Great news . Tesla team keep it going .  AND SHOW THE WORLD HOW IT'S  DONE.\",\n",
       " 'RT @Tesla: Trip Planner now available in Tesla app https://t.co/k9YyLszAqu',\n",
       " '@PeterLindbeck @Tesla_ACE1 @thejefflutz @garyblack00 Insurance is higher on the Tesla unless you use Tesla insurance. Typically offsets gas savings.',\n",
       " 'RT @AmoneyResists: The guy who set the Guinness world record for most wealth loss by anyone ever in January of this year just lost another…',\n",
       " 'RT @GregAbbott_TX: The Tesla Cybertruck.\\n \\nTexas made.\\n\\nComing soon.',\n",
       " '@goodandnormal @wealth Tesla power wall. Falcon rocket. Those are his and what I literally said he advanced. The other stuff, I dunno.',\n",
       " 'Travis, GM/Ford (D3) are Brute Capitalists. They will never do anyting for the safety of American lives. They will do more for EU lives than US lives! GM delivering FSD before Tesla is like saying- Donate to Donald because he could be sipping a Pinacolada in his Private Jail Cell',\n",
       " '@MatthewDR @Tesla Pretty sure Cybertruck having compressed air is public knowledge for a long time now.',\n",
       " '@GordonJohnson19 I would call it using other people’s interest free money to expand Tesla’s empire. Tesla does have negative working capital. As long as they keep growing, the negative WC would continuously to expand as well.',\n",
       " 'RT @45Week: @foxweather Just like Tesla and Twitter… SpaceX rocket 🚀 implodes… I’m guessing a few people who purchased future flight ticket…',\n",
       " \"RT @BlackKnight10k: It's the wild wild west now. You can impersonate literally anyone on here and there's no immediately recognizable way t…\",\n",
       " '@DianaArthur17 @MattWallace888 You are here … thank them rather than scorn them lady!\\nFuck!',\n",
       " '@samuel_garcias @Tesla ¿como vamos en la seguridad?',\n",
       " 'RT @Tesla: Trip Planner now available in Tesla app https://t.co/k9YyLszAqu',\n",
       " 'RT @AmoneyResists: The guy who set the Guinness world record for most wealth loss by anyone ever in January of this year just lost another…',\n",
       " 'RT @AmoneyResists: The guy who set the Guinness world record for most wealth loss by anyone ever in January of this year just lost another…',\n",
       " 'RT @Tesla: Trip Planner now available in Tesla app https://t.co/k9YyLszAqu',\n",
       " '不需要在意任何人的讥笑或嘲讽，这一点可能不需要其他人教老马，我想Tesla一路走来，他早已习以为常了吧。相信他终会成功，这个乔布斯之后，最让人放心的男人。 https://t.co/jPtooPjMQa',\n",
       " 'RT @wealth: A dramatic 24 hours for Elon Musk has slashed his fortune by almost $13 billion, his biggest wealth wipeout this year https://t…',\n",
       " '@TESLA_is_TREX @WholeMarsBlog I wish he was alive so he could go to Washington  like Ross Perot did but chickened out.',\n",
       " 'RT @SethAbramson: FWIW, I want humans to explore space. I profoundly admire SpaceX’s engineers. I don’t celebrate the failure of any attemp…',\n",
       " 'RT @Tesla: Tesla Master Plan, Part 3 → https://t.co/3E69ytIzYH',\n",
       " '@latestinspace @elonmusk my wheels got a bit dirty, think you can hook me up with a tesla? ❤️🚗',\n",
       " 'RT @ronin19217435: Tesla radar SEEING the dead in the cemeteries like people  in a park\\n Fr this is not a trick👀👀 https://t.co/nR3nOtsQ2s',\n",
       " 'RT @cb_doge: \"Other companies spend money on advertising &amp; manipulating public opinion, Tesla focuses on the product. I trust the people.\"…',\n",
       " '@MelonjuiceNtdos @EvasTeslaSPlaid @Tesla @elonmusk https://t.co/LTBWQ5Zonv',\n",
       " '@JohnFugelsang It makes me wonder how Elon Musk has screwed things up at Tesla. https://t.co/M3Eo53aOFJ',\n",
       " '@samuel_garcias @Tesla We,.. acá en N.L. debes estar, manda achichincles a eso, tú debes estar en tú Estado y ver por el, no dejar achichincles aquí..',\n",
       " 'RT @AnonOpsSE: TSLA 10-DAY DEADLINE ALERT: Hagens Berman Encourages Tesla Investors with $1M+ Losses to Contact Firm’s Attorneys Before Apr…',\n",
       " '@CNN In Tesla relative terms profits were low. Understand discounts and currency conversion impacted. However, their profit margin is expected (others haven’t announced yet) to be much higher than Ford, Gm, Toyota, VW…. Let’s see when they announce &amp; then compare.',\n",
       " '@HighyieldHarry I remember laughing at the people saying Tesla would hit 1000 a share back in 18/19, was a long holder but didn’t expect that return to actually come to fruition over such a short time frame',\n",
       " 'RT @UmarBzv: In 1926, Nikola Tesla describing about a cell phone in future. https://t.co/Es2M1Aq1kv',\n",
       " 'Funny when “pay the $8” trends on a day Tesla lost $50 billion in market cap… 🤔',\n",
       " '@robertidellxyz @thesamparr @elonmusk No. But we did just buy a Tesla 🙈',\n",
       " 'RT @DrStevenGreer: Uncovering the Secrets of FREE ENERGY - Dr. Steven Greer (Archives Part 2)\\nhttps://t.co/c3YJOVLWw1\\n\\n#drstevengreer #free…',\n",
       " '@TeslaBoomerPapa We need Ross to be critical. Good for Tesla.',\n",
       " 'Seriously, who would trust their money to these people, this is nuttier than 🐿💩.\\n\\n#tesla $tsla $tslaq https://t.co/DdsrryxGy6',\n",
       " '@samuel_garcias @Tesla Se desvivía Samuelito para mandar el mensajito con sus manos. https://t.co/iJ5LG3PoAQ',\n",
       " '@sparkes_dwayne @RealDanODowd @Tesla @elonmusk It’s valid criticism.   Elon did fail.   He removed radar and saw the weaknesses of software integration, start over.   LiDAR, another fail start over.   Each step you learn what doesn’t work, then you build on what you learned doesn’t work and you get success.   5 years tops Lv5',\n",
       " '\"Musk exemplifies the danger at the intersection of technology and ego: There are serious problems to be dealt with, but distractions always seem to take precedence,\" @dlberes writes: https://t.co/oBDCSX6cSY',\n",
       " 'RT @wealth: A dramatic 24 hours for Elon Musk has slashed his fortune by almost $13 billion, his biggest wealth wipeout this year https://t…',\n",
       " 'RT @denisewu: Elmo’s 24 hours:\\n\\U0001fae3 crush Tesla value by slashing price 6th time this year\\n🤯 blow up a space ship\\n\\U0001fae5 destroyed the purpose for…',\n",
       " 'RT @WatcherGuru: JUST IN: Tesla reveals none of their $321,000,000 #Bitcoin was sold in Q1 2023.',\n",
       " 'RT @ShortingIsFun: \"@ElonMusk \\'s statements could help shed light on the type of information the company had when he sold billions of dolla…',\n",
       " '8 Coolest Tesla Interior Features You Need To Know About https://t.co/jH88SDFD8L',\n",
       " 'RT @MikeyMike1559: Breaks my heart…I mean, it couldn’t have been $21 or $31?!\\n\\nTesla Loses Equivalent Of Ford’s Market Value In A Single Da…',\n",
       " '@RalstonReports @TheNVIndy Can GOED just approve it, like the $330 MIL Tesla expansion deal?',\n",
       " 'RT @RegeneracionMx: #RegeneraciónMx El vándalo no imagino hasta donde llegaría el dueño de este Tesla para encontrarlo😂👇🏼\\n\\nhttps://t.co/xAH…',\n",
       " '@1111SanDiego @Tesla @SpaceX @elonmusk Ok. @tesla PE ratio about 45x was 190x  at EOY 2021 compared to @apple PE ratio 28x was 29x. Lower Tesla stock based on lower revenues based on increasing competition from other car manufacturers, All facts.',\n",
       " 'RT @westwing45_: @elonmusk Elon owns Twitter, owns Tesla, owns SpaceX and so much more. This man is a modern day genius.\\n\\nI’m honored to sh…',\n",
       " \"@garyblack00 We were not very enthusiastic about their prices, didn't get any incentives to buy but still didn't care. We afforded them back then and still afford them now. \\n\\nElon  spewing politics,  racisim, hate, conspiracy,  bigotry,  stupidity, not genuine,  etc... poisend Tesla for many.\",\n",
       " \"RT @KnowledgeArchiv: Nikola Tesla is 16 and he's hanging over the side of a dam, screaming for help.\\n\\nJust before he let's go to fall on th…\",\n",
       " 'I can’t wait to drive/photograph the Cybertruck !!!! ⚡️⚡️⚡️ @Tesla @elonmusk https://t.co/AnReZ3ZE2c',\n",
       " '@papa4c_tesla 大学生の朝まで呑んでたわ自慢と一緒す\\nしんどいのに頑張っとるアピールす',\n",
       " '@TESLA_is_TREX Yup. The first FOMO will begin when $TSLA hits all time highs again.',\n",
       " 'RT @PoeticJ59274248: Twitter removes blue check marks…and SpaceX rocket explodes…and Tesla stock sinks. \\n\\nCoincidence or Karma?? https://t.…',\n",
       " 'RT @TheSGTJoker: I too had a Rapid Unscheduled Disassembly this morning, shortly after breakfast and my second cup of coffee. \\n\\nSpace X is…',\n",
       " \"RT @BlackKnight10k: It's the wild wild west now. You can impersonate literally anyone on here and there's no immediately recognizable way t…\",\n",
       " '米テスラ急落、マスク氏が値下げ継続示唆\\u3000他の自動車株にも売りhttps://t.co/2T20yTzV9s',\n",
       " 'RT @ValaAfshar: If you want to find the secrets of the universe, think in terms of energy, frequency and vibration.\\n\\n—Nikola Tesla https://…',\n",
       " '@elonmusk Lol 😂 nice tesla rocket !',\n",
       " 'RT @DevonESawa: It’s with my Tesla',\n",
       " 'The guy who set the Guinness world record for most wealth loss by anyone ever in January of this year just lost another $13 billion in a single day. Keep up the incredible work, @elonmusk, and maybe you’ll be able to sell Twitter and Tesla for $10 by the end of the year. https://t.co/r4alkCChZt',\n",
       " '@middleageriot Tesla does a Tesla too https://t.co/rTvxWA0Hm7',\n",
       " '@samuel_garcias @Tesla https://t.co/tfFkrRThxX',\n",
       " '@ing_tesla_12345 @JohnCru23368845 @larepublica_pe Que osa marico no te gusta el género?',\n",
       " '#Winning  https://t.co/SHwFQwrTB5',\n",
       " 'MOST of the EV peers can’t yet produce at scale. They are where $TSLA was in 2013ish. So will peers keep losing $$ to compete in a biz they can’t scale anyway? If they were smart they would pivot to 50-60mph battery plug in hybrid focus. Then I’ll sell tesla',\n",
       " 'RT @Tesla: In Q1, we produced over 440k vehicles &amp; delivered over 422k vehicles → https://t.co/BNCUpVjHEj',\n",
       " 'RT @WatcherGuru: JUST IN: Tesla reveals none of their $321,000,000 #Bitcoin was sold in Q1 2023.',\n",
       " 'RT @GregAbbott_TX: The Tesla Cybertruck.\\n \\nTexas made.\\n\\nComing soon.',\n",
       " \"RT @KnowledgeArchiv: Nikola Tesla is 16 and he's hanging over the side of a dam, screaming for help.\\n\\nJust before he let's go to fall on th…\",\n",
       " 'RT @wealth: A dramatic 24 hours for Elon Musk has slashed his fortune by almost $13 billion, his biggest wealth wipeout this year https://t…',\n",
       " 'It was inevitable humanity discover a way to unite energy and information in a form of perfect money, unlike all forms of money before.\\n\\n#Bitcoin\\xa0 is that bit-money &amp; bit-power that engineers predicted like Ford (1921) and Tesla (1900).\\n\\nFuture tech cannot thrive on ancient money https://t.co/mFhMTEXbdD',\n",
       " '@Tesla_App_iOS Love t',\n",
       " \"@elonmusk @StephenKing @amayamario Can you pay for mine? Or better yet a tesla? I'm joking.\",\n",
       " 'Everyone wants a sexy looking car with lots of features. Tesla cars have amazing features but look wise Model 3 and Model Y just don’t appeal. So please do think of redesigning them.',\n",
       " '@haxi0sm @Raspberry_Pi 💯, mine just sits under my bed on 100% of the  time, no case, 1 heat sink on cpu, and one little fan.',\n",
       " \"RT @ronin19217435: 432 is God's frequency\\n\\n 4+3+2 = 9\\n\\n Tesla's 369 is the key to the universe\\n\\n 3+6 = 9\\n\\n 9 is Divine https://t.co/hdb3tVQ…\",\n",
       " '@anainhercloud une tesla 🤭',\n",
       " '@WallStreetSilv Tesla truck would have been fine 🤣',\n",
       " 'Apparently weed was invented today?\\nThanks, probably Nikola Tesla.',\n",
       " 'RT @KanekoaTheGreat: .@elonmusk: \"If that means we lose advertising dollars, we lose it. But freedom of speech is paramount.\" https://t.co/…',\n",
       " '@elonmusk @KanekoaTheGreat @elonmusk Can you build Nikola Tesla Energy for humankind, please ??? https://t.co/k0AHkU0S2H',\n",
       " \"RT @teslaownersSV: Tesla BEAT Podcast #4: Earnings, Price Cuts, Cybertruck &amp; Starship launch, it'll be live streamed on Twitter and our YT…\",\n",
       " '\"Now do a Tesla.\" 😂🤡 https://t.co/lPZbAgOztG',\n",
       " 'RT @wealth: A dramatic 24 hours for Elon Musk has slashed his fortune by almost $13 billion, his biggest wealth wipeout this year https://t…',\n",
       " 'RT @wealth: A dramatic 24 hours for Elon Musk has slashed his fortune by almost $13 billion, his biggest wealth wipeout this year https://t…',\n",
       " 'RT @haradazai: \"there\\'s the city of humans called Jeneora Rock, and the eye of Tesla is looking down the Rock\" https://t.co/y4bODRRwsd',\n",
       " '#Tesla will increase the price within the next 3 months.\\n\\n$TSLA #QQQ #Bitcoin',\n",
       " '@CantStopMeTwit @KneeKnob @krassenstein He was a multi-billionaire before he even created Tesla. He risked all his wealth to create Tesla. If he didn’t do that he’d be worth 2 billion instead of 220 billion.',\n",
       " 'Tesla Trip Planning improvements make their way to App https://t.co/emlKFiKJwR',\n",
       " '@isabelrguez @sanchezcastejon Creo que son 50000000000000 viviendas, un Tesla o un Volvo(a elegir), dos bicicletas eléctricas y un empleo a 15 minutos a elegir entre tres….',\n",
       " 'RT @theprincelyx: The reason Korra’s opps seem stronger than Aang’s is that she’s weaker. Aang was doing cross-country tours while defeatin…',\n",
       " 'RT @elonmusk: Wait for it …',\n",
       " 'RT @StockMKTNewz: Elon Musk just confirmed Tesla $TSLA is making significant investments in Nvidia $NVDA GPUs https://t.co/6OOOM3tlyd',\n",
       " '@elonmusk I want to work in tesla nuevo leon pls hire me. Im product of mexico.',\n",
       " 'RT @InformaCosmos: El viaje de Elon Musk:\\n\\n51 años: compra Twitter.\\n45 años: crea Boring Co\\n45 años: crea Neuralink\\n44 años: crea OpenAI\\n32…',\n",
       " 'RT @WholeMarsBlog: $40,000 Tesla Model 3 at 19.3% automotive gross margin = $7,720 gross profit \\n\\n$15,000 FSD at 80% gross margin = $12,000…',\n",
       " \"@notdeoxide Yes, but no, Deoxide.\\n\\nBut verified symbols are removed on behalf on Elon Musk, Tesla's and SpaceX's CEO.\",\n",
       " '@bec89078261 @garyblack00 Jeff,\\nHate to 1 up you on this 1, but Buffet is scared stiff. I know the insurance business very well, &amp;I can tell you that central issue in insurance is risk assessment &amp;setting premiums accordingly. Data on incidence is always an issue but not for Tesla which has real time data',\n",
       " 'RT @TashaARK: 1/ Our latest Tesla price target is out! $2,000 per share in 2027. Check it out! https://t.co/ltnXj907JT Similar to last year…',\n",
       " '@tesla_peter @InsaneRealitys I surely was lmao like why he got that!!',\n",
       " '@NancyYa18613218 @charleyb2355 @Donsvess I’m still laughing at your 8 years 😂😂😂 why don’t you research a true EV like Tesla 🤔🤔🤔',\n",
       " 'RT @nancylevine: It was only a matter of time. Elon Musk is a liability.\\n\\nTSLA 10-DAY DEADLINE ALERT: Hagens Berman Encourages #Tesla ( $TS…',\n",
       " 'RT @BriannaWu: @elonmusk @SpaceX Twitter is falling apart. Tesla earnings were disastrous. The FDA wants nothing to do with Neuralink. You…',\n",
       " '@ElectrekCo @FredericLambert I am buying an EV this year and I see less than 10% chance of that being a @Tesla . There are so many options now. Unless they nail down #FSD they don’t have any differentiation.',\n",
       " 'RT @ShortingIsFun: \"@ElonMusk \\'s statements could help shed light on the type of information the company had when he sold billions of dolla…',\n",
       " 'Stock market today: Tesla, AT&amp;T help push Wall Street lower \\n\\nhttps://t.co/uRoEIINlcr\\n\\n Breadcrumb Trail links     PMN Business       Author of the article:      The associated press      Stan Choe     Published April 20, 2023  Last updated 3 hours ago  read for 4 minute... https://t.co/ghgiUzGYmU',\n",
       " '@EmmetPeppers Definitely not 5-10% but maybe 1-2% over time and very strategically. Tesla was very smart early on with their Telsa show room experience, branding, merchandise and etc. time to take it to a new level',\n",
       " 'RT @stats_feed: Trillion-dollar companies:\\n\\n$1 Trillion\\n2007: 🇨🇳 PetroChina\\n2018: 🇺🇸 Apple 🇺🇸 Amazon\\n2019: 🇸🇦 Saudi Aramco 🇺🇸 Microsoft\\n202…',\n",
       " \"@greg16676935420 When Greg's Tesla bot version of himself walks on Mars\",\n",
       " 'Wall St slides after gloomy earnings led by Tesla - https://t.co/AeUv3Xr8fH #businessnews #finance #marketnews https://t.co/rlxOh29VXW',\n",
       " '@Gatchaman97 @pblodlr you are confused... tesla moved... not spacex',\n",
       " 'RT @BeijingDai: Starship failed, maybe Musk needs to go China for his space plan like Tesla.',\n",
       " 'Ain’t no bells and whistles in the Tesla',\n",
       " '@KTES1212 もはや僧やん\\nそれは修行僧の振る舞いやん',\n",
       " \"RT @teslaownersSV: Tesla BEAT Podcast #4: Earnings, Price Cuts, Cybertruck &amp; Starship launch, it'll be live streamed on Twitter and our YT…\",\n",
       " \"RT @EricJohnDiesel3: 36/ Reality-based media didn't cover Tesla-Musk's indirect role in Brazilian rainforest deforestation, &amp; in the Bolivi…\",\n",
       " 'RT @wealth: A dramatic 24 hours for Elon Musk has slashed his fortune by almost $13 billion, his biggest wealth wipeout this year https://t…',\n",
       " 'RT @TwinBirchUSA: Hello from Twin Birch! Our mission is to create clothing for a healthier, more sustainable planet.\\n\\nTo transition to a su…',\n",
       " 'RT @GregAbbott_TX: The Tesla Cybertruck.\\n \\nTexas made.\\n\\nComing soon.',\n",
       " 'RT @wealth: A dramatic 24 hours for Elon Musk has slashed his fortune by almost $13 billion, his biggest wealth wipeout this year https://t…',\n",
       " 'RT @piloly: Tesla sacrifices profitability for continued fastest possible growth. This is an investment in the future.\\n\\nNow are over 4m Tes…',\n",
       " 'RT @wealth: A dramatic 24 hours for Elon Musk has slashed his fortune by almost $13 billion, his biggest wealth wipeout this year https://t…',\n",
       " 'RT @wealth: A dramatic 24 hours for Elon Musk has slashed his fortune by almost $13 billion, his biggest wealth wipeout this year https://t…',\n",
       " '@ace_constantine @Tesla Ahh, I live in a non-FSD region :(',\n",
       " \"RT @StockMKTNewz: JUST IN:\\n\\nCathie Wood and Ark Invest announced its updated Tesla $TSLA price target  \\n\\nArk's new expected value for Tesla…\",\n",
       " '@1with_open_arms @westwing45_ @elonmusk 😂 Elon was programmer at his teenage while you were eating your 💩 at the same age. https://t.co/GmAwxhrDed',\n",
       " 'RT @GerberKawasaki: Full day. Took away blue checks, blew up starship and tanked tesla stock. All on 4/20. Drinks are on me today. #TSLA',\n",
       " '@elonmusk I need a milly &amp; a Tesla',\n",
       " \"@concodanomics In this case I almost agree. No legacy margin drag, battery prices coming down, manufacturing simpler, and Tesla EV only with margins than any auto co. would blush at.  She's right.  Please challenge me on what I'm missing without a random smug throwaway remark.\",\n",
       " 'RT @Tesla: Trip Planner now available in Tesla app https://t.co/k9YyLszAqu',\n",
       " '@MattWalshBlog Good to see Elons companies have things in common! Tesla and Spacex love having their things explode!',\n",
       " \"@ttrain4086 @plebdothodl @KobeissiLetter look dude i've been invested in tesla since 2016--it's a looong term hold, you're not going to convince me to paper hand it 😂\",\n",
       " 'RT @technoking_420: @alex_avoigt Funny how Tesla drop the price of their vehicle people FOMO. When $tsla drop their share price people are…',\n",
       " '@JarrodWeir4 @Boswell771 @FlukeyLukey888 @BJRW_7 @asxpeasant @Chris79732167 @hypnosurf @SayonaMining @BankofAmerica @Tesla @lake_resources What you don’t see is is Investissement Quebec privatising and selling off and washing its hands of NAL to the highest bidder from the private sector. To a consortium of Sayona Quebec, with financial backing from Piedmont. A cheap money grab at lithium price crash lows.',\n",
       " 'Samuel García sostuvo una reunión de trabajo con directivos de #Tesla en la planta de #Berlín. Acá los detalles. 👇🚘🇩🇪\\n\\nhttps://t.co/Gm9CSvjEPa',\n",
       " 'RT @wealth: A dramatic 24 hours for Elon Musk has slashed his fortune by almost $13 billion, his biggest wealth wipeout this year https://t…',\n",
       " 'RT @EricJohnDiesel3: 31/ Musk overtly supports \\nfascist coups to increase Tesla profits as above, but is a Tesla factory in Brazil worth th…',\n",
       " '@TaekwonV82 @Teslaconomics Isn\\'t even the reduced margin still \"industrie leading\" ?\\nIt\\'s Tesla vs China.  Europe can\\'t compete in the mass market. \\nI do totally agree with the strategy !',\n",
       " '@YujunWale Tesla',\n",
       " '@fuckedupfoods @whytfpenis',\n",
       " '@ShepcatZero Just like Tesla cars and Twitter.  Everything Elon touches explodes.',\n",
       " 'RT @GregAbbott_TX: The Tesla Cybertruck.\\n \\nTexas made.\\n\\nComing soon.',\n",
       " 'RT @SethAbramson: FWIW, I want humans to explore space. I profoundly admire SpaceX’s engineers. I don’t celebrate the failure of any attemp…',\n",
       " '@squawksquare What this cycle is different from the time Tesla went to 100 is that we dont have Elon directly selling the stock. So the bottom is not 100-120. IMO the bottom will be 145-160 where it will climb back to 185-190 which will be our previous 200-210 levels (forget about them)',\n",
       " 'RT @EricJohnDiesel3: 30/ Musk tweeted \"We will coup whoever we want. Deal with it\"\\n\\nLies about election fraud were the basis for a successf…',\n",
       " \"RT @alex_avoigt: If you panic sell $tsla today, you're making the fundamental mistake of confusing the price of your shares with the value…\",\n",
       " 'RT @wealth: A dramatic 24 hours for Elon Musk has slashed his fortune by almost $13 billion, his biggest wealth wipeout this year https://t…',\n",
       " \"@musicnonstopnow @CathieDWood @TashaARK @skorusARK @DMaguireARK Tesla's future is bright, but not with car loan rates where they are and will be for over a year.\",\n",
       " \"@Tesla I can't find where to use this.\",\n",
       " 'Charging the Tesla, minding my own business, when a Lambo decides to flex.  You ain’t even a green SR…get outta here!  @Mltch_M @Lamborghini https://t.co/Rsj0qayTPz',\n",
       " 'RT @business: A dramatic 24 hours for Elon Musk has slashed his fortune by almost $13 billion, his biggest wealth wipeout this year https:/…',\n",
       " 'RT @wealth: A dramatic 24 hours for Elon Musk has slashed his fortune by almost $13 billion, his biggest wealth wipeout this year https://t…',\n",
       " 'RT @wealth: A dramatic 24 hours for Elon Musk has slashed his fortune by almost $13 billion, his biggest wealth wipeout this year https://t…',\n",
       " 'Tesla and Apple’s all time low for reference. https://t.co/U3T9gvm5XB',\n",
       " 'Do you believe what is written about origin of tesla?\\n\\nonly fools will',\n",
       " '@ilydarth the tesla demon removed everyone’s blue check marks from people who don’t pay for twitter blue',\n",
       " '@TESLA_is_TREX @DoctorJack16 That’s what I’m saying stead of they buy now and hold. They do it every year. Complain about missing out when it goes back up.',\n",
       " 'RT @pablovillaca: O novo dono da rede vive atacando programas sociais, defendendo que o Estado deve ser “enxuto”, mas recebeu 3 BILHÕES DE…',\n",
       " 'RT @IBJIYONGI: Apartheid Clyde is gonna be trying to convince us that killing your users is good for business \\n\\nWhich is definitely an inte…',\n",
       " 'RT @EricJohnDiesel3: 29/ Musk backed a Bolivian coup so Tesla-Brazil paid less for lithium batteries.\\n\\nArmani: \"You know what isn\\'t in the…',\n",
       " '@SawyerMerritt @herbertong Atta boy !! \\nBest of luck Sawyer and thank you for sharing you with us.',\n",
       " '@Red_White_Blue5 @KneeKnob @krassenstein But he’s not using his own money to run Tesla. That’s why I said kept afloat. Trust me I know he’s gonna be rich regardless he was born wealthy. We’re talking business not personal wealth.',\n",
       " 'RT @wealth: A dramatic 24 hours for Elon Musk has slashed his fortune by almost $13 billion, his biggest wealth wipeout this year https://t…',\n",
       " 'RT @wealth: A dramatic 24 hours for Elon Musk has slashed his fortune by almost $13 billion, his biggest wealth wipeout this year https://t…',\n",
       " 'https://t.co/AIivO2n8pw',\n",
       " \"RT @BlackKnight10k: It's the wild wild west now. You can impersonate literally anyone on here and there's no immediately recognizable way t…\",\n",
       " '@TashaARK This makes no sense how you can publish this. Elon makes ridiculous statements across all spectrums. He once said we would fly to Mars in 2024. And is this assuming that Uber and Lyft will fail to have autonomous taxis and only Tesla will prevail? It seems unlikely to beat Uber.',\n",
       " '🤩Esta semana tenemos en subasta este #Tesla Model 3, 2020, con un precio de salida de $𝟲𝟬𝟬,𝟬𝟬𝟬 MXN🤑\\n\\n¡Aún estás a tiempo de adquirir tu base! 👉 https://t.co/6ZI7pCn5Z8\\n\\n#AutoEléctrico #FelizJueves #México #Luxury #lifestyle https://t.co/gOsAQV0rmD',\n",
       " \"RT @ReaActuelle: Strasbourg : Un Antifa tague le capot d'une Tesla sauf qu'il ne savait sûrement pas que ce genre de véhicule était équipé…\",\n",
       " 'RT @wealth: A dramatic 24 hours for Elon Musk has slashed his fortune by almost $13 billion, his biggest wealth wipeout this year https://t…',\n",
       " '@llsethj \\nPlease direct message @elonmusk \\nAsk @Tesla to be bold and drop Model 3 price to $25,000\\nIt can kick start a real EV revolution.\\nThank you,\\nTSLA shareholder\\n\\nPS.\\nInstalling US approved EV batteries in base Model 3 might provide the $7,500 incentive making M3 $17,500',\n",
       " \"RT @FlannelDipole: @EvaFoxU Remarkable progress for the realm of space exploration! 🚀 The success of SpaceX's Starship &amp; Super Heavy in rea…\",\n",
       " 'Just drove past a Tesla that had the numbers 666 on their license plate.',\n",
       " 'RT @CZ_ELONKHAMON: Bird” \\n\\n#nft #art #openseaart #nftcollectors #NFTartist #NFTartwork #NFTCommunty #art #Bitcoin #bnb #eth #crypto #web3 #…',\n",
       " '@zhongwen2005 如果可以成功，Tesla将成功建筑其牢固的规模护城河（低成本，高质量，低售价）。一体式压铸生产如果没有较大产量匹配，其生产成本优势相对传统中国制造并没有巨大优势，但是其缺点是无法生产多规格车型（最终无法与BYD之类不在乎利润的中国车企竞争）',\n",
       " 'Las acciones de Tesla caen más de un 9 % ante la pérdida de\\xa0rentabilidad https://t.co/kHGEeZTJoj',\n",
       " 'Cathie Wood $2000 price target on Tesla is ridiculous $TSLA , $ARKK',\n",
       " '@minmaxmid @RealDanODowd @Tesla @elonmusk It’s crazy how good it has gotten.   It creeps me out,',\n",
       " 'RT @Tesla: Trip Planner now available in Tesla app https://t.co/k9YyLszAqu',\n",
       " 'RT @Tesla: Trip Planner now available in Tesla app https://t.co/k9YyLszAqu',\n",
       " 'RT @wealth: A dramatic 24 hours for Elon Musk has slashed his fortune by almost $13 billion, his biggest wealth wipeout this year https://t…',\n",
       " 'RT @pablovillaca: O novo dono da rede vive atacando programas sociais, defendendo que o Estado deve ser “enxuto”, mas recebeu 3 BILHÕES DE…',\n",
       " '@strengthPlan You still own tesla, just because people will pay less for it today doesnt mean its not just as valueable. Dont sell.',\n",
       " '$tsla ranking amongst public companies:\\n\\nMarket cap: #9\\nEarnings: #81\\nRevenue: #118\\nEmployees: #165\\nCash on hand: #216\\nTotal assets: #428\\n\\nSimply put, Tesla does more with less and shares are priced accordingly.\\n(https://t.co/McbEQSCYOa)',\n",
       " \"RT @ronin19217435: 432 is God's frequency\\n\\n 4+3+2 = 9\\n\\n Tesla's 369 is the key to the universe\\n\\n 3+6 = 9\\n\\n 9 is Divine https://t.co/hdb3tVQ…\",\n",
       " \"Tesla BEAT Podcast #4: Earnings, Price Cuts, Cybertruck &amp; Starship launch, it'll be live streamed on Twitter and our YT channel. @SjvTesla @thejefflutz @SF___Tahoe https://t.co/3mmP15zbIJ\",\n",
       " 'RT @wealth: A dramatic 24 hours for Elon Musk has slashed his fortune by almost $13 billion, his biggest wealth wipeout this year https://t…',\n",
       " 'RT @EricJohnDiesel3: 27/ Tesla has a pro-environment image, yet Musk is a main force supporting Brazilian fascist environmental terrorism.…',\n",
       " 'RT @wealth: A dramatic 24 hours for Elon Musk has slashed his fortune by almost $13 billion, his biggest wealth wipeout this year https://t…',\n",
       " 'RT @SawyerMerritt: NEWS: ARK Invest has released their new $TSLA report.\\n\\nARK’s updated model yields an expected value per share of $2,000…',\n",
       " 'RT @AnonOpsSE: TSLA 10-DAY DEADLINE ALERT: Hagens Berman Encourages Tesla Investors with $1M+ Losses to Contact Firm’s Attorneys Before Apr…',\n",
       " '燃料之後,星艦從環月太空基地出發飛往火星\\n往返於地球-環月太空基地的星艦每艘每天可以回收後循環發射三次\\n如果Musk建成了千艘星艦.人類就可以在星際之間大規模往返\\n可重復使用的星艦建得越多,單次發射的成本就會越低,火箭和星艦成本忽略不計,就是點燃料成本.也許往返一次火星的費用只相當於一輛Tesla https://t.co/kptEv3XdLz',\n",
       " 'Stocks stumble as Tesla drops, US yields retreat after data https://t.co/c3I5aGtVUz',\n",
       " 'RT @wealth: A dramatic 24 hours for Elon Musk has slashed his fortune by almost $13 billion, his biggest wealth wipeout this year https://t…',\n",
       " 'RT @samuel_garcias: Hoy conocimos la Gigafactory de Berlín. A un año de haber arrancado, produce 500 mil autos @Tesla y ya emplea a 10 mil…',\n",
       " \"RT @ronin19217435: 432 is God's frequency\\n\\n 4+3+2 = 9\\n\\n Tesla's 369 is the key to the universe\\n\\n 3+6 = 9\\n\\n 9 is Divine https://t.co/hdb3tVQ…\",\n",
       " 'RT @StrictlyChristo: Tesla stock is having a rapid unscheduled disassembly today, too. 🚀💥📉 https://t.co/oVvzBPwKHc',\n",
       " '@Tesla @elonmusk \\nThanks for the update.  Kids will love fixing the passenger seat from the rear.  Is there any chance we can get an update to save passenger profiles?',\n",
       " 'RT @Tesla: Trip Planner now available in Tesla app https://t.co/k9YyLszAqu',\n",
       " 'RT @business: A dramatic 24 hours for Elon Musk has slashed his fortune by almost $13 billion, his biggest wealth wipeout this year https:/…',\n",
       " '@MatthewDR @Tesla One can only assume it is nitros booster 😂',\n",
       " 'RT @EricJohnDiesel3: 35/ Musk replatformed Brazilian env terrorists &amp; Nazis &amp; boosted Brazilian election denial, trying to get Tesla factor…',\n",
       " '@EmmetPeppers @AlbertBridgeCap It’s more nuanced than a 160 char tweet:\\n1/ @Tesla has superior COGS and GM per MSRP tier they play in, that’s a fact\\n2/ We all hear diff things but I heard a thought experiment of selling at zero margin, not imminent 2023 POR\\n3/ The commodity “Covid economies” roll off is real,… https://t.co/TjROY83NXZ',\n",
       " 'RT @stats_feed: Trillion-dollar companies:\\n\\n$1 Trillion\\n2007: 🇨🇳 PetroChina\\n2018: 🇺🇸 Apple 🇺🇸 Amazon\\n2019: 🇸🇦 Saudi Aramco 🇺🇸 Microsoft\\n202…',\n",
       " '@herbertong @SawyerMerritt Congrats Sawyer and family 🥳❤️',\n",
       " 'RT @Tesla: Trip Planner now available in Tesla app https://t.co/k9YyLszAqu',\n",
       " 'RT @wealth: A dramatic 24 hours for Elon Musk has slashed his fortune by almost $13 billion, his biggest wealth wipeout this year https://t…',\n",
       " \"@WholeMarsBlog Drove my wife's Model 3 without it and I have to say...I'm spoiled.  I won't buy another Tesla without FSD.\",\n",
       " '@Tesla I love that now I’ll be able to show people on my phone how easy it is to road trip in a Tesla!',\n",
       " 'RT @DirtyTesLa: Tesla could have an ad like this!',\n",
       " 'RT @Tesla: Trip Planner now available in Tesla app https://t.co/k9YyLszAqu',\n",
       " 'RT @AUT0PORN: TESLA. 🥵 https://t.co/PpE9GMfwDT',\n",
       " \"RT @unusual_whales: Cathie Wood's $ARKK team released their latest $TSLA, Tesla price target:\\n\\n$2000 per share in 2027\\n$5 trillion valuation\",\n",
       " 'RT @stats_feed: Trillion-dollar companies:\\n\\n$1 Trillion\\n2007: 🇨🇳 PetroChina\\n2018: 🇺🇸 Apple 🇺🇸 Amazon\\n2019: 🇸🇦 Saudi Aramco 🇺🇸 Microsoft\\n202…',\n",
       " 'RT @ValaAfshar: If you want to find the secrets of the universe, think in terms of energy, frequency and vibration.\\n\\n—Nikola Tesla https://…',\n",
       " 'RT @SethAbramson: FWIW, I want humans to explore space. I profoundly admire SpaceX’s engineers. I don’t celebrate the failure of any attemp…',\n",
       " '🇺🇸 NEW 23 MY LR7 in Red/Black/20 with 3 Miles in Sacramento, CA, US for $58,990 🚩 Reserve @ https://t.co/JScJpR1Uqy &amp; Details @ https://t.co/CScr03uHPq',\n",
       " 'https://t.co/SHqdpbP3PY : f4bd0db6-e4ed-49fa-b8e1-2b5695e6f363',\n",
       " '@jaminwestby @NWSGJT @NWSBoulder @BianchiWeather @Tesla Enjoy your four weeks of summer in July 🤣',\n",
       " \"RT @poyopoppin: reading that tristamp interview before i go to sleep here's some stuff that caught my attention (mostly about vash and nai'…\",\n",
       " '@elonmusk @TitterDaily Pay for mine please. I have a \"not-a-flamethrower\", I have a \"starship torch\". How do you feel about Tesla employees getting a free blue checkmark and Subscription?',\n",
       " 'RT @Blue_Bee_pllntr: @wealth @oneunderscore__ Defund Space-X and Tesla.  \\n\\nNo more federal contracts or tax credits for this failure.\\n\\nThe…',\n",
       " 'RT @haradazai: \"there\\'s the city of humans called Jeneora Rock, and the eye of Tesla is looking down the Rock\" https://t.co/y4bODRRwsd',\n",
       " '@Tesla @OfficialTeslakr 한국에서는 사용할수없다고 나옵니다 https://t.co/zfJRkYTLgM',\n",
       " \"@elonmusk give us the entire list of accounts that you are giving the check mark to for free. I'm guessing a ton of pro Tesla accounts/botnets and what/whom else?! https://t.co/5NS65HHfjG\",\n",
       " \"RT @SawyerMerritt: NEWS: Morgan Stanley's Adam Jonas has dropped his $TSLA price target to $200 (from $220), mainainting an Overweight rati…\",\n",
       " '@PolitiReality What about a price cut back to 2021 levels which is where they are for tesla aka normal prices again AND a federal credit advantage to drive lots of people into the flywheel?',\n",
       " 'RT @ronin19217435: Tesla radar SEEING the dead in the cemeteries like people  in a park\\n Fr this is not a trick👀👀 https://t.co/nR3nOtsQ2s',\n",
       " '@daaaaaannnnk @theslyfoxninja @RhyTokes @Harleydadd @Dexerto most of the problems we have caused are irreversible and you would be surprised that the tax money Space X and Tesla and SolarCity receive are not even close to “useless” compared to the other things that your tax money goes to. Not even meat riding fr you can search it up',\n",
       " 'RT @ronin19217435: Tesla radar SEEING the dead in the cemeteries like people  in a park\\n Fr this is not a trick👀👀 https://t.co/nR3nOtsQ2s',\n",
       " '@DanHollaway Federal Employee publicly supporting illegal drugs as determined by the Federal Government',\n",
       " '@farzyness Tesla already blew up 50%+ what more blow up are you looking for, lol',\n",
       " \"@TSLAFanMtl The issue is Musk believes his personal brand is the Tesla brand. And his brand can never lose it's shine. His brands core is the wealth created for all his believers. But as the Musk brand erodes, he takes the $TSLA brand down. The two need to separate. Like Jobs &amp; Apple.\",\n",
       " \"RT @StockMKTNewz: JUST IN:\\n\\nCathie Wood and Ark Invest announced its updated Tesla $TSLA price target  \\n\\nArk's new expected value for Tesla…\",\n",
       " '@TaylorAshton17 That Tesla dude just doing whatever',\n",
       " 'Honored to have written today’s edition of The Atlantic Daily, about Musk mania https://t.co/EDwLD3RKj2',\n",
       " 'Türkiye’de araç bayiilerinin satışı yasaklansın! Online satışa geçilsin! Bunların yanı sıra güvenlik önlemleri alınsın! Tc kimliğe göre satışlar ayrı kurumsallara satışlar ayrı yapılsın! #otomobil #mercedes #tesla #togg',\n",
       " '@skipperBijaoui What would that Tesla truck look like in metallic red with double cab &amp; gull wing doors...lol',\n",
       " '@elonmusk  journey 😌 :\\nAge 51: buys Twitter, becomes CEO\\nAge 45: start Boring Co\\nAge 45: * Neuralink\\nAge 44: * OpenAI\\nAge 32: * Tesla\\nAge 30: * SpaceX\\nAge 28: * X (becomes PayPal)\\nAge 24: * Zip2 (sold to Compaq)\\nAge 19: sells PC’s in college dorm\\nhttps://t.co/5utdpbS3Nr https://t.co/AbmQB2qpxp',\n",
       " 'tô louquinha por um tesla',\n",
       " \"RT @BlackKnight10k: It's the wild wild west now. You can impersonate literally anyone on here and there's no immediately recognizable way t…\",\n",
       " 'https://t.co/U18SjTImB3',\n",
       " \"RT @NotATeslaApp: @Tesla Thanks, Tesla! Here are all the features in Tesla's latest app update, 4.20.69:\\n\\nhttps://t.co/C14uqAR1BJ\",\n",
       " '@eugene_czachor @RealDanODowd @Tesla @elonmusk Boat crash?',\n",
       " \"RT @janTabraiz: #Bitcoin  continues on it's path to flip the world's largest companies in terms of market cap.\\n\\nToday, $BTC edged out Tesla…\",\n",
       " 'RT @Marcus_Today: US #equities finished lower overnight after disappointing quarterly results from companies including #Tesla and AT&amp;T weig…',\n",
       " '@thatleeroy @GerardRoth1 @CNBCFastMoney @timseymour @CourtneyDoming It has nothing to do with the fundamentals. Tesla could have posted 35% margins and Dan would short it. He just hates Elon.',\n",
       " 'RT @ronin19217435: Tesla radar SEEING the dead in the cemeteries like people  in a park\\n Fr this is not a trick👀👀 https://t.co/nR3nOtsQ2s',\n",
       " \"https://t.co/aIgXE4xxYl: [VIDEO] Morning Report: #Investors responded to weak economic data and 'disappointing' earnings from Tesla $TSLA (shares down 9.8%) and AT&amp;T $T (-10.4%).\\nhttps://t.co/7Z40lMsfc6\",\n",
       " '#Economía #Abr20 Acciones de Tesla caen más de un 9% ante la pérdida de rentabilidad https://t.co/RaCALDTAdQ',\n",
       " '@JohnBWellsCTM @DianaArthur17 Oh my fucking God 😵\\u200d💫😖',\n",
       " '@ScottPolhamus @garyblack00 @WholeMarsBlog It probably would. I bet there are many aspects of the Tesla value proposition that they wearnt aware of.',\n",
       " 'RT @SawyerMerritt: Updated @Tesla global factory list:\\n\\n•\\xa0Fremont\\n•\\xa0Giga New York\\n• Giga Nevada\\n•\\xa0Giga Shanghai\\n•\\xa0Giga Berlin\\n•\\xa0Giga Texas…',\n",
       " \"RT @StockMKTNewz: JUST IN:\\n\\nCathie Wood and Ark Invest announced its updated Tesla $TSLA price target  \\n\\nArk's new expected value for Tesla…\",\n",
       " \"RT @WSJmarkets: Tesla's 'real-time' order data could shed light on Elon Musk's share sales https://t.co/FBWhrSIoQY\",\n",
       " '@MilMileBattery @Mattjungphoto @Tesla Dude, 30 second commercials have an entire generation buying the same cereals decades later, some still fronting aged TM mascots like the Flintstones.\\nEveryone is impressionable, for better or worse.',\n",
       " '@GaryKaltbaum I hope you heard the Cathie Wood CNBC interview today closing bell.  They called her out on some of her misses and questioned her $2,000 Tesla evaluation call',\n",
       " '@elonmusk @StephenKing @amayamario keep it up. drop tesla car price 2 more times and i can afford a check too',\n",
       " \"RT @martinvars: My @Tesla left me stranded. Had to Uber home. An unsolicited software update. Left the car at my friend's home. Have to pic…\",\n",
       " '@Tesla This is awesome!',\n",
       " \"@hrhnessa @TyusWilliamson @CincinnatiKidz @PoojaMedia He really can't.\\nMost of the twitter money were loans cause he couldn't afford to sell Tesla stocks worth up to 44b or the stock price would crash Soo hard.\\nI hope ppl who hear this dude is the richest man don't actually think he has 180b waiting in his account.\",\n",
       " \"RT @poyopoppin: reading that tristamp interview before i go to sleep here's some stuff that caught my attention (mostly about vash and nai'…\",\n",
       " '@elonmusk N Tesla should be proud of that',\n",
       " 'RT @wealth: A dramatic 24 hours for Elon Musk has slashed his fortune by almost $13 billion, his biggest wealth wipeout this year https://t…',\n",
       " '@gabbie_tesla @FINALLEVEL You posted publicly so yes you did. Bye',\n",
       " 'RT @business: A dramatic 24 hours for Elon Musk has slashed his fortune by almost $13 billion, his biggest wealth wipeout this year https:/…',\n",
       " \"@Invesquotes @realdarkromance Tesla makes human robots.  Those projections are for five years from now. They'll be coming online by then.\",\n",
       " \"So my Tesla Y after the roadkill is finally fixed. 1 month in the shop. \\n\\nI still can't understand how a coolant pipe is able to destroy the battery. \\n\\nBut I guess it is what it is. \\n\\nTesla private repair centers are flourishing. Time to scale these up. There is a Big market\",\n",
       " 'RT @farzyness: SpaceX: Successful test flight of Starship. Ton of data. Weaknesses identified. Next steps clear as day.\\n\\nMainstream media:…',\n",
       " '@GerberKawasaki I think the problem is that Elon believes if he is well known so is Tesla.   Elon being well known doesn’t mean that everybody knows or understands what a Tesla is.   I believe this is a horrible misjudgment for Elon.',\n",
       " '@elonmusk Could you ask Tesla for a carbon free rocket 🚀 ??',\n",
       " '@davidtayar5 @bvbqqw @stevenmarkryan Looks like a few are missing like here 😿😿 someone tell Dana to update her profile 😂😂😂 My God what will they do…they blocked most Tesla customers and investors…not many $TSLAQ left https://t.co/vWGm2VjjCx',\n",
       " 'まだまだ来週も続くよ。\\n\\n米国株式市場＝下落、低調な決算受けテスラなどに売り | ロイター https://t.co/iLg8GC1DLJ',\n",
       " 'RT @HansTheGerman: @TerliWetter Die deutsche #Autoindustrie hat nicht nur &gt;40 Jahre lang die #Elektromobilität wissentlich +absichtlich blo…',\n",
       " 'BREAKING: @elonmusk tweaks the Twitter blue tick again, now you get a free Tesla',\n",
       " \"RT @Forbes: Tesla Stock Plunges As Analysts Warn Profit Margin 'Pain' Will Linger In Coming Quarters https://t.co/BXZ6bjF452 https://t.co/q…\",\n",
       " \"@randautomation @GRDecter Tesla does face some real challenges! However, the industry is constantly changing and what may be true today may be false tomorrow. There is no doubt that Tesla must deliver on its promises in order to maintain or increase its market value. Let's see what next quarter brings!😛\",\n",
       " 'RT @1WhiteFerrari: “Elon Paid Full Price For All Of His Tesla Model 3’s?”',\n",
       " '@DirtyTesLa Too boring of an ad for Tesla. Could you just imagine what they would do for an ad? I see something like a self driving Tesla driving on an actual rainbow road with Will Farrell playing a cowbell and it ending with a group of Tesla cars all emitting “gas” in unison.',\n",
       " 'RT @WholeMarsBlog: \"We remain of the view that Tesla is a ‘winner’ in the EV market with optionality to a number of potential developments…',\n",
       " 'RT @SethAbramson: FWIW, I want humans to explore space. I profoundly admire SpaceX’s engineers. I don’t celebrate the failure of any attemp…',\n",
       " 'RT @StockMKTNewz: Facebook $META just closed today with a larger market cap than Tesla $TSLA for the first time since late 2021. https://t.…',\n",
       " '@bendotorg @ALilofThisnTha1 @MatthewDR @Tesla I heard that sail storage was cut to make room for all wheel steering.  Would love to be wrong.',\n",
       " '@qurqurqo @latestinspace There won’t be a lawsuit😂 Whoever owned that car just got a new Tesla model Y',\n",
       " 'RT @NPetallides: #WednesdayMotivation #Stocks lower #Tesla #earningsseason  #energy ⬇️ #ATT   $T WORST DAY in &gt;20 yrs ! $TSLA  #DanIves cut…',\n",
       " 'RT @westwing45_: @elonmusk Elon owns Twitter, owns Tesla, owns SpaceX and so much more. This man is a modern day genius.\\n\\nI’m honored to sh…',\n",
       " 'RT @TPostMillennial: Trump tells @fullsendpodcast: \"I just feel that I\\'m here for a certain reason. I\\'m here to defend the United States of…',\n",
       " '@CernBasher @farzyness @TroyTeslike @TeslaPodcast @freshjiva @ICannot_Enough @TSLAFanMtl @FonsDK @MatchasmMatt Next they are going to factor out IRA credits. Tesla probably makes twice as many cars as everyone else together who qualifies for IRA credits. Cha-ching, and Tesla even argued against these.',\n",
       " '@elonmusk @TitterDaily 45 Billion for Twitter, Tesla isn’t doing so well, and you got shit blowing up in the sky…..you sure you got that kind of change to spare?',\n",
       " 'RT @larepublica_co: Tesla decepcionó a los inversionistas con sus resultados del primer trimestre, lo que hizo que las acciones del fabrica…',\n",
       " 'RT @IBJIYONGI: Apartheid Clyde is gonna be trying to convince us that killing your users is good for business \\n\\nWhich is definitely an inte…',\n",
       " 'RT @wealth: A dramatic 24 hours for Elon Musk has slashed his fortune by almost $13 billion, his biggest wealth wipeout this year https://t…',\n",
       " '@ianbfarquhar the problem is that Musk fires people who tell him things he doesn’t want to hear. That has, historically, included engineers at Tesla. I wouldn’t buy a Tesla. Hubby wanted to and now is looking at other brands for when we upgrade our aging car.',\n",
       " \"@RealDanODowd @sunwins888 @elonmusk @Tesla Elon Musk is setting standards for others, but he doesn't have to follow them himself. I think it would be good if he played by his own rules, as it sets an example and leads to safer roads overall. 👍\",\n",
       " \"RT @unusual_whales: Cathie Wood's $ARKK team released their latest $TSLA, Tesla price target:\\n\\n$2000 per share in 2027\\n$5 trillion valuation\",\n",
       " '@SirJediSentinel @WilliamBriot @Carnage4Life and co-opting other peoples’ ideas (paypal, tesla, memes…).',\n",
       " '@garyblack00 The public is ignorant of the value of Tesla vehicles full stop. I Cant even describe the sheer volume and severity of misconceptions about EVs i encounter ubering in my model 3. People dont even know chargeing is cheaper than gas. Not kidding.',\n",
       " 'tenho três letrinhas pro senhor da tesla',\n",
       " \"RT @ronin19217435: 432 is God's frequency\\n\\n 4+3+2 = 9\\n\\n Tesla's 369 is the key to the universe\\n\\n 3+6 = 9\\n\\n 9 is Divine https://t.co/hdb3tVQ…\",\n",
       " 'RT @TashaARK: 1/ Our latest Tesla price target is out! $2,000 per share in 2027. Check it out! https://t.co/ltnXj907JT Similar to last year…',\n",
       " \"@Charly_Electric @DominikBalko @garyblack00 @TSLAFanMtl @aija_tweet @Techgnostik @WholeMarsBlog Young buyers literally only want Teslas.  Go to any high school and ask around what the aspirational car for kids these days is.  It's not a Jaguar/Mercedes/BMW, it's a Tesla.  They're the generation that can truly appreciate all the software and tech that goes into the cars\",\n",
       " 'RT @mercadosyaccion: 🔺A Elon Musk NO le están saliendo las cosas bien, en solo un día las ganancias de Tesla decepcionaron, el cohete de Sp…',\n",
       " 'RT @sekihara_d: 20日の米国株は、そろって下落。\\nダウ▲0.3%、S&amp;P500 ▲0.6%、NASDAQ ▲0.8%\\n\\n決算悪化のTeslaが、▲9.7%の大幅安。\\n発表された3つの指標もすべて悪化し、景気後退が鮮明に。\\n（フィラデルフィア連銀景況指数、失業保険…',\n",
       " 'RT @wealth: A dramatic 24 hours for Elon Musk has slashed his fortune by almost $13 billion, his biggest wealth wipeout this year https://t…',\n",
       " 'Please keep selling your Tesla stock so that I can buy in the $110’s again.  Thanks 🙏',\n",
       " 'RT @TashaARK: 1/ Our latest Tesla price target is out! $2,000 per share in 2027. Check it out! https://t.co/ltnXj907JT Similar to last year…',\n",
       " 'Não comprem ações da Tesla. Para essas e outras dicas de finanças, sigam o meu curso \"como ser rico investido com risco com o pouco que tu tem\"',\n",
       " 'RT @westwing45_: @elonmusk Elon owns Twitter, owns Tesla, owns SpaceX and so much more. This man is a modern day genius.\\n\\nI’m honored to sh…',\n",
       " 'RT @tashwastaken: So my friend bought a Tesla… and I made her watch Georgenotfound stream on it 🥰🤩 @GeorgeNotFound @GeorgeNootFound https:/…',\n",
       " 'RT @Tesla: Trip Planner now available in Tesla app https://t.co/k9YyLszAqu',\n",
       " 'RT @Tesla: Trip Planner now available in Tesla app https://t.co/k9YyLszAqu',\n",
       " '“Elon Paid Full Price For All Of His Tesla Model 3’s?”',\n",
       " 'RT @wealth: A dramatic 24 hours for Elon Musk has slashed his fortune by almost $13 billion, his biggest wealth wipeout this year https://t…',\n",
       " 'RT @wealth: A dramatic 24 hours for Elon Musk has slashed his fortune by almost $13 billion, his biggest wealth wipeout this year https://t…',\n",
       " '@jamesfourm @JohnnyMackay5 @lauferlaw @RVAwonk I think he was rich, was in the right place at the right time, and has been grifting ever since.\\n\\nLike trump he seems to have something of a gift for self publicity. I think Tesla is more a securities fraud scheme than a car company though.',\n",
       " 'RT @WholeMarsBlog: Every Tesla sold this quarter will eventually end up buying , subscribing, or paying on demand for Full Self-Driving.\\n\\n4…',\n",
       " '@Niaz_Xa @CrimesElon @YatinKheti @Ross__Hendricks @doublett23 Look at how many cars are coming to compete in the same space as tesla. The bolt by itself put them back at #2. What does Tesla have to compete with money printing trucks? The cyber truck that has been redesigned 2x because hummer and Silverado. Sit down you clown.',\n",
       " 'RT @samuel_garcias: @Tesla El 72.2% del nearshoring está en Nuevo León y vienen más cosas buenas. 🦁 El futuro es hoy y estamos ansiosos por…',\n",
       " 'RT @theprincelyx: The reason Korra’s opps seem stronger than Aang’s is that she’s weaker. Aang was doing cross-country tours while defeatin…',\n",
       " 'RT @ValaAfshar: If you want to find the secrets of the universe, think in terms of energy, frequency and vibration.\\n\\n—Nikola Tesla https://…',\n",
       " '@ojan_ferdi @glitterycastle @FiersaBesari @elonmusk Tesla nya ga laku kali  makanya banting2 harga.',\n",
       " 'RT @TashaARK: 1/ Our latest Tesla price target is out! $2,000 per share in 2027. Check it out! https://t.co/ltnXj907JT Similar to last year…',\n",
       " 'Current #USD #Stocks #Commodities as well as 10 best performing large cap stocks of 2023: \\n\\n1. Coinbase $COIN +82%\\n2. NVIDIA $NVDA 79%\\n3. Facebook $META +77%\\n4. Spotify $SPOT +63%\\n5. Rolls Royce $RYCEF +61%\\n6. Align $ALGN +59%\\n7. Seagen $SGEN +58%\\n8. Tesla $TSLA +55% \\n9.… https://t.co/0j6dpJxnTO https://t.co/pe7fs7gcbK',\n",
       " 'RT @wealth: A dramatic 24 hours for Elon Musk has slashed his fortune by almost $13 billion, his biggest wealth wipeout this year https://t…',\n",
       " 'Das war der erste Start, keine Ahnung was vom Pad übrig ist und was wohin fliegt. Genau dafür war in erster Linie der Test gedacht. Das sie da ein Starship draufschnallen ist reines Marketing, wie damals mit dem Tesla - muß wohl weg. https://t.co/EZcBaVMnDy',\n",
       " '@vincent_vancode @RealDanODowd @Tesla @elonmusk It’s better than most drivers now.  But I agree it will take bc a few years.  2030',\n",
       " 'RT @wealth: A dramatic 24 hours for Elon Musk has slashed his fortune by almost $13 billion, his biggest wealth wipeout this year https://t…',\n",
       " 'RT @ValaAfshar: If you want to find the secrets of the universe, think in terms of energy, frequency and vibration.\\n\\n—Nikola Tesla https://…',\n",
       " '🔶 ¿Qué predijo Nikola Tesla que se ha hecho realidad? https://t.co/X5Ak4RjtPL',\n",
       " 'RT @ValaAfshar: If you want to find the secrets of the universe, think in terms of energy, frequency and vibration.\\n\\n—Nikola Tesla https://…',\n",
       " 'RT @wealth: A dramatic 24 hours for Elon Musk has slashed his fortune by almost $13 billion, his biggest wealth wipeout this year https://t…',\n",
       " \"RT @BlackKnight10k: It's the wild wild west now. You can impersonate literally anyone on here and there's no immediately recognizable way t…\",\n",
       " '@wintonARK @ARKInvest @TashaARK @skorusARK @DMaguireARK Your weekly reminder that ARK is Tesla’s marketing arm.',\n",
       " '@CharlieMunger00 Think about the implications of selv-driving cars. Now imagine every Tesla you see on the road being autonomy capable. Now imagine that fleet growing exponentially and globally.',\n",
       " 'RT @CharlieMunger00: Does anyone else find this totally insane❓ 👀 \\n\\nImplies a US$7.1 trillion valuation for Tesla by 2027.  Yes US$7.1 tril…',\n",
       " \"RT @BlackKnight10k: It's the wild wild west now. You can impersonate literally anyone on here and there's no immediately recognizable way t…\",\n",
       " '@The_Master85 @samuel_garcias @Tesla Anda enajenado el quequi',\n",
       " '@CathieDWood @TashaARK @skorusARK @DMaguireARK Do an actual fsd review and give us truthful answer if fsd is ready for your assumptions.  For all accounts it’s not.  Don’t hype up Tesla just bc you guys have huge positions! Also don’t sell $tsla if you’re all so bullish, makes you look like hypocrites.',\n",
       " '@EBUYUKARSLAN @StockMKTNewz That’s a good thing. If the middle class can afford teslas then Tesla becomes a multi trillion dollar company. Not sure what ppl don’t get about that',\n",
       " 'RT @Tesla: Trip Planner now available in Tesla app https://t.co/k9YyLszAqu',\n",
       " 'RT @wealth: A dramatic 24 hours for Elon Musk has slashed his fortune by almost $13 billion, his biggest wealth wipeout this year https://t…',\n",
       " 'RT @stats_feed: Trillion-dollar companies:\\n\\n$1 Trillion\\n2007: 🇨🇳 PetroChina\\n2018: 🇺🇸 Apple 🇺🇸 Amazon\\n2019: 🇸🇦 Saudi Aramco 🇺🇸 Microsoft\\n202…',\n",
       " '@MrOpinion260k @SkyNewsAust Tesla has received more than $3.2 billion worth of direct and indirect California subsidies and market mechanisms since 2009.  \\n\\nIs Tesla receiving subsidies from other states and countries?\\nhttps://t.co/y5f2wl3gBv',\n",
       " 'This was not good news at all 🤬🤬😡😡 The community was waiting for the list on Binance or the payment method on Twitter or Tesla 😡😡😡😡 https://t.co/VcYo5zhMjs',\n",
       " '@FredJones251 @evilduck92 @doublett23 @RealDanODowd @Tesla @elonmusk You said it “has to do that yet”, implying you didn’t know the Tesla autopilot has killed 19 people so far',\n",
       " '@GerberKawasaki Competition is spending BILLIONS in hopes to create equal cars. \\n\\nTesla has the cost advantage in a BIG way. \\n\\nWhat does pricing power look like when competitors fall off from selling every EV at a higher price point and at a loss?\\n\\nThis is checkmate. \\n\\nI’m shocked you don’t see… https://t.co/YgATmMTek1',\n",
       " 'Saving the Planet in Style. 🌎🔌😎 \\n•\\n@Tesla #teslamodel3 https://t.co/4wFqFPyA77',\n",
       " '@BabyDogeCoin This was not good news at all 🤬🤬😡😡 The community was waiting for the list on Binance or the payment method on Twitter or Tesla 😡😡😡😡',\n",
       " 'RT @tradingview: Tesla -10.5% since earnings. $TSLA https://t.co/r5LDk9E1Bf',\n",
       " 'tesla sees ghosts 😮 https://t.co/mAE2tYgxcn',\n",
       " 'This was not good news at all 🤬🤬😡😡 The community was waiting for the list on Binance or the payment method on Twitter or Tesla 😡😡😡😡 https://t.co/ADZo0ZMGyR',\n",
       " 'A rough couple of days for Tesla investors https://t.co/fyhoa8X5q0',\n",
       " '株式が「ここ１、２週間、買われすぎていた」とし、決算シーズンが本格化する中、需要減速や企業収益の減少が確認され、買い動機は乏しいと。\\n\\n米国株式市場＝下落、低調な決算受けテスラなどに売り https://t.co/a8JIZvP1JR',\n",
       " '@GOTHAM_Tesla アプデは授かりもんだからね',\n",
       " 'RT @The_Master85: @samuel_garcias @Tesla Conoce Valle Oriente a las 6 de la tarde toda la gente esperando el camión, eso es lo que debes es…',\n",
       " 'RT @wealth: A dramatic 24 hours for Elon Musk has slashed his fortune by almost $13 billion, his biggest wealth wipeout this year https://t…',\n",
       " '@BabyDogeCoin @fcfpay This was not good news at all 🤬🤬😡😡 The community was waiting for the list on Binance or the payment method on Twitter or Tesla 😡😡😡😡',\n",
       " 'Cruise control : Tesla mode',\n",
       " '@profesorishere Bakış açısına bak Tesla bitcoin de satmadı.Çünkü elindekileri 100 k dan satacak.İşine geldiği gibi yorum yapmak böyle bir şey herhalde',\n",
       " \"I would say #Starship has destroyed this car, How did it destroy the engine? OMG🤣Their is Engine oil everywhere and it turned into a truck or as us Aussie's say a Ute 🙃 @elonmusk give this guy a new Tesla 🤣🤣 https://t.co/uVho1nGuFM\",\n",
       " 'RT @samuel_garcias: Hoy conocimos la Gigafactory de Berlín. A un año de haber arrancado, produce 500 mil autos @Tesla y ya emplea a 10 mil…',\n",
       " 'RT @SethAbramson: FWIW, I want humans to explore space. I profoundly admire SpaceX’s engineers. I don’t celebrate the failure of any attemp…',\n",
       " '@GerberKawasaki Sigh.. one good thing you did about $TSLA this year was asking “When will you stop selling Tesla stock” to Elon in space earlier this year.',\n",
       " 'RT @pablovillaca: O novo dono da rede vive atacando programas sociais, defendendo que o Estado deve ser “enxuto”, mas recebeu 3 BILHÕES DE…',\n",
       " '@garyblack00 @elonmusk He made this point just to illustrate how good the lifetime economics of Tesla will become.',\n",
       " 'RT @TheUSASingers: Maybe his stupid rockets and cars wouldn’t always blow up if Elon Musk spent a little more time working at SpaceX and Te…',\n",
       " \"@EvaFoxU Remarkable progress for the realm of space exploration! 🚀 The success of SpaceX's Starship &amp; Super Heavy in reaching this milestone truly showcases the potential of innovation and perseverance. (Also, happy 4/20 fellow Tesla Fox)\",\n",
       " '@samuel_garcias @Tesla Deberías de recorrer también los clubes de Berlín, para que veas lo impresionante que son.',\n",
       " 'RT @Feni__Sam: At my moms picking up Grace. Our local news channel had a Tesla commercial for free in prime time. https://t.co/2VYA7ryEYp',\n",
       " 'RT @SethAbramson: FWIW, I want humans to explore space. I profoundly admire SpaceX’s engineers. I don’t celebrate the failure of any attemp…',\n",
       " 'tesla窓埋めはよ！',\n",
       " 'RT @business: A dramatic 24 hours for Elon Musk has slashed his fortune by almost $13 billion, his biggest wealth wipeout this year https:/…',\n",
       " '@razorfang @RealDanODowd @Tesla @elonmusk We didn’t buy the new FSD upgrade but the old one drives better than most people.   Takes me from Winnipeg to Grand beach in winter vision only no interactions.   \\n\\nCompared to 2020 it’s great.    It really has to be 10x better than humans to get to level 5.\\n\\nDoJo will teach it.',\n",
       " 'RT @wealth: A dramatic 24 hours for Elon Musk has slashed his fortune by almost $13 billion, his biggest wealth wipeout this year https://t…',\n",
       " \"Elon Musk was grilled on Tesla's price cuts during the company's earnings call https://t.co/zjjWBDLivx\",\n",
       " 'vash and knives and tesla edit https://t.co/a9oIcElRPW',\n",
       " 'RT @Reuters: Tesla shares dive nearly 10% as Musk signals more price cuts https://t.co/I4oGOnRkmL https://t.co/sUFRTM6SYG',\n",
       " 'RT @Tesla: Trip Planner now available in Tesla app https://t.co/k9YyLszAqu',\n",
       " \"RT @AlexBrainM: $MULN Lawrence Hardge:                                    I made the decision to contract with Mullen's because some saw th…\",\n",
       " 'RT @Tesla: Trip Planner now available in Tesla app https://t.co/k9YyLszAqu',\n",
       " 'RT @wealth: A dramatic 24 hours for Elon Musk has slashed his fortune by almost $13 billion, his biggest wealth wipeout this year https://t…',\n",
       " 'RT @CBDHempFarmer: Oh, my...\\n https://t.co/rZ2q2Zr7de',\n",
       " 'RT @wealth: A dramatic 24 hours for Elon Musk has slashed his fortune by almost $13 billion, his biggest wealth wipeout this year https://t…',\n",
       " \"RT @CathieDWood: Based on in-depth and differentiated research, @TashaARK, @skorusARK, and @DMaguireARK just published an update to ARK's #…\",\n",
       " 'RT @WatcherGuru: JUST IN: Tesla reveals none of their $321,000,000 #Bitcoin was sold in Q1 2023.',\n",
       " 'RT @wealth: A dramatic 24 hours for Elon Musk has slashed his fortune by almost $13 billion, his biggest wealth wipeout this year https://t…',\n",
       " 'RT @TheTrumpReaper: \"Astonishingly\", when you check out elon musk\\'s and SpaceX\\'s pages, they both blow their own horns on the space penis\\'s…',\n",
       " 'RT @Tesla: Trip Planner now available in Tesla app https://t.co/k9YyLszAqu',\n",
       " '@jayrbrad @GuyForgetGhost The pity/disdain I used to have for Prius drivers has fully transferred to Tesla owners.',\n",
       " '@KitBaroness Force Multipliers, Friction, and the total sum of Humanity’s Energy - A Modernization of Nikola Tesla’s Theory on the Problem with Increasing Human Energy.',\n",
       " \"@RaviTMG48 so it works on fugu/dopamine ? or like jus Xina. Sorry if you already said this i'v just seen like both, its works on fugu/dopamine/it doent.\",\n",
       " 'Looking forward to start ordering!...New 2024 Tesla Model 3 LEAKED! https://t.co/8q4kuW6qjw #Tesla #Model3',\n",
       " \"RT @BlackKnight10k: It's the wild wild west now. You can impersonate literally anyone on here and there's no immediately recognizable way t…\",\n",
       " 'RT @_Kamil1071: #SonDosyaKİT  \\nAltın Dilipak Ali Babacan Alpay Valencia Hilmi Pastırma Galatasaray Tesla Canan Boey Kastamonu moonbin Battı…',\n",
       " 'RT @wealth: A dramatic 24 hours for Elon Musk has slashed his fortune by almost $13 billion, his biggest wealth wipeout this year https://t…',\n",
       " '@GBEESKl @unusual_whales Tesla is on pace for 15% market share in EVs by the time Cathie Wood predicts they hit a $5 trillion valuation. They aren’t even worth their current valuation, hard to see how they’d be worth 10x more.',\n",
       " 'Tesla appのTrip Plannerは流石にまだ日本では使えないようだ.. 楽しみに待ってます😌 https://t.co/Gnbl9bLMrv https://t.co/19W0fN65jz',\n",
       " 'RT @jason_kint: hey at least the public isn\\'t putting \"government-funded\" post-it notes on people\\'s Teslas (yet). wonky  industry joke. htt…',\n",
       " 'RT @wealth: A dramatic 24 hours for Elon Musk has slashed his fortune by almost $13 billion, his biggest wealth wipeout this year https://t…',\n",
       " 'RT @ValaAfshar: If you want to find the secrets of the universe, think in terms of energy, frequency and vibration.\\n\\n—Nikola Tesla https://…',\n",
       " \"RT @KnowledgeArchiv: Nikola Tesla is 16 and he's hanging over the side of a dam, screaming for help.\\n\\nJust before he let's go to fall on th…\",\n",
       " \"RT @unusual_whales: Cathie Wood's $ARKK team released their latest $TSLA, Tesla price target:\\n\\n$2000 per share in 2027\\n$5 trillion valuation\",\n",
       " '@elonmusk Thank you for what you’re doing. Twitter, Space, Tesla (even though I’m not sold on electric cars.) your innovation and determination is inspiring. Just imaging if more people followed your lead instead of criticizing.',\n",
       " 'RT @SjvTesla: I have no worries about Tesla the company, Elon has told us for over a year that the \"recession\" was coming and that the goal…',\n",
       " 'RT @MuellerSheWrote: I wonder what Elon calls his other failures. Tesla catch on fire? That’s Expeditious Impromptu Ignition. Has your soci…',\n",
       " 'RT @SawyerMerritt: NEWS: The Governor of Nuevo León (where Tesla’s Giga Mexico factory will be built), visited Giga Berlin today.  https://…',\n",
       " 'RT @Tesla: Trip Planner now available in Tesla app https://t.co/k9YyLszAqu',\n",
       " 'RT @ronin19217435: Tesla radar SEEING the dead in the cemeteries like people  in a park\\n Fr this is not a trick👀👀 https://t.co/nR3nOtsQ2s',\n",
       " 'RT @rootofgrass: @ronin19217435 it’s Li Auto L9, not tesla. happened in china. \\n\\nrefer to https://t.co/ObzT6Gld9v and \\n\\nhttps://t.co/4I7trz…',\n",
       " 'RT @business: A dramatic 24 hours for Elon Musk has slashed his fortune by almost $13 billion, his biggest wealth wipeout this year https:/…',\n",
       " 'RT @Tesla: Trip Planner now available in Tesla app https://t.co/k9YyLszAqu',\n",
       " \"RT @unusual_whales: Cathie Wood's $ARKK team released their latest $TSLA, Tesla price target:\\n\\n$2000 per share in 2027\\n$5 trillion valuation\",\n",
       " 'RT @EvaFoxU: SpaceX Starship &amp; Super Heavy made the first successful test launch. The giant vehicle was able to fly to an altitude of 39 ki…',\n",
       " \"RT @Tweetermeyer: A lot of people don't want to hear this, but driving a Tesla is the IRL version of a blue check.\",\n",
       " 'RT @FotosDeFatos: Última foto conhecida de Nikola Tesla, 1º de janeiro de 1943. https://t.co/Hrg2Aypgh8',\n",
       " '@annoyed2424 @GordonJohnson19 @elonmusk It ‘s not piling up, don’t confuse “Inventory” with ‘In Stock” they are not the same thing, it just means built but not delivered, the vast majority are already sold.  If you want proof go on Tesla’s website and count how many you can buy right now, it’s a tiny fraction of these… https://t.co/kdEISGiGBU',\n",
       " 'Tesla registra queda de 24% no lucro líquido no começo de 2023 https://t.co/Bn7zSTMlK6 https://t.co/gs5UGhFkaT',\n",
       " 'Current Gold Continuous Contract as well as the 10 best performing large cap stocks of 2023: \\n\\n1. Coinbase $COIN +82%\\n2. NVIDIA $NVDA 79%\\n3. Facebook $META +77%\\n4. Spotify $SPOT +63%\\n5. Rolls Royce $RYCEF +61%\\n6. Align $ALGN +59%\\n7. Seagen $SGEN +58%\\n8. Tesla $TSLA +55% \\n9.… https://t.co/jatE7FbQ9y https://t.co/ROGGT2xGIK',\n",
       " '@Tesla you guys ever thought of making EV submarines?',\n",
       " 'RT @Tesla: Tesla Mobile Connector lets you charge your Tesla anywhere there’s a power outlet https://t.co/zzYA8tlsJM',\n",
       " '@CoffeeNutSydney @LarckeningXuruo @klwtts @Tesla @elonmusk Thais is the correct answer.  Elon is talking about the capability, not regulatory approval.',\n",
       " '@Tesla Can you add police location like waze.',\n",
       " '@fvmvvs @noevlr mais tu généralises, il n y a pas que tesla qui fait des voitures électriques meme les marques actuelles s’y mettent, et la gueule de leurs voitures est incro https://t.co/Nv0tZ1IKY1',\n",
       " 'RT @teslaownersSV: \"Tesla is winning,\" says @garyblack00. \"$TSLA had 36% volume growth in the first quarter... There\\'s no other company tha…',\n",
       " 'RT @Tesla: Trip Planner now available in Tesla app https://t.co/k9YyLszAqu',\n",
       " \"[VIDEO] Morning Report: #Investors responded to weak economic data and 'disappointing' earnings from Tesla $TSLA (shares down 9.8%) and AT&amp;T $T (-10.4%).\\nhttps://t.co/8s2Ws8NbVe\",\n",
       " '🟢 10 datos que no sabías sobre Nikola Tesla https://t.co/WCjTMNlY5i',\n",
       " \"RT @BlackKnight10k: It's the wild wild west now. You can impersonate literally anyone on here and there's no immediately recognizable way t…\",\n",
       " 'RT @ALAYINAAFYOK: #SonDosyaKİT\\nMBaşakşehir Altın Dilipak Ali Babacan Alpay Valencia Hilmi Pastırma Galatasaray Tesla HER ŞEYDEN ÖNCE TÜRKİY…',\n",
       " '@RealDanODowd @elonmusk Sad, sad old Dan still the embarrassing clown who is so greedy that he financed a multi million dollar slur campaign against Tesla because it has a superior software offering to this clown’s own company. Shame on you @RealDanODowd for slowing the progress of this lifesaving… https://t.co/JX1UVEr2i8 https://t.co/imuXRUFLLB',\n",
       " 'RT @WatcherGuru: JUST IN: Tesla reveals none of their $321,000,000 #Bitcoin was sold in Q1 2023.',\n",
       " \"@jakkvega @artificialguybr Depends what you want to run, but you can grab Tesla P40s for like 200 on ebay. bitsandbytes won't run, but 4/8bit GPTQ inference does. And so does SD.\\nYou get 24GB of Pascal GDDR5 goodness for so cheap.\",\n",
       " 'RT @battleangelviv: btw, Model Y has been the bestselling vehicle in all of Europe in Q1 ❤️\\u200d🔥 https://t.co/eJ7UoT3q4i',\n",
       " 'Tesla drivers 🤝 Space X astronauts https://t.co/6rs584MH5Z https://t.co/EYMKu6MgL2',\n",
       " 'RT @wealth: A dramatic 24 hours for Elon Musk has slashed his fortune by almost $13 billion, his biggest wealth wipeout this year https://t…',\n",
       " \"@EmmetPeppers @TSLAFanMtl Yes I listened to those interviews.  But I still rather Tesla's best talent be focused on the biggest technical and engineering challenges that drive the long term growth of the company.\",\n",
       " \"RT @ronin19217435: 432 is God's frequency\\n\\n 4+3+2 = 9\\n\\n Tesla's 369 is the key to the universe\\n\\n 3+6 = 9\\n\\n 9 is Divine https://t.co/hdb3tVQ…\",\n",
       " 'RT @esherifftv: Look what @JoeTegtmeyer found on the beach!!! Starship heat shield tile from world’s largest rocket! #starship #spacex http…',\n",
       " 'RT @Commuternyc: Tesla Confirms Automated Driving Systems Engaged in Fatal Crash Dear bulls FSD will not be the savior of your stock price.…',\n",
       " 'Planification du trajet sur l’application avant de l’envoyer à la voiture. Pratique. https://t.co/tt63glHkLt',\n",
       " 'RT @Tesla: Trip Planner now available in Tesla app https://t.co/k9YyLszAqu',\n",
       " '@garyblack00 @TeslaBoomerMama Can you please add the reasons for selling Tesla ?',\n",
       " 'RT @DialHForHagai: [elon musk after announcing the Tesla] wow this blew up haha check out my soundcloud',\n",
       " 'RT @Tesla: Trip Planner now available in Tesla app https://t.co/k9YyLszAqu',\n",
       " 'RT @samuel_garcias: Conociendo la Giga Factory de @Tesla en Berlín y sus procesos sustentables 🚘🍃\\n\\n¿Sabían que su meta es producir un Tesla…',\n",
       " 'RT @wealth: A dramatic 24 hours for Elon Musk has slashed his fortune by almost $13 billion, his biggest wealth wipeout this year https://t…',\n",
       " '@ABeavehouze @chefB096 @pattonoswalt @elonmusk Hahaha I get it CNN told you he’s a bad man. But Tesla changed the entire automotive industry. So silly',\n",
       " '@InsanityRules @StockMKTNewz Ya Toyota sells 10x the amount of cars which they have also been making for over 50 years yet Tesla already has better profit margins by a long shot 🤣🤡',\n",
       " 'RT @haradazai: \"there\\'s the city of humans called Jeneora Rock, and the eye of Tesla is looking down the Rock\" https://t.co/y4bODRRwsd',\n",
       " 'RT @kame_taro_kabu1: Tesla決算分析\\n納入台数•売上高は伸びるも、相次ぐ値下げで利益率は低下\\n更には値下げしているにも関わらず、通期目標の納入台数に修正は無し\\n\\n⇒株価下落\\n\\n#モーサテ https://t.co/MXw2v6s5Yc',\n",
       " 'RT @Mustafa_eys: #SonDosyaKİT\\nKonya Oosterwolde Firminon Samet Valencia Kamu Oğuzhan Uğur Teravih Alioski Tesla Serdar Aziz Türk Telekom Ca…',\n",
       " '@elonmusk @StephenKing @amayamario Assign AI tech and bring back the wisdom of the greats like Tesla and Hawkins with a Twitter account as you have here, and have the AI respond as that persona. It can be done. Get it done here.',\n",
       " 'Tesla Model Y is populairste nieuwe auto van Europa https://t.co/9t0DCleLLo #autoliefhebber',\n",
       " '@TESLA_CREADOR Nanit chispa',\n",
       " 'RT @mzp: これは知見の共有ですが、この状態でもTeslaの自動運転は動きます https://t.co/Rv36cxBDQT',\n",
       " 'RT @ronin19217435: Tesla radar SEEING the dead in the cemeteries like people  in a park\\n Fr this is not a trick👀👀 https://t.co/nR3nOtsQ2s',\n",
       " \"@MilMileBattery @Tesla Most people don't know what entry level costs.\\nAssumptions can be off by $20k plus, and that's before presenting gas savings and convenience of charge at home.\\nIf they assume they can't afford it, they aren't shopping the site.\\nKnowledge gap can be addressed.\",\n",
       " \"RT @alex_avoigt: If you panic sell $tsla today, you're making the fundamental mistake of confusing the price of your shares with the value…\",\n",
       " 'RT @AUT0PORN: TESLA. 🥵 https://t.co/PpE9GMfwDT',\n",
       " '@garyblack00 @Tesla A trader wants to sell and they need to sell in order to catch the next big wave.. As usual. 4 or 5 days after earnings @tesla will start to see inflows from funds interested in longterm growth. And over the longterm #Tesla is absolutely the most dominant EV company. https://t.co/o5Yb147bpr',\n",
       " \"@ttrain4086 @plebdothodl @KobeissiLetter i'm pretty confident that tesla will be the most valuable company on earth within the next decade so why don't you go spread your misery elsewhere\",\n",
       " \"Today's Space X explosion is the gender reveal moment of  Tesla and Twitter having a baby. https://t.co/2BHsrbw2FL\",\n",
       " '@SmartReversals Agree with all of that, however it’s more indicative of Tesla and it’s weighting and the size of the decline. In fact the equal eight and other big cap held in well\\n\\nWhen in doubt I zoom out. The monthly shows an imminent bullish MACD cross with big cap tech ER end of month 🤔 https://t.co/NuTOPnAEej',\n",
       " 'RT @Tesla: Trip Planner now available in Tesla app https://t.co/k9YyLszAqu',\n",
       " 'RT @BloombergAsia: A dramatic 24 hours for Elon Musk has slashed his fortune by almost $13 billion, his biggest wealth wipeout this year ht…',\n",
       " 'RT @FanboydoDino: @floquixinho @MartinUd666 @LibelinhaRadio @BOLT8910 Que piada ein, se namoro valesse de algo Nikola Tesla ou Leonardo Da…',\n",
       " \"RT @dtjenkins1261: @DC_Draino You're trying to make him sound like a genius when his actions correspond in no way to any degree of brillian…\",\n",
       " \"RT @BlackKnight10k: It's the wild wild west now. You can impersonate literally anyone on here and there's no immediately recognizable way t…\",\n",
       " '@samuel_garcias @Tesla Y cuando conoceras la dignidad?',\n",
       " 'RT @AlertaNews24: 🇺🇸 | AHORA: Las acciones de Tesla se desploman un 8% tras el lanzamiento fallido de la nave Starship.',\n",
       " 'RT @squawksquare: Cathie Wood target for $TSLA is $2,000 by 2027. I think we all know that given what we have seen in Tesla the past year o…',\n",
       " \"RT @BlackKnight10k: It's the wild wild west now. You can impersonate literally anyone on here and there's no immediately recognizable way t…\",\n",
       " '@WholeMarsBlog If @tesla allowed FSD to to be a lifetime purchase meaning you only need to buy it once and if you want to upgrade to a new Tesla it rolls over to the new car.  I’ll buy it in a heartbeat',\n",
       " 'Used car prices are still HIGH, but not for every brand! \\n\\nAverage used car price changes by brand have varied a LOT since the start of 2023.\\n\\nSome brands (like @Porsche and @Tesla) have seen prices drop by thousands, where other brands like @Honda have seen almost no change. https://t.co/WgOCspAyRz https://t.co/jLlBgk0knh',\n",
       " \"RT @BlackKnight10k: It's the wild wild west now. You can impersonate literally anyone on here and there's no immediately recognizable way t…\",\n",
       " 'RT @CBDHempFarmer: Oh, my...\\n https://t.co/rZ2q2Zr7de',\n",
       " \"RT @BlackKnight10k: It's the wild wild west now. You can impersonate literally anyone on here and there's no immediately recognizable way t…\",\n",
       " 'RT @pablovillaca: O novo dono da rede vive atacando programas sociais, defendendo que o Estado deve ser “enxuto”, mas recebeu 3 BILHÕES DE…',\n",
       " 'RT @Tesla: Trip Planner now available in Tesla app https://t.co/k9YyLszAqu',\n",
       " 'RT @pablovillaca: O novo dono da rede vive atacando programas sociais, defendendo que o Estado deve ser “enxuto”, mas recebeu 3 BILHÕES DE…',\n",
       " '@MatthewDR @Tesla Air compressor in the bed was part of the original list of features',\n",
       " 'RT @fox11news: The Wisconsin Assembly has approved a pair of bills that would prevent state and local bans of gas-powered cars and applianc…',\n",
       " 'RT @TashaARK: 1/ Our latest Tesla price target is out! $2,000 per share in 2027. Check it out! https://t.co/ltnXj907JT Similar to last year…',\n",
       " 'RT @ValaAfshar: If you want to find the secrets of the universe, think in terms of energy, frequency and vibration.\\n\\n—Nikola Tesla https://…',\n",
       " 'Thoughts and prayers. https://t.co/uoHdN6YFSH',\n",
       " 'RT @suatgndodu10: #SonDosyaKİT  Sayın Bakanım @vedatbilgn KİT’lerin hakkına girdiniz bu vebalin aktından kalkamazsınız!!\\nAltın Dilipak Ali…',\n",
       " 'The SpaceX rocket launch to day went Tesla.',\n",
       " 'RT @tomiahonen: Space X, the futile frontier. These are the voyages of the penis extension of Twitter Boy, in its 5 minute journey to rapid…',\n",
       " 'RT @tomiahonen: Space X, the futile frontier. These are the voyages of the penis extension of Twitter Boy, in its 5 minute journey to rapid…',\n",
       " '@GerberKawasaki Poor fella.. move on with your life. Hope you made some money sorting TESLA.',\n",
       " 'A red wednesday  AND red Thursday for @cryptos  and @Tesla -9.75% with @elonmusk  \\n@dogecoin -8.78 %\\n@Ripple -8.70%\\n@litecoin  -9.0 %\\nProbability Is just a correction of imbalance after touching the highs after months',\n",
       " 'おはようございます🌞\\n$VOO 378.37 -0.57%\\n$TSLA 162.99 -9.75%🔥🔥🍪🔥🔥\\n$MQ 4.15 -2.35%\\n$TSLL 8.82 -14.62%🔥🔥🍪🔥🔥\\n$NVDA 271.04 -2.96%\\n焼きすぎ〜〜🤣💦\\nまぁTeslaだもん。これくらいで鼻糞ピーン（死語かな😇）してたらそこらじゅう鼻糞だらけだわ🧹\\n\\n芸術は爆発だ‼️以上🚀✨✨🌕✨ https://t.co/bQcPUC6QQs https://t.co/yuHxzkXUgT',\n",
       " '@SenTedCruz @SpaceX And had a Tesla ending, crash and burn',\n",
       " '@SullyOmarr You forgot Tesla',\n",
       " 'RT @MinatoYuichiro: ドイツ人研究者がテスラの最速Plaidモーターを分析：スピードは優位、製造は困難 https://t.co/9zrqNA8nsP',\n",
       " 'RT @mercadosyaccion: 🔺A Elon Musk NO le están saliendo las cosas bien, en solo un día las ganancias de Tesla decepcionaron, el cohete de Sp…',\n",
       " 'RT @wealth: A dramatic 24 hours for Elon Musk has slashed his fortune by almost $13 billion, his biggest wealth wipeout this year https://t…',\n",
       " '@DoctorJack16 $1500-$2000 is funny because that’s where you’ll see the “feeding fenzy” FOMO buyers lining up.',\n",
       " 'RT @wealth: A dramatic 24 hours for Elon Musk has slashed his fortune by almost $13 billion, his biggest wealth wipeout this year https://t…',\n",
       " 'RT @farzyness: I remember back in 2014 when folks were saying Tesla getting to 500k units by 2020 was delusional and a reusable rocket was…',\n",
       " 'RT @Tesla: Trip Planner now available in Tesla app https://t.co/k9YyLszAqu',\n",
       " 'RT @pablovillaca: O novo dono da rede vive atacando programas sociais, defendendo que o Estado deve ser “enxuto”, mas recebeu 3 BILHÕES DE…',\n",
       " 'RT @GerberKawasaki: Full day. Took away blue checks, blew up starship and tanked tesla stock. All on 4/20. Drinks are on me today. #TSLA',\n",
       " '@RowleyVance @Tesla @SawyerMerritt @tesla this please',\n",
       " \"RT @unusual_whales: Cathie Wood's $ARKK team released their latest $TSLA, Tesla price target:\\n\\n$2000 per share in 2027\\n$5 trillion valuation\",\n",
       " \"RT @unusual_whales: Cathie Wood's $ARKK team released their latest $TSLA, Tesla price target:\\n\\n$2000 per share in 2027\\n$5 trillion valuation\",\n",
       " \"RT @ronin19217435: 432 is God's frequency\\n\\n 4+3+2 = 9\\n\\n Tesla's 369 is the key to the universe\\n\\n 3+6 = 9\\n\\n 9 is Divine https://t.co/hdb3tVQ…\",\n",
       " 'RT @Tesla: Trip Planner now available in Tesla app https://t.co/k9YyLszAqu',\n",
       " 'RT @StockMKTNewz: Here are some of the numbers Ark Invest expects for Tesla $TSLA in 2027\\n\\nCathie Wood thinks Elon Musk will be a Trilliona…',\n",
       " 'Although #Tesla reduce their car price meaning to say the net income profit will drop. But the high sales volume can match with the reduction in car price. Not only that, Tesla still have the insurance, FSD  and loan package that will match the price in car price.',\n",
       " 'RT @all_tsla: ARK Invest社は改めて $TSLA の2027年の目標株価を2,000ドルとしました✨🚀\\n\\n- 上位25%の強気確率で2,500ドル\\n- 下位25%の弱気確率で1,400ドル\\n- 企業価値の58%がロボタクシー事業\\n\\nhttps://t.co…',\n",
       " \"@stevenmarkryan 😂😂 Yes, perspective and horizons shrink incredible, but I don't think we will have to wait for a decade for Tesla to crush again and make fool's of doubters and shorts.\",\n",
       " 'RT @newswayng: Amazon and Tesla have eventually recognized and accepted Pi Network #PiNetwork #cryptocurrency https://t.co/IuvTs2PVQe',\n",
       " 'RT @IBJIYONGI: Apartheid Clyde is gonna be trying to convince us that killing your users is good for business \\n\\nWhich is definitely an inte…',\n",
       " 'RT @wealth: A dramatic 24 hours for Elon Musk has slashed his fortune by almost $13 billion, his biggest wealth wipeout this year https://t…',\n",
       " 'RT @wealth: A dramatic 24 hours for Elon Musk has slashed his fortune by almost $13 billion, his biggest wealth wipeout this year https://t…',\n",
       " 'RT @mercadosyaccion: 🔺A Elon Musk NO le están saliendo las cosas bien, en solo un día las ganancias de Tesla decepcionaron, el cohete de Sp…',\n",
       " 'RT @ronin19217435: Tesla radar SEEING the dead in the cemeteries like people  in a park\\n Fr this is not a trick👀👀 https://t.co/nR3nOtsQ2s',\n",
       " 'RT @HighyieldHarry: I hate to say it because ARK is a bunch of goofballs\\n\\nBUT in 2018 ARK said Tesla would hit $4,000/share and it happened…',\n",
       " 'RT @wealth: A dramatic 24 hours for Elon Musk has slashed his fortune by almost $13 billion, his biggest wealth wipeout this year https://t…',\n",
       " '@ChitownEV @Factschaser He probably doesn’t hold a short position in those other car companies like he does with Tesla. Gotta manipulate the market for the gainssss.',\n",
       " '𝙅𝙐𝙎𝙏 𝙄𝙉: Tesla reveals that none of their #Bitcoin\\u202f\\u202f\\u202fsold in Q1 of  2023.',\n",
       " '@pmddomingos I do call for Tesla cars regulation, specifically.\\n\\n1. The speed limit must be capped at 65Mph. There is no reason to drive faster (and its dangerous)\\n2. There must be a dashboard with a speedometer in front of the driver\\n\\nwe must stop the slaughter',\n",
       " 'RT @AnonOpsSE: TSLA 10-DAY DEADLINE ALERT: Hagens Berman Encourages Tesla Investors with $1M+ Losses to Contact Firm’s Attorneys Before Apr…',\n",
       " ...]"
      ]
     },
     "execution_count": 5,
     "metadata": {},
     "output_type": "execute_result"
    }
   ],
   "source": [
    "tweets_text"
   ]
  },
  {
   "cell_type": "code",
   "execution_count": 6,
   "metadata": {
    "colab": {
     "base_uri": "https://localhost:8080/"
    },
    "id": "TgoBWLnOyLvS",
    "outputId": "6c82b8f1-0ffc-4147-d0bf-7dfbefd0b667"
   },
   "outputs": [
    {
     "name": "stderr",
     "output_type": "stream",
     "text": [
      "[nltk_data] Downloading package punkt to\n",
      "[nltk_data]     C:\\Users\\vijay\\AppData\\Roaming\\nltk_data...\n",
      "[nltk_data]   Package punkt is already up-to-date!\n",
      "[nltk_data] Downloading package wordnet to\n",
      "[nltk_data]     C:\\Users\\vijay\\AppData\\Roaming\\nltk_data...\n",
      "[nltk_data]   Package wordnet is already up-to-date!\n",
      "[nltk_data] Downloading package stopwords to\n",
      "[nltk_data]     C:\\Users\\vijay\\AppData\\Roaming\\nltk_data...\n",
      "[nltk_data]   Package stopwords is already up-to-date!\n"
     ]
    }
   ],
   "source": [
    "\n",
    "# Preprocess tweets\n",
    "nltk.download('punkt')\n",
    "nltk.download('wordnet')\n",
    "nltk.download('stopwords')\n",
    "\n",
    "stopword = set(stopwords.words('english'))\n",
    "lemmatizer = WordNetLemmatizer()\n",
    "\n",
    "processed_tweets = []\n",
    "\n",
    "for tweet in tweets_text:\n",
    "    content = ' '.join(re.sub(\"(@[A-Za-z0-9]+)|([^0-9A-Za-z \\t])|(\\w+:\\/\\/\\S+)\", \" \", tweet).split())\n",
    "    tokens = word_tokenize(content)\n",
    "    tokens = [lemmatizer.lemmatize(token) for token in tokens if token not in stopword and len(token) > 1]\n",
    "    processed_tweets.append(' '.join(tokens))\n",
    "\n",
    "\n"
   ]
  },
  {
   "cell_type": "markdown",
   "metadata": {},
   "source": [
    "NLTK library to preprocess the collected tweets. It downloads necessary NLTK resources, removes stopwords and non-alphanumeric characters, tokenizes each tweet into words, lemmatizes each word, and creates a new list of processed tweets."
   ]
  },
  {
   "cell_type": "code",
   "execution_count": 7,
   "metadata": {
    "id": "tbt497wKyOPn"
   },
   "outputs": [],
   "source": [
    "# Remove duplicate and single-word sentences\n",
    "processed_tweets = list(set(processed_tweets))\n",
    "processed_tweets = [tweet for tweet in processed_tweets if len(tweet) > 10]\n"
   ]
  },
  {
   "cell_type": "markdown",
   "metadata": {},
   "source": [
    "first removes duplicate entries from the \n",
    "processed_tweets\n",
    " list using \n",
    "set()\n",
    " and then converts it back to a list. It then removes sentences which have less than or equal to 10 characters (single-word sentences) using a list comprehension."
   ]
  },
  {
   "cell_type": "code",
   "execution_count": 8,
   "metadata": {
    "id": "_QlYSG9jyQlE"
   },
   "outputs": [],
   "source": [
    "# Save preprocessed tweets to a CSV file\n",
    "pd.DataFrame(processed_tweets, columns=['Cleaned_Text']).to_csv('preprocessed_tweets.csv', index=False)\n"
   ]
  },
  {
   "cell_type": "markdown",
   "metadata": {},
   "source": [
    "the preprocessed tweets, which are stored in the \n",
    "processed_tweets\n",
    " list, to a CSV file named \"preprocessed_tweets.csv\". The tweets are saved in a single column called 'Cleaned_Text' and the index is not included in the saved file. The \n",
    "pd.DataFrame()\n",
    " function is used to convert the list of tweets into a Pandas DataFrame object before saving it as a CSV file."
   ]
  },
  {
   "cell_type": "code",
   "execution_count": 9,
   "metadata": {},
   "outputs": [],
   "source": [
    "processed_tweets=pd.read_csv(\"preprocessed_tweets.csv\")"
   ]
  },
  {
   "cell_type": "code",
   "execution_count": 38,
   "metadata": {},
   "outputs": [
    {
     "data": {
      "text/plain": [
       "(1207, 1)"
      ]
     },
     "execution_count": 38,
     "metadata": {},
     "output_type": "execute_result"
    }
   ],
   "source": [
    "processed_tweets.shape"
   ]
  },
  {
   "cell_type": "code",
   "execution_count": 10,
   "metadata": {},
   "outputs": [
    {
     "data": {
      "text/html": [
       "<div>\n",
       "<style scoped>\n",
       "    .dataframe tbody tr th:only-of-type {\n",
       "        vertical-align: middle;\n",
       "    }\n",
       "\n",
       "    .dataframe tbody tr th {\n",
       "        vertical-align: top;\n",
       "    }\n",
       "\n",
       "    .dataframe thead th {\n",
       "        text-align: right;\n",
       "    }\n",
       "</style>\n",
       "<table border=\"1\" class=\"dataframe\">\n",
       "  <thead>\n",
       "    <tr style=\"text-align: right;\">\n",
       "      <th></th>\n",
       "      <th>Cleaned_Text</th>\n",
       "    </tr>\n",
       "  </thead>\n",
       "  <tbody>\n",
       "    <tr>\n",
       "      <th>0</th>\n",
       "      <td>Charging Tesla minding business Lambo decides ...</td>\n",
       "    </tr>\n",
       "    <tr>\n",
       "      <th>1</th>\n",
       "      <td>RT Tesla real time order data could shed light...</td>\n",
       "    </tr>\n",
       "    <tr>\n",
       "      <th>2</th>\n",
       "      <td>Do believe written origin tesla fool</td>\n",
       "    </tr>\n",
       "    <tr>\n",
       "      <th>3</th>\n",
       "      <td>From StockheadComAu Market Highlights Tesla cr...</td>\n",
       "    </tr>\n",
       "    <tr>\n",
       "      <th>4</th>\n",
       "      <td>This crazy Tesla Model 40 000 Model 37 000 via</td>\n",
       "    </tr>\n",
       "  </tbody>\n",
       "</table>\n",
       "</div>"
      ],
      "text/plain": [
       "                                        Cleaned_Text\n",
       "0  Charging Tesla minding business Lambo decides ...\n",
       "1  RT Tesla real time order data could shed light...\n",
       "2               Do believe written origin tesla fool\n",
       "3  From StockheadComAu Market Highlights Tesla cr...\n",
       "4     This crazy Tesla Model 40 000 Model 37 000 via"
      ]
     },
     "execution_count": 10,
     "metadata": {},
     "output_type": "execute_result"
    }
   ],
   "source": [
    "processed_tweets.head(5)"
   ]
  },
  {
   "cell_type": "code",
   "execution_count": 11,
   "metadata": {
    "id": "wf3YIFDO4Ev9"
   },
   "outputs": [],
   "source": [
    "# Load datasets\n",
    "df_all_data = pd.read_csv(\"all-data.csv\", encoding='latin-1', sep=',', header=None, names=['Sentiment', 'Text'])\n",
    "stock_twitter_df = pd.read_csv(\"stock_twitter.csv\", encoding='latin-1', sep=',')\n",
    "\n"
   ]
  },
  {
   "cell_type": "markdown",
   "metadata": {},
   "source": [
    "loads two datasets from CSV files into pandas dataframes: \"all-data.csv\" with columns 'Sentiment' and 'Text', and \"stock_twitter.csv\". The encoding of both files is \"latin-1\" and the separator is a comma (',')."
   ]
  },
  {
   "cell_type": "code",
   "execution_count": 39,
   "metadata": {},
   "outputs": [
    {
     "data": {
      "text/plain": [
       "(4847, 2)"
      ]
     },
     "execution_count": 39,
     "metadata": {},
     "output_type": "execute_result"
    }
   ],
   "source": [
    "df_all_data.shape"
   ]
  },
  {
   "cell_type": "code",
   "execution_count": 12,
   "metadata": {},
   "outputs": [
    {
     "data": {
      "text/html": [
       "<div>\n",
       "<style scoped>\n",
       "    .dataframe tbody tr th:only-of-type {\n",
       "        vertical-align: middle;\n",
       "    }\n",
       "\n",
       "    .dataframe tbody tr th {\n",
       "        vertical-align: top;\n",
       "    }\n",
       "\n",
       "    .dataframe thead th {\n",
       "        text-align: right;\n",
       "    }\n",
       "</style>\n",
       "<table border=\"1\" class=\"dataframe\">\n",
       "  <thead>\n",
       "    <tr style=\"text-align: right;\">\n",
       "      <th></th>\n",
       "      <th>Sentiment</th>\n",
       "      <th>Text</th>\n",
       "    </tr>\n",
       "  </thead>\n",
       "  <tbody>\n",
       "    <tr>\n",
       "      <th>0</th>\n",
       "      <td>Sentiment</td>\n",
       "      <td>Text</td>\n",
       "    </tr>\n",
       "    <tr>\n",
       "      <th>1</th>\n",
       "      <td>neutral</td>\n",
       "      <td>According to Gran , the company has no plans t...</td>\n",
       "    </tr>\n",
       "    <tr>\n",
       "      <th>2</th>\n",
       "      <td>neutral</td>\n",
       "      <td>Technopolis plans to develop in stages an area...</td>\n",
       "    </tr>\n",
       "    <tr>\n",
       "      <th>3</th>\n",
       "      <td>negative</td>\n",
       "      <td>The international electronic industry company ...</td>\n",
       "    </tr>\n",
       "    <tr>\n",
       "      <th>4</th>\n",
       "      <td>positive</td>\n",
       "      <td>With the new production plant the company woul...</td>\n",
       "    </tr>\n",
       "  </tbody>\n",
       "</table>\n",
       "</div>"
      ],
      "text/plain": [
       "   Sentiment                                               Text\n",
       "0  Sentiment                                               Text\n",
       "1    neutral  According to Gran , the company has no plans t...\n",
       "2    neutral  Technopolis plans to develop in stages an area...\n",
       "3   negative  The international electronic industry company ...\n",
       "4   positive  With the new production plant the company woul..."
      ]
     },
     "execution_count": 12,
     "metadata": {},
     "output_type": "execute_result"
    }
   ],
   "source": [
    "df_all_data.head(5)"
   ]
  },
  {
   "cell_type": "code",
   "execution_count": 40,
   "metadata": {},
   "outputs": [
    {
     "data": {
      "text/plain": [
       "(5791, 2)"
      ]
     },
     "execution_count": 40,
     "metadata": {},
     "output_type": "execute_result"
    }
   ],
   "source": [
    "stock_twitter_df.shape"
   ]
  },
  {
   "cell_type": "code",
   "execution_count": 13,
   "metadata": {},
   "outputs": [
    {
     "data": {
      "text/html": [
       "<div>\n",
       "<style scoped>\n",
       "    .dataframe tbody tr th:only-of-type {\n",
       "        vertical-align: middle;\n",
       "    }\n",
       "\n",
       "    .dataframe tbody tr th {\n",
       "        vertical-align: top;\n",
       "    }\n",
       "\n",
       "    .dataframe thead th {\n",
       "        text-align: right;\n",
       "    }\n",
       "</style>\n",
       "<table border=\"1\" class=\"dataframe\">\n",
       "  <thead>\n",
       "    <tr style=\"text-align: right;\">\n",
       "      <th></th>\n",
       "      <th>Text</th>\n",
       "      <th>Sentiment</th>\n",
       "    </tr>\n",
       "  </thead>\n",
       "  <tbody>\n",
       "    <tr>\n",
       "      <th>0</th>\n",
       "      <td>Kickers on my watchlist XIDE TIT SOQ PNK CPW B...</td>\n",
       "      <td>positive</td>\n",
       "    </tr>\n",
       "    <tr>\n",
       "      <th>1</th>\n",
       "      <td>user: AAP MOVIE. 55% return for the FEA/GEED i...</td>\n",
       "      <td>positive</td>\n",
       "    </tr>\n",
       "    <tr>\n",
       "      <th>2</th>\n",
       "      <td>user I'd be afraid to short AMZN - they are lo...</td>\n",
       "      <td>positive</td>\n",
       "    </tr>\n",
       "    <tr>\n",
       "      <th>3</th>\n",
       "      <td>MNTA Over positive2.00</td>\n",
       "      <td>positive</td>\n",
       "    </tr>\n",
       "    <tr>\n",
       "      <th>4</th>\n",
       "      <td>OI  Over 2positive.37</td>\n",
       "      <td>positive</td>\n",
       "    </tr>\n",
       "  </tbody>\n",
       "</table>\n",
       "</div>"
      ],
      "text/plain": [
       "                                                Text Sentiment\n",
       "0  Kickers on my watchlist XIDE TIT SOQ PNK CPW B...  positive\n",
       "1  user: AAP MOVIE. 55% return for the FEA/GEED i...  positive\n",
       "2  user I'd be afraid to short AMZN - they are lo...  positive\n",
       "3                           MNTA Over positive2.00    positive\n",
       "4                            OI  Over 2positive.37    positive"
      ]
     },
     "execution_count": 13,
     "metadata": {},
     "output_type": "execute_result"
    }
   ],
   "source": [
    "stock_twitter_df.head(5)"
   ]
  },
  {
   "cell_type": "code",
   "execution_count": 14,
   "metadata": {
    "id": "rB4ubhbMyh1J"
   },
   "outputs": [],
   "source": [
    "# Combine datasets\n",
    "all_data_df = pd.concat([df_all_data, stock_twitter_df])\n"
   ]
  },
  {
   "cell_type": "markdown",
   "metadata": {},
   "source": [
    "combines two pandas DataFrames, \n",
    "all_data_df\n",
    " and \n",
    "stock_twitter_df\n",
    ", by concatenating them vertically. The resulting DataFrame has all the rows from both DataFrames."
   ]
  },
  {
   "cell_type": "code",
   "execution_count": 15,
   "metadata": {},
   "outputs": [
    {
     "data": {
      "text/html": [
       "<div>\n",
       "<style scoped>\n",
       "    .dataframe tbody tr th:only-of-type {\n",
       "        vertical-align: middle;\n",
       "    }\n",
       "\n",
       "    .dataframe tbody tr th {\n",
       "        vertical-align: top;\n",
       "    }\n",
       "\n",
       "    .dataframe thead th {\n",
       "        text-align: right;\n",
       "    }\n",
       "</style>\n",
       "<table border=\"1\" class=\"dataframe\">\n",
       "  <thead>\n",
       "    <tr style=\"text-align: right;\">\n",
       "      <th></th>\n",
       "      <th>Sentiment</th>\n",
       "      <th>Text</th>\n",
       "    </tr>\n",
       "  </thead>\n",
       "  <tbody>\n",
       "    <tr>\n",
       "      <th>0</th>\n",
       "      <td>Sentiment</td>\n",
       "      <td>Text</td>\n",
       "    </tr>\n",
       "    <tr>\n",
       "      <th>1</th>\n",
       "      <td>neutral</td>\n",
       "      <td>According to Gran , the company has no plans t...</td>\n",
       "    </tr>\n",
       "    <tr>\n",
       "      <th>2</th>\n",
       "      <td>neutral</td>\n",
       "      <td>Technopolis plans to develop in stages an area...</td>\n",
       "    </tr>\n",
       "    <tr>\n",
       "      <th>3</th>\n",
       "      <td>negative</td>\n",
       "      <td>The international electronic industry company ...</td>\n",
       "    </tr>\n",
       "    <tr>\n",
       "      <th>4</th>\n",
       "      <td>positive</td>\n",
       "      <td>With the new production plant the company woul...</td>\n",
       "    </tr>\n",
       "  </tbody>\n",
       "</table>\n",
       "</div>"
      ],
      "text/plain": [
       "   Sentiment                                               Text\n",
       "0  Sentiment                                               Text\n",
       "1    neutral  According to Gran , the company has no plans t...\n",
       "2    neutral  Technopolis plans to develop in stages an area...\n",
       "3   negative  The international electronic industry company ...\n",
       "4   positive  With the new production plant the company woul..."
      ]
     },
     "execution_count": 15,
     "metadata": {},
     "output_type": "execute_result"
    }
   ],
   "source": [
    "all_data_df.head(5)"
   ]
  },
  {
   "cell_type": "code",
   "execution_count": 41,
   "metadata": {},
   "outputs": [
    {
     "data": {
      "text/plain": [
       "10638"
      ]
     },
     "execution_count": 41,
     "metadata": {},
     "output_type": "execute_result"
    }
   ],
   "source": [
    "all_data_df.shape"
   ]
  },
  {
   "cell_type": "code",
   "execution_count": 42,
   "metadata": {},
   "outputs": [
    {
     "data": {
      "text/plain": [
       "10638"
      ]
     },
     "execution_count": 42,
     "metadata": {},
     "output_type": "execute_result"
    }
   ],
   "source": [
    "df_all_data.shape[0] + stock_twitter_df.shape[0]"
   ]
  },
  {
   "cell_type": "markdown",
   "metadata": {},
   "source": [
    "Checking all_data_df have all rows from both dataframes"
   ]
  },
  {
   "cell_type": "code",
   "execution_count": 16,
   "metadata": {
    "id": "C0Fwx2LjykRa"
   },
   "outputs": [],
   "source": [
    "# Clean the train data by removing stop words and performing lemmatization\n",
    "stopword = set(stopwords.words('english'))\n",
    "Cleaned_data = []\n",
    "for x in all_data_df['Text']:\n",
    "    tokens = word_tokenize(str(x))\n",
    "    final_tokens = [w for w in tokens if w not in stopword]\n",
    "    wordLemm = WordNetLemmatizer()\n",
    "    finalwords = []\n",
    "    for w in final_tokens:\n",
    "        if len(w) > 1:\n",
    "            word = wordLemm.lemmatize(w)\n",
    "            finalwords.append(word)\n",
    "    Cleaned_data.append(' '.join(finalwords))\n",
    "all_data_df['Cleaned_Text'] = Cleaned_data\n"
   ]
  },
  {
   "cell_type": "markdown",
   "metadata": {},
   "source": [
    "loads two datasets (\n",
    "all-data.csv\n",
    " and \n",
    "stock_twitter.csv\n",
    ") using pandas read_csv() function. \n",
    "all-data.csv\n",
    " dataset contains two columns: 'Sentiment' and 'Text', while \n",
    "stock_twitter.csv\n",
    " has several columns including 'Text', which contains the tweets related to stocks.\n",
    "\n",
    "Then, it concatenates both datasets using pd.concat() function into one dataframe called all_data_df.\n",
    "\n",
    "After that, the code preprocesses the text data in the 'Text' column of the concatenated dataframe by removing stopwords and performing lemmatization. It then adds this preprocessed text as a new column to the same dataframe called 'Cleaned_Text'."
   ]
  },
  {
   "cell_type": "code",
   "execution_count": 17,
   "metadata": {
    "id": "Bf2pUDjlymLR"
   },
   "outputs": [],
   "source": [
    "# Filter out classes with fewer than 2 samples\n",
    "class_counts = all_data_df['Sentiment'].value_counts()\n",
    "valid_classes = class_counts[class_counts >= 2].index\n",
    "filtered_df = all_data_df[all_data_df['Sentiment'].isin(valid_classes)]\n"
   ]
  },
  {
   "cell_type": "markdown",
   "metadata": {},
   "source": [
    " filters out the classes with fewer than 2 samples from the dataset. It counts the number of samples for each sentiment class in the 'Sentiment' column of 'all_data_df', and stores them in 'class_counts'.\n",
    "Then, it selects only those classes that have two or more samples and stores them in 'valid_classes'. Next, it creates a new DataFrame called 'filtered_df', which includes only the rows from 'all_data_df' where the 'Sentiment' column value is in 'valid_classes'."
   ]
  },
  {
   "cell_type": "code",
   "execution_count": 18,
   "metadata": {
    "id": "Jmv05mehyoKS"
   },
   "outputs": [],
   "source": [
    "# Split the data into train and test sets\n",
    "Train_X, Test_X, Train_Y, Test_Y = train_test_split(filtered_df['Cleaned_Text'], filtered_df['Sentiment'], test_size=0.3, random_state=25, stratify=filtered_df['Sentiment'])\n"
   ]
  },
  {
   "cell_type": "markdown",
   "metadata": {},
   "source": [
    "splits the filtered data into two sets, a training set (Train_X and Train_Y) and a test set (Test_X and Test_Y). The splitting is done using the train_test_split function from the scikit-learn library. The size of the test set is set to 30% of the total data, with a random_state set to 25 for reproducibility. The stratify argument ensures that the distribution of classes in the original data is maintained in both the training and test sets."
   ]
  },
  {
   "cell_type": "code",
   "execution_count": 19,
   "metadata": {},
   "outputs": [
    {
     "data": {
      "text/plain": [
       "(7445,)"
      ]
     },
     "execution_count": 19,
     "metadata": {},
     "output_type": "execute_result"
    }
   ],
   "source": [
    "Train_X.shape"
   ]
  },
  {
   "cell_type": "code",
   "execution_count": 20,
   "metadata": {},
   "outputs": [
    {
     "data": {
      "text/plain": [
       "(7445,)"
      ]
     },
     "execution_count": 20,
     "metadata": {},
     "output_type": "execute_result"
    }
   ],
   "source": [
    "Train_Y.shape"
   ]
  },
  {
   "cell_type": "code",
   "execution_count": 21,
   "metadata": {},
   "outputs": [
    {
     "data": {
      "text/plain": [
       "(3192,)"
      ]
     },
     "execution_count": 21,
     "metadata": {},
     "output_type": "execute_result"
    }
   ],
   "source": [
    "Test_Y.shape"
   ]
  },
  {
   "cell_type": "code",
   "execution_count": 22,
   "metadata": {},
   "outputs": [
    {
     "data": {
      "text/plain": [
       "(3192,)"
      ]
     },
     "execution_count": 22,
     "metadata": {},
     "output_type": "execute_result"
    }
   ],
   "source": [
    "Test_X.shape"
   ]
  },
  {
   "cell_type": "markdown",
   "metadata": {
    "id": "oyX67RHFy2jN"
   },
   "source": [
    "# Multinomial Naive Bayes classifier"
   ]
  },
  {
   "cell_type": "code",
   "execution_count": 23,
   "metadata": {
    "id": "KD3RdwPuypx2"
   },
   "outputs": [],
   "source": [
    "# Create a pipeline with the Tf-IDF vector and Multinomial Naive Bayes classifier\n",
    "model = make_pipeline(TfidfVectorizer(), MultinomialNB())\n"
   ]
  },
  {
   "cell_type": "markdown",
   "metadata": {},
   "source": [
    "creates a pipeline that consists of two steps:\n",
    "\n",
    "TfidfVectorizer()\n",
    " - a feature extraction method that converts text documents to a matrix of TF-IDF features.\n",
    "\n",
    "MultinomialNB()\n",
    " - a probabilistic classifier based on the Bayes theorem that uses the Naive assumption that the features are conditionally independent given the class.\n",
    "\n",
    "The pipeline enables the model to apply both the feature extraction and classification steps together in one step for efficiency."
   ]
  },
  {
   "cell_type": "code",
   "execution_count": 24,
   "metadata": {
    "colab": {
     "base_uri": "https://localhost:8080/",
     "height": 125
    },
    "id": "yORvrtWtyslU",
    "outputId": "c1188250-b91b-4ada-e24a-59256ed2eb7e"
   },
   "outputs": [
    {
     "data": {
      "text/plain": [
       "Pipeline(steps=[('tfidfvectorizer', TfidfVectorizer()),\n",
       "                ('multinomialnb', MultinomialNB())])"
      ]
     },
     "execution_count": 24,
     "metadata": {},
     "output_type": "execute_result"
    }
   ],
   "source": [
    "# Train the model using the fit method\n",
    "model.fit(Train_X, Train_Y)"
   ]
  },
  {
   "cell_type": "markdown",
   "metadata": {},
   "source": [
    "creates a machine learning model pipeline with the \n",
    "TfidfVectorizer()\n",
    " and \n",
    "MultinomialNB()\n",
    " estimator. Then, the model is trained on the training data (\n",
    "Train_X\n",
    " and \n",
    "Train_Y\n",
    ") using the \n",
    "fit()\n",
    " method. The \n",
    "TfidfVectorizer()\n",
    " creates a sparse matrix of term frequency-inverse document frequency (TF-IDF) features from the text data, while \n",
    "MultinomialNB()\n",
    " is a probabilistic classifier based on the Bayes theorem that is used to predict the sentiment class labels."
   ]
  },
  {
   "cell_type": "code",
   "execution_count": 25,
   "metadata": {
    "id": "whbHcJgwyu0y"
   },
   "outputs": [],
   "source": [
    "# Load the preprocessed tweets and predict the sentiment\n",
    "preprocessed_tweets_df = pd.read_csv(\"preprocessed_tweets.csv\")\n",
    "preprocessed_tweets = preprocessed_tweets_df['Cleaned_Text']\n",
    "predicted_labels = model.predict(preprocessed_tweets)\n"
   ]
  },
  {
   "cell_type": "markdown",
   "metadata": {},
   "source": [
    " loads preprocessed tweets from a CSV file, applies the trained model to predict the sentiment of each tweet, and stores the predicted labels in a NumPy array called \n",
    "predicted_labels\n",
    ". The \n",
    "preprocessed_tweets\n",
    " variable holds the cleaned version of the tweets."
   ]
  },
  {
   "cell_type": "code",
   "execution_count": 26,
   "metadata": {
    "id": "vK8k00ie09wy"
   },
   "outputs": [],
   "source": [
    "# Write the predicted labels to a CSV file\n",
    "preprocessed_tweets_df['Sentiment'] = predicted_labels\n",
    "preprocessed_tweets_df.to_csv('predicted_tweets_nbc.csv', index=False)\n",
    "\n"
   ]
  },
  {
   "cell_type": "markdown",
   "metadata": {},
   "source": [
    "loads the preprocessed tweets from a CSV file, predicts their sentiment using a trained model and saves the predicted labels to another CSV file. Specifically, it first reads the 'Cleaned_Text' column from the preprocessed_tweets.csv file into a pandas DataFrame. Then, it uses the trained model to predict the sentiment of each tweet and stores the predicted labels in a new column named 'Sentiment'. Finally, it writes the entire DataFrame, including the predicted labels, to a new CSV file named 'predicted_tweets_nbc.csv'."
   ]
  },
  {
   "cell_type": "code",
   "execution_count": 27,
   "metadata": {},
   "outputs": [
    {
     "data": {
      "text/html": [
       "<div>\n",
       "<style scoped>\n",
       "    .dataframe tbody tr th:only-of-type {\n",
       "        vertical-align: middle;\n",
       "    }\n",
       "\n",
       "    .dataframe tbody tr th {\n",
       "        vertical-align: top;\n",
       "    }\n",
       "\n",
       "    .dataframe thead th {\n",
       "        text-align: right;\n",
       "    }\n",
       "</style>\n",
       "<table border=\"1\" class=\"dataframe\">\n",
       "  <thead>\n",
       "    <tr style=\"text-align: right;\">\n",
       "      <th></th>\n",
       "      <th>Cleaned_Text</th>\n",
       "      <th>Sentiment</th>\n",
       "    </tr>\n",
       "  </thead>\n",
       "  <tbody>\n",
       "    <tr>\n",
       "      <th>0</th>\n",
       "      <td>Charging Tesla minding business Lambo decides ...</td>\n",
       "      <td>positive</td>\n",
       "    </tr>\n",
       "    <tr>\n",
       "      <th>1</th>\n",
       "      <td>RT Tesla real time order data could shed light...</td>\n",
       "      <td>positive</td>\n",
       "    </tr>\n",
       "    <tr>\n",
       "      <th>2</th>\n",
       "      <td>Do believe written origin tesla fool</td>\n",
       "      <td>positive</td>\n",
       "    </tr>\n",
       "    <tr>\n",
       "      <th>3</th>\n",
       "      <td>From StockheadComAu Market Highlights Tesla cr...</td>\n",
       "      <td>positive</td>\n",
       "    </tr>\n",
       "    <tr>\n",
       "      <th>4</th>\n",
       "      <td>This crazy Tesla Model 40 000 Model 37 000 via</td>\n",
       "      <td>positive</td>\n",
       "    </tr>\n",
       "  </tbody>\n",
       "</table>\n",
       "</div>"
      ],
      "text/plain": [
       "                                        Cleaned_Text Sentiment\n",
       "0  Charging Tesla minding business Lambo decides ...  positive\n",
       "1  RT Tesla real time order data could shed light...  positive\n",
       "2               Do believe written origin tesla fool  positive\n",
       "3  From StockheadComAu Market Highlights Tesla cr...  positive\n",
       "4     This crazy Tesla Model 40 000 Model 37 000 via  positive"
      ]
     },
     "execution_count": 27,
     "metadata": {},
     "output_type": "execute_result"
    }
   ],
   "source": [
    "nbc_processed_tweets=pd.read_csv('predicted_tweets_nbc.csv')\n",
    "nbc_processed_tweets.head(5)"
   ]
  },
  {
   "cell_type": "markdown",
   "metadata": {
    "id": "XHr_-KwCy4-q"
   },
   "source": [
    "#### Multinomial Naive Bayes classifier\n",
    "#### Result"
   ]
  },
  {
   "cell_type": "code",
   "execution_count": 28,
   "metadata": {
    "colab": {
     "base_uri": "https://localhost:8080/"
    },
    "id": "vk_WsrWCAkPd",
    "outputId": "34dcb850-3f91-45dd-b56a-01501d5260a6"
   },
   "outputs": [
    {
     "name": "stdout",
     "output_type": "stream",
     "text": [
      "Accuracy: 0.67\n",
      "\n",
      "Sentiment: negative\n",
      "Precision: 0.86\n",
      "Recall: 0.20\n",
      "F1-score: 0.32\n",
      "Support: 813.00\n",
      "\n",
      "\n",
      "Sentiment: neutral\n",
      "Precision: 0.74\n",
      "Recall: 0.78\n",
      "F1-score: 0.76\n",
      "Support: 864.00\n",
      "\n",
      "\n",
      "Sentiment: positive\n",
      "Precision: 0.63\n",
      "Recall: 0.87\n",
      "F1-score: 0.73\n",
      "Support: 1515.00\n",
      "\n"
     ]
    }
   ],
   "source": [
    "from sklearn.metrics import classification_report, accuracy_score\n",
    "Test_Y_pred = model.predict(Test_X)\n",
    "accuracy = accuracy_score(Test_Y, Test_Y_pred)\n",
    "print(f'Accuracy: {accuracy:.2f}')\n",
    "report = classification_report(Test_Y, Test_Y_pred, output_dict=True)\n",
    "\n",
    "for sentiment, scores in report.items():\n",
    "    if sentiment != 'accuracy' and sentiment != 'macro avg' and sentiment != 'weighted avg':\n",
    "        print()\n",
    "        print(f\"Sentiment: {sentiment}\")\n",
    "        print(f\"Precision: {scores['precision']:.2f}\")\n",
    "        print(f\"Recall: {scores['recall']:.2f}\")\n",
    "        print(f\"F1-score: {scores['f1-score']:.2f}\")\n",
    "        print(f\"Support: {scores['support']:.2f}\")      \n",
    "        print()\n"
   ]
  },
  {
   "cell_type": "markdown",
   "metadata": {},
   "source": [
    "classification metrics on the test set using the trained model. It predicts labels for the test set and computes accuracy, precision, recall, F1-score, and support for each sentiment class. The results are printed in a formatted output."
   ]
  },
  {
   "cell_type": "markdown",
   "metadata": {
    "id": "4XO7K81-zHGY"
   },
   "source": [
    "##### Plot"
   ]
  },
  {
   "cell_type": "code",
   "execution_count": 29,
   "metadata": {
    "colab": {
     "base_uri": "https://localhost:8080/",
     "height": 540
    },
    "id": "qMFzIIFarxPL",
    "outputId": "01438792-d111-4686-e73a-18f342dbba19"
   },
   "outputs": [
    {
     "data": {
      "image/png": "[encoded data removed]",
      "text/plain": [
       "<Figure size 432x288 with 1 Axes>"
      ]
     },
     "metadata": {
      "needs_background": "light"
     },
     "output_type": "display_data"
    }
   ],
   "source": [
    "fig = plt.figure()\n",
    "ax = fig.add_axes([0, 0, 1, 1])\n",
    "\n",
    "positive_count = (predicted_labels == \"positive\").sum()\n",
    "neutral_count = (predicted_labels == \"neutral\").sum()\n",
    "negative_count = (predicted_labels == \"negative\").sum()\n",
    "\n",
    "# Use integer counts instead of string labels for x-axis ticks\n",
    "Sentiment = [0, 1, 2]\n",
    "Count = [positive_count, neutral_count, negative_count]\n",
    "\n",
    "# Set the x-axis ticks and tick labels\n",
    "ax.set_xticks(Sentiment)\n",
    "ax.set_xticklabels(['Positive', 'Neutral', 'Negative'])\n",
    "\n",
    "# Plot the bars\n",
    "ax.bar(Sentiment, Count)\n",
    "\n",
    "# Add the label values above each bar\n",
    "for i, v in enumerate(Count):\n",
    "    ax.text(i, v, str(v), color='black', ha='center', va='bottom')\n",
    "\n",
    "plt.show()\n"
   ]
  },
  {
   "cell_type": "markdown",
   "metadata": {},
   "source": [
    "creates a bar chart using the predicted sentiment labels. It counts the number of positive, neutral, and negative sentiments from the predicted labels and plots them on the y-axis. The x-axis has three labels for Positive, Neutral, and Negative. Finally, it adds the label values above each bar to indicate the count of predicted sentiments for each category."
   ]
  },
  {
   "cell_type": "markdown",
   "metadata": {
    "id": "2GU_WZHczMQ0"
   },
   "source": [
    "#### Confusion Matrix and Plot"
   ]
  },
  {
   "cell_type": "code",
   "execution_count": 30,
   "metadata": {
    "colab": {
     "base_uri": "https://localhost:8080/",
     "height": 498
    },
    "id": "Z2B_Ct91taev",
    "outputId": "590b7956-e5f4-4ce9-ec60-1dfad7f7c3b7"
   },
   "outputs": [
    {
     "data": {
      "image/png": "[encoded data removed]",
      "text/plain": [
       "<Figure size 360x360 with 1 Axes>"
      ]
     },
     "metadata": {
      "needs_background": "light"
     },
     "output_type": "display_data"
    }
   ],
   "source": [
    "\n",
    "# Get the confusion matrix\n",
    "cm = confusion_matrix(preprocessed_tweets_df['Sentiment'], predicted_labels)\n",
    "\n",
    "# Plot the confusion matrix\n",
    "fig, ax = plt.subplots(figsize=(5,5))\n",
    "sns.heatmap(cm, annot=True, cmap=\"Blues\", fmt='d', cbar=False, ax=ax)\n",
    "\n",
    "# Set the tick labels for the x-axis and y-axis\n",
    "ax.set_xticklabels(['Negative', 'Neutral', 'Positive'], fontsize=12)\n",
    "ax.set_yticklabels(['Negative', 'Neutral', 'Positive'], fontsize=12)\n",
    "\n",
    "# Set the axis labels\n",
    "ax.set_xlabel(\"Predicted labels\", fontsize=14)\n",
    "ax.set_ylabel(\"True labels\", fontsize=14)\n",
    "\n",
    "# Set the title\n",
    "ax.set_title(\"Confusion Matrix\", fontsize=16)\n",
    "\n",
    "plt.show()\n"
   ]
  },
  {
   "cell_type": "markdown",
   "metadata": {},
   "source": [
    "creates a confusion matrix using the predicted sentiment labels and the actual sentiment labels of the preprocessed tweets. Firstly, it calculates the confusion matrix using \n",
    "confusion_matrix()\n",
    " function from sklearn.metrics module. Then, it plots the confusion matrix using seaborn's heatmap plot. The diagonal of the matrix represents the number of correct predictions for each class, while off-diagonal elements represent the number of misclassifications. It also sets the tick labels for x-axis and y-axis, axis labels, and title for the plot."
   ]
  },
  {
   "cell_type": "markdown",
   "metadata": {
    "id": "DnlxtbuAzTbA"
   },
   "source": [
    "# Random Forest Classifier"
   ]
  },
  {
   "cell_type": "code",
   "execution_count": 31,
   "metadata": {
    "id": "UE6cEwiQuFC0"
   },
   "outputs": [],
   "source": [
    "from sklearn.ensemble import RandomForestClassifier"
   ]
  },
  {
   "cell_type": "code",
   "execution_count": 32,
   "metadata": {
    "id": "9ZiNO_JKzlFJ"
   },
   "outputs": [],
   "source": [
    "# Create a pipeline with the Tf-IDF vector and Random Forest classifier\n",
    "model_rfc = make_pipeline(TfidfVectorizer(), RandomForestClassifier(n_estimators=100, random_state=25))\n",
    "\n",
    "# Train the model using the fit method\n",
    "model_rfc.fit(Train_X, Train_Y)\n",
    "\n",
    "# Load the preprocessed tweets and predict the sentiment\n",
    "preprocessed_tweets_df = pd.read_csv(\"preprocessed_tweets.csv\")\n",
    "preprocessed_tweets = preprocessed_tweets_df['Cleaned_Text']\n",
    "predicted_labels = model_rfc.predict(preprocessed_tweets)\n",
    "\n",
    "# Write the predicted labels to a CSV file\n",
    "preprocessed_tweets_df['Sentiment'] = predicted_labels\n",
    "preprocessed_tweets_df.to_csv('predicted_tweets_rfc.csv', index=False)\n"
   ]
  },
  {
   "cell_type": "markdown",
   "metadata": {},
   "source": [
    "creates a pipeline with TfidfVectorizer and RandomForestClassifier, trains the model on Train_X and Train_Y data, loads preprocessed tweets from the CSV file \"preprocessed_tweets.csv\", predicts the sentiment using the trained model, writes the predicted labels to a CSV file \"predicted_tweets_rfc.csv\"."
   ]
  },
  {
   "cell_type": "code",
   "execution_count": 33,
   "metadata": {},
   "outputs": [
    {
     "data": {
      "text/html": [
       "<div>\n",
       "<style scoped>\n",
       "    .dataframe tbody tr th:only-of-type {\n",
       "        vertical-align: middle;\n",
       "    }\n",
       "\n",
       "    .dataframe tbody tr th {\n",
       "        vertical-align: top;\n",
       "    }\n",
       "\n",
       "    .dataframe thead th {\n",
       "        text-align: right;\n",
       "    }\n",
       "</style>\n",
       "<table border=\"1\" class=\"dataframe\">\n",
       "  <thead>\n",
       "    <tr style=\"text-align: right;\">\n",
       "      <th></th>\n",
       "      <th>Cleaned_Text</th>\n",
       "      <th>Sentiment</th>\n",
       "    </tr>\n",
       "  </thead>\n",
       "  <tbody>\n",
       "    <tr>\n",
       "      <th>0</th>\n",
       "      <td>Charging Tesla minding business Lambo decides ...</td>\n",
       "      <td>neutral</td>\n",
       "    </tr>\n",
       "    <tr>\n",
       "      <th>1</th>\n",
       "      <td>RT Tesla real time order data could shed light...</td>\n",
       "      <td>positive</td>\n",
       "    </tr>\n",
       "    <tr>\n",
       "      <th>2</th>\n",
       "      <td>Do believe written origin tesla fool</td>\n",
       "      <td>positive</td>\n",
       "    </tr>\n",
       "    <tr>\n",
       "      <th>3</th>\n",
       "      <td>From StockheadComAu Market Highlights Tesla cr...</td>\n",
       "      <td>positive</td>\n",
       "    </tr>\n",
       "    <tr>\n",
       "      <th>4</th>\n",
       "      <td>This crazy Tesla Model 40 000 Model 37 000 via</td>\n",
       "      <td>positive</td>\n",
       "    </tr>\n",
       "  </tbody>\n",
       "</table>\n",
       "</div>"
      ],
      "text/plain": [
       "                                        Cleaned_Text Sentiment\n",
       "0  Charging Tesla minding business Lambo decides ...   neutral\n",
       "1  RT Tesla real time order data could shed light...  positive\n",
       "2               Do believe written origin tesla fool  positive\n",
       "3  From StockheadComAu Market Highlights Tesla cr...  positive\n",
       "4     This crazy Tesla Model 40 000 Model 37 000 via  positive"
      ]
     },
     "execution_count": 33,
     "metadata": {},
     "output_type": "execute_result"
    }
   ],
   "source": [
    "rfc_processed_tweets=pd.read_csv('predicted_tweets_rfc.csv')\n",
    "rfc_processed_tweets.head(5)"
   ]
  },
  {
   "cell_type": "markdown",
   "metadata": {
    "id": "9Tjx16VDzzve"
   },
   "source": [
    "#### Random Forest Classifier\n",
    "#### Results"
   ]
  },
  {
   "cell_type": "code",
   "execution_count": 34,
   "metadata": {
    "colab": {
     "base_uri": "https://localhost:8080/"
    },
    "id": "h1uR_xZMuzZs",
    "outputId": "c52fb28b-cc54-4206-d293-b213dd3eaf7c"
   },
   "outputs": [
    {
     "name": "stdout",
     "output_type": "stream",
     "text": [
      "Accuracy: 0.71\n",
      "\n",
      "Sentiment: negative\n",
      "Precision: 0.73\n",
      "Recall: 0.52\n",
      "F1-score: 0.61\n",
      "Support: 813.00\n",
      "\n",
      "\n",
      "Sentiment: neutral\n",
      "Precision: 0.68\n",
      "Recall: 0.83\n",
      "F1-score: 0.75\n",
      "Support: 864.00\n",
      "\n",
      "\n",
      "Sentiment: positive\n",
      "Precision: 0.72\n",
      "Recall: 0.75\n",
      "F1-score: 0.74\n",
      "Support: 1515.00\n",
      "\n"
     ]
    }
   ],
   "source": [
    "\n",
    "from sklearn.metrics import classification_report, accuracy_score\n",
    "Test_Y_pred = model_rfc.predict(Test_X)\n",
    "accuracy = accuracy_score(Test_Y, Test_Y_pred)\n",
    "print(f'Accuracy: {accuracy:.2f}')\n",
    "report = classification_report(Test_Y, Test_Y_pred, output_dict=True)\n",
    "for sentiment, scores in report.items():\n",
    "    if sentiment != 'accuracy' and sentiment != 'macro avg' and sentiment != 'weighted avg':\n",
    "        print()\n",
    "        print(f\"Sentiment: {sentiment}\")\n",
    "        print(f\"Precision: {scores['precision']:.2f}\")\n",
    "        print(f\"Recall: {scores['recall']:.2f}\")\n",
    "        print(f\"F1-score: {scores['f1-score']:.2f}\")\n",
    "        print(f\"Support: {scores['support']:.2f}\")      \n",
    "        print()\n"
   ]
  },
  {
   "cell_type": "markdown",
   "metadata": {},
   "source": [
    "evaluates the performance of a Random Forest Classifier model on a test set. It uses the \n",
    "classification_report()\n",
    " function and \n",
    "accuracy_score()\n",
    " function from \n",
    "sklearn.metrics\n",
    " module to calculate and print precision, recall, F1-score, support and accuracy of the classifier for each sentiment class in the test set. The output is a series of printed statements that report the performance of the Random Forest Classifier model on the test data."
   ]
  },
  {
   "cell_type": "markdown",
   "metadata": {
    "id": "sM-TeqM3z-Uo"
   },
   "source": [
    "#### Plot"
   ]
  },
  {
   "cell_type": "code",
   "execution_count": 35,
   "metadata": {
    "colab": {
     "base_uri": "https://localhost:8080/",
     "height": 540
    },
    "id": "XYsCynH90tS0",
    "outputId": "5c42e5ab-87b5-41c6-d84e-6ea9ee1362b6"
   },
   "outputs": [
    {
     "data": {
      "image/png": "[encoded data removed]",
      "text/plain": [
       "<Figure size 432x288 with 1 Axes>"
      ]
     },
     "metadata": {
      "needs_background": "light"
     },
     "output_type": "display_data"
    }
   ],
   "source": [
    "\n",
    "fig = plt.figure()\n",
    "ax = fig.add_axes([0, 0, 1, 1])\n",
    "\n",
    "positive_count = (predicted_labels == \"positive\").sum()\n",
    "neutral_count = (predicted_labels == \"neutral\").sum()\n",
    "negative_count = (predicted_labels == \"negative\").sum()\n",
    "\n",
    "# Use integer counts instead of string labels for x-axis ticks\n",
    "Sentiment = [0, 1, 2]\n",
    "Count = [positive_count, neutral_count, negative_count]\n",
    "\n",
    "# Set the x-axis ticks and tick labels\n",
    "ax.set_xticks(Sentiment)\n",
    "ax.set_xticklabels(['Positive', 'Neutral', 'Negative'])\n",
    "\n",
    "# Plot the bars\n",
    "ax.bar(Sentiment, Count)\n",
    "\n",
    "# Add the label values above each bar\n",
    "for i, v in enumerate(Count):\n",
    "    ax.text(i, v, str(v), color='black', ha='center', va='bottom')\n",
    "\n",
    "plt.show()\n",
    "\n"
   ]
  },
  {
   "cell_type": "markdown",
   "metadata": {},
   "source": [
    "creates a horizontal bar chart to display the distribution of sentiment labels in the predicted labels generated by a Random Forest classifier.\n",
    "\n",
    "fig = plt.figure()\n",
    " creates a new figure object.\n",
    "\n",
    "\n",
    "ax = fig.add_axes([0, 0, 1, 1])\n",
    " adds an axes object to the figure.\n",
    "\n",
    "\n",
    "positive_count\n",
    ", \n",
    "neutral_count\n",
    ", and \n",
    "negative_count\n",
    " are calculated as the number of tweets with each respective sentiment label in the predicted labels.\n",
    "\n",
    "\n",
    "Sentiment = [0, 1, 2]\n",
    " and \n",
    "Count = [positive_count, neutral_count, negative_count]\n",
    " set up the x-axis and y-axis values for the plot.\n",
    "\n",
    "\n",
    "ax.set_xticks(Sentiment)\n",
    " and \n",
    "ax.set_xticklabels(['Positive', 'Neutral', 'Negative'])\n",
    " set the x-axis ticks and tick labels.\n",
    "\n",
    "\n",
    "ax.bar(Sentiment, Count)\n",
    " plots the bars.\n",
    "ax.text(i, v, str(v), color='black', ha='center', va='bottom')\n",
    " adds the count values above each bar.\n",
    "\n",
    " \n",
    "plt.show()\n",
    " displays the plot."
   ]
  },
  {
   "cell_type": "markdown",
   "metadata": {
    "id": "pDi_rWYo0AWf"
   },
   "source": [
    "# confusion matrix"
   ]
  },
  {
   "cell_type": "code",
   "execution_count": 36,
   "metadata": {
    "colab": {
     "base_uri": "https://localhost:8080/",
     "height": 498
    },
    "id": "eB4JWAfRztOU",
    "outputId": "dbbd0cae-e042-4913-e9a0-87afd1cb937d"
   },
   "outputs": [
    {
     "data": {
      "image/png": "[encoded data removed]",
      "text/plain": [
       "<Figure size 360x360 with 1 Axes>"
      ]
     },
     "metadata": {
      "needs_background": "light"
     },
     "output_type": "display_data"
    }
   ],
   "source": [
    "\n",
    "# Get the confusion matrix\n",
    "cm = confusion_matrix(preprocessed_tweets_df['Sentiment'], predicted_labels)\n",
    "\n",
    "# Plot the confusion matrix\n",
    "fig, ax = plt.subplots(figsize=(5,5))\n",
    "sns.heatmap(cm, annot=True, cmap=\"Blues\", fmt='d', cbar=False, ax=ax)\n",
    "\n",
    "# Set the tick labels for the x-axis and y-axis\n",
    "ax.set_xticklabels(['Negative', 'Neutral', 'Positive'], fontsize=12)\n",
    "ax.set_yticklabels(['Negative', 'Neutral', 'Positive'], fontsize=12)\n",
    "\n",
    "# Set the axis labels\n",
    "ax.set_xlabel(\"Predicted labels\", fontsize=14)\n",
    "ax.set_ylabel(\"True labels\", fontsize=14)\n",
    "\n",
    "# Set the title\n",
    "ax.set_title(\"Confusion Matrix\", fontsize=16)\n",
    "\n",
    "plt.show()\n",
    "\n"
   ]
  },
  {
   "cell_type": "markdown",
   "metadata": {},
   "source": [
    " generates a confusion matrix plot using the \n",
    "confusion_matrix\n",
    " function from the scikit-learn library and the \n",
    "heatmap\n",
    " function from the seaborn library. It takes in the true labels from \n",
    "preprocessed_tweets_df['Sentiment']\n",
    " and the predicted labels from \n",
    "predicted_labels\n",
    ". The confusion matrix is displayed as a heatmap with annotations for each cell value, where the x-axis corresponds to the predicted labels and the y-axis corresponds to the true labels. The tick labels for both axes are set to \n",
    "['Negative', 'Neutral', 'Positive']\n",
    ", and the axis labels are set to \"Predicted labels\" and \"True labels\", respectively. Finally, the title of the plot is set to \"Confusion Matrix\"."
   ]
  },
  {
   "cell_type": "markdown",
   "metadata": {
    "id": "IBToOvCe2hH_"
   },
   "source": [
    "# **In conclusion, based on these results, the Random Forest model appears to be a better choice for this specific problem.**"
   ]
  },
  {
   "cell_type": "code",
   "execution_count": null,
   "metadata": {},
   "outputs": [],
   "source": []
  }
 ],
 "metadata": {
  "colab": {
   "provenance": []
  },
  "kernelspec": {
   "display_name": "Python 3 (ipykernel)",
   "language": "python",
   "name": "python3"
  },
  "language_info": {
   "codemirror_mode": {
    "name": "ipython",
    "version": 3
   },
   "file_extension": ".py",
   "mimetype": "text/x-python",
   "name": "python",
   "nbconvert_exporter": "python",
   "pygments_lexer": "ipython3",
   "version": "3.9.12"
  }
 },
 "nbformat": 4,
 "nbformat_minor": 1
}
